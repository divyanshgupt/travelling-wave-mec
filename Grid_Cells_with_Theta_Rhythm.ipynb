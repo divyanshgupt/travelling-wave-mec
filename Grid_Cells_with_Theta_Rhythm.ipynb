{
  "nbformat": 4,
  "nbformat_minor": 0,
  "metadata": {
    "colab": {
      "name": "Grid Cells with Theta Rhythm.ipynb",
      "provenance": [],
      "collapsed_sections": [],
      "toc_visible": true,
      "authorship_tag": "ABX9TyM+VgPvuzsmrKBj1lmAt3FC",
      "include_colab_link": true
    },
    "kernelspec": {
      "name": "python3",
      "display_name": "Python 3"
    },
    "language_info": {
      "name": "python"
    }
  },
  "cells": [
    {
      "cell_type": "markdown",
      "metadata": {
        "id": "view-in-github",
        "colab_type": "text"
      },
      "source": [
        "<a href=\"https://colab.research.google.com/github/divyanshgupt/travelling-wave-mec/blob/main/Grid_Cells_with_Theta_Rhythm.ipynb\" target=\"_parent\"><img src=\"https://colab.research.google.com/assets/colab-badge.svg\" alt=\"Open In Colab\"/></a>"
      ]
    },
    {
      "cell_type": "code",
      "metadata": {
        "id": "wgUSQR-p4XFT"
      },
      "source": [
        "import numpy as np\n",
        "from matplotlib import pyplot as plt\n",
        "import tqdm\n",
        "#import torch"
      ],
      "execution_count": 1,
      "outputs": []
    },
    {
      "cell_type": "markdown",
      "metadata": {
        "id": "UBNH7LOW4ohC"
      },
      "source": [
        "# Position Theta Phase Model from McClain et al., 2019:\n",
        "\n",
        "**Spatial Input Equation**: (Gaussian to model place cell field)\n",
        "$$ f = e^{A_x}e^{\\frac{-(x-x_0)^2}{2\\sigma^2_x}}  $$\n",
        "\n",
        "**Phase modulation equation**:\n",
        "$$ g(\\theta,x) = e^{k_\\theta(cos(\\theta - \\theta_0(x)) - 1)} $$\n",
        "\n",
        "**Phase precession equation**:\n",
        "$$ \\theta_0(x) = b_\\theta + m_\\theta(x - x_0) $$\n",
        "\n",
        "$ b_\\theta = 0 $: preferred phase at the center of the place field\n",
        "\n",
        "$ m_\\theta = 1 $: rate of phase precession\n",
        "\n",
        "**Rate** (modelled as a product of the spatial input and phase modulation equations):\n",
        "$$ r(x, \\theta) = f(x)\\bullet g(\\theta, x) $$"
      ]
    },
    {
      "cell_type": "markdown",
      "metadata": {
        "id": "vaKMBNIPVwXH"
      },
      "source": [
        "# Extension of Position Theta Phase Model for Grid Cells:\n",
        "\n",
        "**Spatial Input Equation** (von Mises tuning for grid fields):\n",
        "$$ \\Omega_j(\\vec{x}) =  n_{max}e^{\\frac{\\kappa}{3} \\Sigma_{l=1}^3(cos(\\omega \\vec{k_l}\\bullet (\\vec{x} - \\vec{c_j})) - 1)}$$\n",
        "\n",
        "**Phase modultion equation**:    \n",
        "$$ g(\\theta, \\vec{x}) = e^{k_\\theta(cos(\\theta - \\theta_0(\\vec{x}))-1)} $$\n",
        "$ k_\\theta = 1 $\n",
        "\n",
        "**Phase precession (2-D)**:\n",
        "$$ \\theta_0(\\vec{x}) = b_\\theta + m_\\theta(|\\vec{x} - \\vec{x_0}|)  $$\n",
        "\n",
        "$ b_\\theta = $\n",
        "\n",
        "$ m_\\theta $\n",
        "\n",
        "**Rate**:\n",
        "$$ r(\\vec{x}, \\theta) = f(x)\\bullet g(\\theta, \\vec{x})$$"
      ]
    },
    {
      "cell_type": "code",
      "metadata": {
        "id": "S_QIWm0NzSD0"
      },
      "source": [
        "#@title Module Generator\n",
        "\n",
        "def uniform_module(lam, nb_cells):\n",
        "  \"\"\"\n",
        "  Input:\n",
        "    lam - spatial period of the module\n",
        "    nb_cells - number of cells in the module\n",
        "  Returns:\n",
        "    Matrix of shape (cell_num_root^2, 2), containing the x & y components of the \n",
        "    preferred phase of each cell in column 1 and 2.\n",
        "  \"\"\"\n",
        "  module = np.random.uniform(low = 0, high = lam, size = (nb_cells, 2))\n",
        "  return module\n",
        "\n",
        "def test_uniform_module(lam=10, nb_cells=100):\n",
        "  module = uniform_module(lam, nb_cells)\n",
        " # print(module)\n",
        "  plt.plot(module[:, 0], module[:, 1], '.')\n",
        "  plt.title(\"Preferred Phases in the Module\")\n",
        "  plt.xlabel('x')\n",
        "  plt.ylabel('y')\n",
        "#test_uniform_module()\n"
      ],
      "execution_count": 3,
      "outputs": []
    },
    {
      "cell_type": "code",
      "metadata": {
        "id": "B0VWkdn72bSR"
      },
      "source": [
        "#@title Multi-module Generator\n",
        "\n",
        "def multi_uniform_modules(args):\n",
        "  \"\"\"\n",
        "  Generates preferred phases of cells in each module\n",
        "  Input: \n",
        "    lam: spatial period of the largest module\n",
        "    num_cells: number of cells in each module\n",
        "    s: scaling ratio of spatial periods in each module\n",
        "    num_modules: number of modules\n",
        "  Returns:\n",
        "    3-D Matrix of shape: (nb_cells, 2, nb_modules)\n",
        "  \"\"\"\n",
        "  s = args['scaling_ratio']\n",
        "  nb_modules = args['nb_modules']\n",
        "  nb_cells = args['nb_cells']\n",
        "  lam = args['lam_0']\n",
        "  modules = np.zeros((nb_cells, 2, nb_modules))\n",
        "\n",
        "  for i in range(nb_modules):\n",
        "    lam_i = lam / (s**i)\n",
        "    modules[:, :, i] = uniform_module(lam_i, nb_cells)\n",
        "  \n",
        "  return modules\n",
        "\n",
        "def test_multi_uniform_modules(lam=10, s=1.5, nb_modules=4, nb_cells=100):\n",
        "  modules = multi_uniform_modules(lam, s, nb_modules, nb_cells)\n",
        "  for i in range(nb_modules):\n",
        "    plt.plot(modules[:, 0, i], modules[:, 1, i], '.')\n",
        "    plt.xlabel('x')\n",
        "    plt.ylabel('y')\n",
        "    plt.title(\"Preferred Phases in Module \" + str(i + 1))\n",
        "    plt.show()\n",
        "\n",
        "#test_multi_uniform_modules()"
      ],
      "execution_count": 15,
      "outputs": []
    },
    {
      "cell_type": "code",
      "metadata": {
        "id": "uDCRDRig5X_N"
      },
      "source": [
        "#@title Spatial Input (von Mises)\n",
        "def von_mises(position, lam, module, args):\n",
        "  \"\"\"\n",
        "  Inputs:\n",
        "    position: x, y coordinates\n",
        "    lam: spatial period of the grid cell lattice\n",
        "    kappa: von-mises tuning-width\n",
        "    module: preffered phases of all grid cells, shape: (nb_cells, 2)\n",
        "\n",
        "  Returns:\n",
        "    values of the von-mises tuning curve for a given module\n",
        "    at the given position with the given parameters, shape: (nb_cells,)\n",
        "  \"\"\"\n",
        "  pi = np.pi\n",
        "\n",
        "  K = args['K']\n",
        "  n_max = args['n_max']\n",
        "\n",
        "  k_1 = np.array([np.cos(pi/6), np.sin(pi/6)])\n",
        "  k_2 = np.array([np.cos(pi/2), np.sin(pi/2)])\n",
        "  k_3 = np.array([np.cos(pi*5/6), np.sin(pi*5/6)])\n",
        "  plane_vectors = np.vstack((k_1, k_2, k_3)) # final shape: (3, 2)\n",
        "\n",
        "  w = 2*pi / (np.sin(pi/3)*lam)  \n",
        "\n",
        "  position_arg = position - module  # final shape: (nb_cells, 2)\n",
        "  dot_prod = plane_vectors @ position_arg.T # final shape: (3, nb_cells)\n",
        "  tuning_values = n_max*np.exp(K * np.sum(np.cos(w * dot_prod) - 1, axis=0))\n",
        "\n",
        "  return tuning_values\n",
        "\n",
        "#def test_von_mises():\n",
        "\n",
        "\n",
        "#  plt.scatter_3D()\n"
      ],
      "execution_count": 36,
      "outputs": []
    },
    {
      "cell_type": "code",
      "metadata": {
        "id": "5ypG7jBQ_izr"
      },
      "source": [
        "#@title Phase Precession\n",
        "def theta_precess(position, args):\n",
        "  \"\"\"\n",
        "  Evaluates theta_0 based on position (models phase precession)\n",
        "  Input:\n",
        "    trajectory: position coordinates, shape: (path_length, 2)\n",
        "    args: ['b_theta', 'm_theta', 'ref_pos']\n",
        "  Returns:\n",
        "    Theta_0: shape:(path_length,)\n",
        "  \"\"\"\n",
        "  b_theta = args['b_theta']\n",
        "  m_theta = args['m_theta']\n",
        "  ref_pos = args['ref_pos']\n",
        "\n",
        " # print(type(position))\n",
        "\n",
        "  theta_0 = b_theta + m_theta*(np.linalg.norm(position - ref_pos, axis=1))\n",
        "  return theta_0\n",
        "\n",
        "# the test function is wrong\n",
        "def test_theta():\n",
        "  x_coord = np.arange(0, 1000, 0.1)\n",
        "  y_coord = np.arange(0, 1000, 0.1)\n",
        "  size = len(x_coord)\n",
        "  x_y = np.zeros((size, size, 2)) # this is wrong\n",
        "  for i in range(len(x_coord)):\n",
        "    x_y[i, :, 0] = x_coord\n",
        "    x_y[i, :, 1] = y_coord\n",
        "  \n",
        "  theta_0 = theta_precess(x_y, np.zeros_like(x_y))\n",
        "  print(\"Theta shape:\", theta_0.shape)\n",
        "  plt.imshow(theta_0)\n",
        "  plt.colorbar()\n",
        "#  plt.xticks()\n",
        "\n",
        "#test_theta()"
      ],
      "execution_count": 26,
      "outputs": []
    },
    {
      "cell_type": "code",
      "metadata": {
        "id": "kT3uVuAM_CwM"
      },
      "source": [
        "#@title Phase Modulation\n",
        "def phase_modulation(theta, position, args):\n",
        "  \"\"\"\n",
        "\n",
        "  Inputs:\n",
        "    theta: theta oscillations, shape: (nb_steps,)\n",
        "    position: animal position coordinates, shape:(2,)\n",
        "    args: ['k_theta']\n",
        "  Returns:\n",
        "    g\n",
        "  \n",
        "  \"\"\"\n",
        "  k_theta = args['k_theta']\n",
        "\n",
        "  g = np.exp(k_theta*(np.cos(theta - theta_precess(position, args)) - 1))\n",
        "\n",
        "  return g\n",
        "\n",
        "#def test_phase_modulation():\n",
        "\n",
        "\n",
        "#test_phase_modualtion()"
      ],
      "execution_count": 9,
      "outputs": []
    },
    {
      "cell_type": "markdown",
      "metadata": {
        "id": "AGiKyCEpQ9Au"
      },
      "source": [
        "### Theta Oscillation Parameters:\n",
        "\n",
        "$$ f = 4-12 Hz $$\n",
        "$$ \\omega = 2\\pi f = 8\\pi - 24\\pi$$\n",
        "\n",
        "Question: What is the total phase offset from the ventral to the dorsal end? (Ref. Hernandez-perez et al., 2020)"
      ]
    },
    {
      "cell_type": "code",
      "metadata": {
        "id": "7NZcCBpPIcVa"
      },
      "source": [
        "#@title Theta Rhythm\n",
        "def theta_oscillations(args):\n",
        "  \"\"\"\n",
        "  Generates theta oscillations incorporating the traveling wave.\n",
        "  Assumption: all modules are lined up one after the other from the dorsal to\n",
        "  the ventral end\n",
        "  Inputs:\n",
        "    args: ['nb_steps', 'timestep_size', 'theta_freq', 'nb_modules']\n",
        "  Returns:\n",
        "    theta: theta values for all modules all\n",
        "           timesteps, shape:(nb_modules, nb_steps)\n",
        "  \"\"\"\n",
        "\n",
        "  nb_steps = args['nb_steps']\n",
        "  dt = args['timestep_size']\n",
        "  freq = args['theta_freq']\n",
        "  nb_modules = args['nb_modules']\n",
        "  phi = args['phase_offset']\n",
        "\n",
        "  pi = np.pi\n",
        "\n",
        "  omega = 2*pi*freq\n",
        "  T = 1 / omega # time period of oscillations\n",
        "\n",
        "  phi =  60 * pi/180# total theta phase offset from ventral to dorsal end\n",
        "\n",
        "  theta = np.zeros((nb_modules, nb_steps))\n",
        "  for i in range(nb_modules):\n",
        "    theta[i] = np.arange(i*phi/nb_modules,\n",
        "                                (i*phi/nb_modules) + (omega*dt*nb_steps),\n",
        "                                omega*dt)\n",
        "  return theta\n",
        "\n",
        "def test_theta_oscillations(nb_modules=5, nb_steps=100, timestep_size=0.01):\n",
        "  theta = theta_oscillations(nb_modules, nb_steps, timestep_size)\n",
        "  for i in range(nb_modules):\n",
        "    plt.plot(theta[i])\n",
        "    plt.title(\"Theta at Module \" + str(i + 1))\n",
        "    plt.xlabel(\"Timestep\")\n",
        "    plt.ylabel(\"Amplitude\")\n",
        "    plt.show()\n",
        "\n",
        "#test_theta_oscillations()"
      ],
      "execution_count": 20,
      "outputs": []
    },
    {
      "cell_type": "code",
      "metadata": {
        "id": "eRujjf2m4jDX"
      },
      "source": [
        "#@title Firing Activity\n",
        "\n",
        "def firing_activity(trajectory, modules, args):\n",
        "  \"\"\"\n",
        "  Generates Firing Activity for all cells in all modules for a\n",
        "  given trajectory.\n",
        "  Assumption: Neurons show independent poisson spiking\n",
        "  Inputs:\n",
        "    trajectory: 2-D matrix with x & y coordinates in column 1 and 2, for the path\n",
        "    modules - 3-D matrix with preferred phases\n",
        "              of all cells in each module, shape: (nb_cells, 2, nb_modules)\n",
        "    args: ['timestep_size', 'nb_modules', ]\n",
        "\n",
        "  Returns:\n",
        "    firing activity, shape: (nb_cells, nb_steps, nb_modules)\n",
        "  \"\"\"\n",
        "  dt = args['timestep_size']\n",
        "  nb_steps = args['nb_steps']\n",
        "  nb_modules = args['nb_modules']\n",
        "  nb_cells = args['nb_cells']\n",
        "  freq = args['theta_freq']\n",
        "  phi = args['phase_offset'] # total phase offset from dorsal to ventral end\n",
        "  lam_0 = args['lam_0']\n",
        "  s = args['scaling_ratio']\n",
        "  pi = np.pi\n",
        "\n",
        "  theta = theta_oscillations(args) # shape: (nb_modules, nb_steps)\n",
        "\n",
        "  firing_activity = np.zeros((nb_cells, nb_steps, nb_modules))\n",
        "\n",
        "  for t in range(nb_steps):\n",
        "\n",
        "    position = trajectory[t]\n",
        "\n",
        "    for j in range(nb_modules): # iterate from largest to smallest module\n",
        "      lam = lam_0/(s**j)\n",
        "      \n",
        "      g = phase_modulation(theta[j, t], position, args) # shape: (1,)\n",
        "      f = von_mises(position, lam, modules[:, :, j], args) # shape: (nb_cells,)\n",
        "      r = f * g # shape: (nb_cells,)\n",
        "      firing_activity[:, t, j] = np.random.poisson(r*dt, size=nb_cells)\n",
        "\n",
        "  return firing_activity # shape: (nb_cells, nb_steps, nb_modules)"
      ],
      "execution_count": 34,
      "outputs": []
    },
    {
      "cell_type": "code",
      "metadata": {
        "id": "EKioNMWWGBRy"
      },
      "source": [
        "#@title Args\n",
        "\n",
        "args = {'timestep_size': 0.1, # sec\n",
        "        'nb_steps': 1000, # simulation time = dt*nb_steps (secs)\n",
        "        'nb_modules': 5,\n",
        "        'nb_cells': int(1e4),\n",
        "        'lam_0': 100,  #spatial period of largest module (ventral)\n",
        "        'K': 50, # von-Mises tuning width\n",
        "        'n_max': 20, # maximum firing rate\n",
        "        'theta_freq': 8,  # Hz\n",
        "        'phase_offset': 40, # degrees \n",
        "        'scaling_ratio': 1.5,\n",
        "        'k_theta': 1,\n",
        "        'b_theta': 0,\n",
        "        'm_theta': 2*np.pi/10, # rate of theta precession\n",
        "        'ref_pos': np.array([[0, 0]]),  # reference position for theta precession\n",
        "        }"
      ],
      "execution_count": 31,
      "outputs": []
    },
    {
      "cell_type": "code",
      "metadata": {
        "id": "KBbvWqeaWxTH"
      },
      "source": [
        "#@title stationary trajectory\n",
        "def stationary_trajectory(x_coord, y_coord, args):\n",
        "  \"\"\"\n",
        "  Generates stationary trajectory for given position coordinates\n",
        "  for given nb_steps\n",
        "  Inputs:\n",
        "    x_coord:\n",
        "    y_coord:\n",
        "    args: ['nb_steps']\n",
        "  Returns:\n",
        "    trajectory: \n",
        "  \"\"\"\n",
        "  nb_steps = args['nb_steps']\n",
        "  x = x_coord * np.ones(nb_steps)\n",
        "  y = y_coord * np.ones(nb_steps)\n",
        "\n",
        "  trajectory = np.column_stack(x, y)\n",
        "\n",
        "  return trajectory\n"
      ],
      "execution_count": null,
      "outputs": []
    },
    {
      "cell_type": "code",
      "metadata": {
        "id": "azOm_O-XYNv-"
      },
      "source": [
        "def pop_decode(firing_activity, lam, args, module):\n",
        "  \"\"\"\n",
        "  Generates population vector estimate based on giving firing activity\n",
        "  of a single module\n",
        "  Inputs:\n",
        "    firing_activity - shape:(nb_cells, nb_steps)\n",
        "    args - ['']\n",
        "    module - shape: (nb_cells, 2)\n",
        "  Returns:\n",
        "    estimates - shape:(nb_steps,)\n",
        "  \"\"\"\n",
        "  nb_steps = args['nb_steps']\n",
        "\n",
        "  pi = np.pi\n",
        "\n",
        "  k_1 = np.array([np.cos(pi/6), np.sin(pi/6)])\n",
        "  k_2 = np.array([np.cos(pi/2), np.sin(pi/2)])\n",
        "  k_3 = np.array([np.cos(pi*5/6), np.sin(pi*5/6)])\n",
        "\n",
        "  plane_vectors = np.vstack((k_1, k_2, k_3)) # shape: (3, 2)\n",
        "\n",
        "  w = 2*pi/(np.sin(pi/3)*lam)\n",
        "\n",
        "  estimates = np.zeros((nb_steps))\n",
        "\n",
        "  for t in range(nb_steps):\n",
        "    pop_vector = np.sum(firing_activity[:, t] *  np.exp(1j*w*(plane_vectors @ module.T )), axis=1) # final shape: (3,)\n",
        "    mu = 1/w * np.angle(pop_vector) # shape: (3,)\n",
        "\n",
        "    estimates[t] = (2/3) * np.sum(mu * plane_vectors, axis=0) #shape: (2,)\n",
        "\n",
        "  return estimates"
      ],
      "execution_count": 42,
      "outputs": []
    },
    {
      "cell_type": "code",
      "metadata": {
        "colab": {
          "base_uri": "https://localhost:8080/",
          "height": 346
        },
        "id": "gOrBwi0icuS2",
        "outputId": "ee95d43d-4d91-47e9-b483-8b87e9b6c47d"
      },
      "source": [
        "#@title Testing Everything\n",
        "position = np.array([[3, 2]])\n",
        "print(position.shape)\n",
        "args['nb_steps'] = 1\n",
        "\n",
        "modules = multi_uniform_modules(args)\n",
        "activity = firing_activity(position, modules, args)\n",
        "\n",
        "# Estimating at Module - 0\n",
        "estimates = pop_decode(activity[:, :, 0], args['lam_0'], args, modules[:, :, 0])\n",
        "print(estimates)"
      ],
      "execution_count": 43,
      "outputs": [
        {
          "output_type": "stream",
          "name": "stdout",
          "text": [
            "(1, 2)\n"
          ]
        },
        {
          "output_type": "error",
          "ename": "ValueError",
          "evalue": "ignored",
          "traceback": [
            "\u001b[0;31m---------------------------------------------------------------------------\u001b[0m",
            "\u001b[0;31mValueError\u001b[0m                                Traceback (most recent call last)",
            "\u001b[0;32m<ipython-input-43-d16a6dd63e0b>\u001b[0m in \u001b[0;36m<module>\u001b[0;34m()\u001b[0m\n\u001b[1;32m      8\u001b[0m \u001b[0;34m\u001b[0m\u001b[0m\n\u001b[1;32m      9\u001b[0m \u001b[0;31m# Estimating at Module - 0\u001b[0m\u001b[0;34m\u001b[0m\u001b[0;34m\u001b[0m\u001b[0;34m\u001b[0m\u001b[0m\n\u001b[0;32m---> 10\u001b[0;31m \u001b[0mestimates\u001b[0m \u001b[0;34m=\u001b[0m \u001b[0mpop_decode\u001b[0m\u001b[0;34m(\u001b[0m\u001b[0mactivity\u001b[0m\u001b[0;34m[\u001b[0m\u001b[0;34m:\u001b[0m\u001b[0;34m,\u001b[0m \u001b[0;34m:\u001b[0m\u001b[0;34m,\u001b[0m \u001b[0;36m0\u001b[0m\u001b[0;34m]\u001b[0m\u001b[0;34m,\u001b[0m \u001b[0margs\u001b[0m\u001b[0;34m[\u001b[0m\u001b[0;34m'lam_0'\u001b[0m\u001b[0;34m]\u001b[0m\u001b[0;34m,\u001b[0m \u001b[0margs\u001b[0m\u001b[0;34m,\u001b[0m \u001b[0mmodules\u001b[0m\u001b[0;34m[\u001b[0m\u001b[0;34m:\u001b[0m\u001b[0;34m,\u001b[0m \u001b[0;34m:\u001b[0m\u001b[0;34m,\u001b[0m \u001b[0;36m0\u001b[0m\u001b[0;34m]\u001b[0m\u001b[0;34m)\u001b[0m\u001b[0;34m\u001b[0m\u001b[0;34m\u001b[0m\u001b[0m\n\u001b[0m\u001b[1;32m     11\u001b[0m \u001b[0mprint\u001b[0m\u001b[0;34m(\u001b[0m\u001b[0mestimates\u001b[0m\u001b[0;34m)\u001b[0m\u001b[0;34m\u001b[0m\u001b[0;34m\u001b[0m\u001b[0m\n",
            "\u001b[0;32m<ipython-input-42-dea6e60ddbfd>\u001b[0m in \u001b[0;36mpop_decode\u001b[0;34m(firing_activity, lam, args, module)\u001b[0m\n\u001b[1;32m     28\u001b[0m     \u001b[0mmu\u001b[0m \u001b[0;34m=\u001b[0m \u001b[0;36m1\u001b[0m\u001b[0;34m/\u001b[0m\u001b[0mw\u001b[0m \u001b[0;34m*\u001b[0m \u001b[0mnp\u001b[0m\u001b[0;34m.\u001b[0m\u001b[0mangle\u001b[0m\u001b[0;34m(\u001b[0m\u001b[0mpop_vector\u001b[0m\u001b[0;34m)\u001b[0m \u001b[0;31m# shape: (3,)\u001b[0m\u001b[0;34m\u001b[0m\u001b[0;34m\u001b[0m\u001b[0m\n\u001b[1;32m     29\u001b[0m \u001b[0;34m\u001b[0m\u001b[0m\n\u001b[0;32m---> 30\u001b[0;31m     \u001b[0mestimates\u001b[0m\u001b[0;34m[\u001b[0m\u001b[0mt\u001b[0m\u001b[0;34m]\u001b[0m \u001b[0;34m=\u001b[0m \u001b[0;34m(\u001b[0m\u001b[0;36m2\u001b[0m\u001b[0;34m/\u001b[0m\u001b[0;36m3\u001b[0m\u001b[0;34m)\u001b[0m \u001b[0;34m*\u001b[0m \u001b[0mnp\u001b[0m\u001b[0;34m.\u001b[0m\u001b[0msum\u001b[0m\u001b[0;34m(\u001b[0m\u001b[0mmu\u001b[0m \u001b[0;34m*\u001b[0m \u001b[0mplane_vectors\u001b[0m\u001b[0;34m,\u001b[0m \u001b[0maxis\u001b[0m\u001b[0;34m=\u001b[0m\u001b[0;36m0\u001b[0m\u001b[0;34m)\u001b[0m \u001b[0;31m#shape: (2,)\u001b[0m\u001b[0;34m\u001b[0m\u001b[0;34m\u001b[0m\u001b[0m\n\u001b[0m\u001b[1;32m     31\u001b[0m \u001b[0;34m\u001b[0m\u001b[0m\n\u001b[1;32m     32\u001b[0m   \u001b[0;32mreturn\u001b[0m \u001b[0mestimates\u001b[0m\u001b[0;34m\u001b[0m\u001b[0;34m\u001b[0m\u001b[0m\n",
            "\u001b[0;31mValueError\u001b[0m: operands could not be broadcast together with shapes (3,) (3,2) "
          ]
        }
      ]
    }
  ]
}
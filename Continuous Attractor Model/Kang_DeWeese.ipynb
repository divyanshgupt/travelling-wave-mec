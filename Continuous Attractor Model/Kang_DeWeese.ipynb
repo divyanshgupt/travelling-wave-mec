{
 "cells": [
  {
   "cell_type": "code",
   "execution_count": 1,
   "metadata": {},
   "outputs": [],
   "source": [
    "from brian2 import *\n",
    "#import numpy as np\n",
    "# from matplotlib import pyplot as plt\n",
    "from tqdm import tqdm\n",
    "%matplotlib inline"
   ]
  },
  {
   "cell_type": "markdown",
   "metadata": {},
   "source": [
    "Excitatory Neurons:\n",
    "$$ \\tau_m^+ \\frac{\\phi^P(\\vec r, t+\\Delta t)  - \\phi^p(\\vec r, t)}{\\Delta t} + \\phi^P(\\vec r, t) = \\Sigma_{P', \\vec r'} w^+(\\vec r - \\vec r' - \\xi \\vec e^P)s^{P'}(\\vec r', t - \\tau_s^{++}) + \\Sigma_{\\vec r'}w^-(\\vec r - \\vec r')s^-(\\vec r', t - \\tau_s^-) + a^+(\\vec r)[1 + \\alpha E^P \\bullet V(t)] + \\zeta^P(\\vec r, t)  $$\n",
    "\n",
    "Inhibitory Neurons:\n",
    "$$ \\tau_m^+ \\frac{\\phi^-(\\vec r, t+\\Delta t)  - \\phi^-(\\vec r, t)}{\\Delta t} + \\phi^-(\\vec r, t) = \\Sigma_{P', \\vec r'} w^+(\\vec r - \\vec r' - \\xi \\vec e^P)s^{P'}(\\vec r', t - \\tau_s^{++}) + a^-(t) + \\zeta^-(\\vec r, t)  $$\n",
    "\n",
    "Synaptic connectivity from excitatory to all neurons\n",
    "$$ w^+(\\vec r) = \\begin{cases}\n",
    "                w_{mag} ^+{\\frac{1 + cos(\\pi r/r_{w^+})}{2}}& \\text{; } r < rw+\\\\\n",
    "                0          & \\text{; } r\\geq rw+\n",
    "         \\end{cases}\n",
    "                $$\n",
    "Synaptic connectivity from inhibitory to excitatory neurons\n",
    "$$ w^-(\\vec r) = \\begin{cases}\n",
    "                -w_{mag} ^-{\\frac{1 + cos(\\pi r/r_{w^+})}{2}}& \\text{; } r < 2rw-\\\\\n",
    "                0          & \\text{; } r\\geq 2rw-\n",
    "         \\end{cases}\n",
    "                $$\n",
    "\n",
    "$$ a^+(\\vec r) = \\begin{cases}\n",
    "                -a_{min}^+ + (a^+_{max} - a^+_{min})^{\\frac{1 + cos(\\pi \\rho /\\rho_{a^+})}{2}}& \\text{; } \\rho < \\rho a+\\\\\n",
    "                a_{min}^+          & \\text{; } \\rho \\geq \\rho a+.\n",
    "         \\end{cases}\n",
    "                $$\n",
    "\n",
    "$$ a^-(t) = a_{mag}^- - a_{th}^-cos(t\\pi ft + \\psi_0)  $$\n",
    "\n",
    "$$ \\rho = \\frac{\\sqrt{(x - \\frac{n+1/2}{2}^2 + (y - \\frac{n+1}{2}^2)}}{n/2} $$"
   ]
  },
  {
   "cell_type": "code",
   "execution_count": 2,
   "metadata": {},
   "outputs": [],
   "source": [
    "start_scope() # creat a new scope\n",
    "\n",
    "# Parameters\n",
    "N = 232 * 232 # Neurons per population\n",
    "N = 100 * 100\n",
    "\n",
    "tau_m_plus = 40*ms # Exc. membrane time constant\n",
    "tau_m_minus = 20*ms # Inh. membrane time constant\n",
    "tau_s_plus_plus = 5*ms # Exc.-to-exc. synaptic delay\n",
    "tau_s_minus_plus = 2*ms # Exc.-to-inh. synaptic delay\n",
    "tau_s_minus = 2*ms # Inh. synaptic delay\n",
    "a_max_plus = 2 # Exc. drive maximum\n",
    "a_min_plus = 0.8 # Exc. drive minimum\n",
    "rho_a_plus = 1.2 # Exc. drive scaled speed\n",
    "a_mag_minus = 0.72 # Inh. drive magnitude\n",
    "a_th_minus = 0.2 # Inh. drive theta amplitude\n",
    "f = 8*hertz # Inh. drive theta frequency\n",
    "w_mag_plus = 0.2 # Exc. synaptic strength\n",
    "r_w_plus = 6 # Exc. synaptic spread\n",
    "w_mag_minus = 2.8 # Inh. synaptic strength\n",
    "r_w_minus = 12 # Inh. synaptic distance\n",
    "xi = 3 # Exc. synaptic shift\n",
    "alpha = 0.25*second/metre # Exc. velocity gain\n",
    "var_zeta_P = 0.002**2 # Exc. noise magnitude\n",
    "var_zeta_I = 0.002**2 # Inh. noise magnitude\n",
    "\n",
    "\n",
    "duration = 1000*ms\n"
   ]
  },
  {
   "cell_type": "code",
   "execution_count": 3,
   "metadata": {},
   "outputs": [],
   "source": [
    "defaultclock.dt = 0.1*ms"
   ]
  },
  {
   "cell_type": "markdown",
   "metadata": {},
   "source": [
    "### Velocity Inputs (Based on Rat Trajectory):\n",
    "Two options:\n",
    "1. Simulate the inputs (as done by Mittal & Narayanan, 2021)\n",
    "2. Differentiate rat trajectories (as done by Burak & Fiete, 2009 and used in Kang & DeWeese 2019)\n"
   ]
  },
  {
   "cell_type": "code",
   "execution_count": 4,
   "metadata": {},
   "outputs": [],
   "source": [
    "@check_units(dir_x = metre, dir_y = metre, V = metre/second, result= metre/second)\n",
    "def dot_product(dir_x, dir_y, V):\n",
    "    dir = [dir_x, dir_y]\n",
    "    product = dot(dir, V)\n",
    "    print(product)\n",
    "    return product * metre / second\n"
   ]
  },
  {
   "cell_type": "code",
   "execution_count": 5,
   "metadata": {},
   "outputs": [
    {
     "name": "stdout",
     "output_type": "stream",
     "text": [
      "13.0\n"
     ]
    },
    {
     "data": {
      "text/latex": [
       "$13.0\\,\\frac{\\mathrm{m}}{\\mathrm{s}}$"
      ],
      "text/plain": [
       "13. * metre / second"
      ]
     },
     "execution_count": 5,
     "metadata": {},
     "output_type": "execute_result"
    }
   ],
   "source": [
    "dot_product(3 * metre, 2*metre, [1, 5]*metre/second)"
   ]
  },
  {
   "cell_type": "code",
   "execution_count": 6,
   "metadata": {},
   "outputs": [],
   "source": [
    "eqns_exc_n = '''\n",
    "\n",
    "x = i % sqrt(N) * metre : metre\n",
    "y = i // sqrt(N) * metre : metre\n",
    "\n",
    "# Specify preferred direction\n",
    "dir_x = 0 * metre : metre\n",
    "dir_y = 1 * metre: metre\n",
    "\n",
    "# Distance from centre\n",
    "rho = rho_value(x / metre, y / metre, N) : metre\n",
    "\n",
    "a_plus = a_plus_value(rho / metre) : 1\n",
    "\n",
    "dv/dt = -v/tau_m_plus  + var_zeta_P*xi*tau_m_plus**-0.5 + a_plus*(1 + alpha*dot_product(dir_x, dir_y, V(t)))/tau_m_plus : 1\n",
    "\n",
    "'''\n",
    "\n",
    "eqns_exc_s = '''\n",
    "\n",
    "x = i % sqrt(N) * metre : metre\n",
    "y = i // sqrt(N) * metre : metre\n",
    "\n",
    "# Specify preferred direction\n",
    "dir_x = 0 * metre : metre\n",
    "dir_y = -1 * metre : metre\n",
    "\n",
    "# Distance from centre\n",
    "rho = rho_value(x / metre, y / metre, N) : metre\n",
    "\n",
    "a_plus = a_plus_value(rho / metre) : 1\n",
    "\n",
    "dv/dt = -v/tau_m_plus  + var_zeta_P*xi*tau_m_plus**-0.5 + a_plus*(1 + alpha*dot_product(dir_x, dir_y, V(t)))/tau_m_plus : 1\n",
    "'''\n",
    "\n",
    "eqns_exc_e = '''\n",
    "\n",
    "x = i % sqrt(N) * metre : metre\n",
    "y = i // sqrt(N) * metre : metre\n",
    "\n",
    "# Specify preferred direction\n",
    "dir_x = 1 * metre : metre\n",
    "dir_y = 0 * metre : metre\n",
    "\n",
    "# Distance from centre\n",
    "rho = rho_value(x / metre, y / metre, N) : metre\n",
    "\n",
    "a_plus = a_plus_value(rho / metre) : 1\n",
    "\n",
    "dv/dt = -v/tau_m_plus  + var_zeta_P*xi*tau_m_plus**-0.5 + a_plus*(1 + alpha*dot_product(dir_x, dir_y, V(t)))/tau_m_plus : 1\n",
    "'''\n",
    "\n",
    "eqns_exc_w = '''\n",
    "\n",
    "x = i % sqrt(N) * metre : metre\n",
    "y = i // sqrt(N) * metre : metre\n",
    "\n",
    "# Specify preferred direction\n",
    "dir_x = -1 * metre : metre\n",
    "dir_y = 0 * metre : metre\n",
    "\n",
    "# Distance from centre\n",
    "rho = rho_value(x / metre, y / metre, N) : metre\n",
    "\n",
    "a_plus = a_plus_value(rho / metre) : 1\n",
    "\n",
    "dv/dt = -v/tau_m_plus  + var_zeta_P*xi*tau_m_plus**-0.5 + a_plus*(1 + alpha*dot_product(dir_x, dir_y, V(t)))/tau_m_plus : 1\n",
    "'''\n",
    "\n",
    "\n",
    "\"\"\" \n",
    "eqns_exc = '''\n",
    "\n",
    "dv/dt = -v/tau_m_plus  + var_zeta_P*xi*tau_m_plus**-0.5 + a_plus/tau_m_plus : 1\n",
    "\n",
    "'''  \"\"\"\n",
    "\n",
    "eqns_inh = '''\n",
    "\n",
    "x = i % sqrt(N) : metre\n",
    "y = i // sqrt(N) : metre\n",
    "\n",
    "dv/dt = -(v - a_minus)/tau_m_minus + var_zeta_I*xi*tau_m_minus**-0.5 : 1\n",
    "a_minus = a_mag_minus - a_th_minus*cos(2*pi*f*t): 1\n",
    "\n",
    "'''\n",
    "\n",
    "reset = '''\n",
    "v = 0\n",
    "'''\n"
   ]
  },
  {
   "cell_type": "code",
   "execution_count": 26,
   "metadata": {},
   "outputs": [],
   "source": [
    "eqns_exc_n = '''\n",
    "\n",
    "x = i % sqrt(N) : metre\n",
    "y = i // sqrt(N) : metre\n",
    "dir = [0, 1] * metre\n",
    "rho = rho_value(x / metre, y / metre, N) : metre\n",
    "a_plus = a_plus_value(rho / metre) : 1\n",
    "dv/dt = -v/tau_m_plus  + var_zeta_P*xi*tau_m_plus**-0.5 + a_plus*(1 + alpha*dot_product(dir(i), V(t)))/tau_m_plus : 1\n",
    "\n",
    "'''\n",
    "\"\"\" \n",
    "eqns_exc = '''\n",
    "\n",
    "dv/dt = -v/tau_m_plus  + var_zeta_P*xi*tau_m_plus**-0.5 + a_plus/tau_m_plus : 1\n",
    "\n",
    "'''  \"\"\"\n",
    "\n",
    "eqns_inh = '''\n",
    "\n",
    "x = i % sqrt(N) : metre\n",
    "y = i // sqrt(N) : metre\n",
    "\n",
    "dv/dt = -(v - a_minus)/tau_m_minus + var_zeta_I*xi*tau_m_minus**-0.5 : 1\n",
    "a_minus = a_mag_minus - a_th_minus*cos(2*pi*f*t): 1\n",
    "\n",
    "'''\n",
    "\n",
    "reset = '''\n",
    "v = 0\n",
    "'''\n"
   ]
  },
  {
   "cell_type": "code",
   "execution_count": 7,
   "metadata": {},
   "outputs": [],
   "source": [
    "\n",
    "#@check_units(i = 1, result = [metre for x in range(len(i))])\n",
    "@check_units(i = 1, N = 1, result = metre)\n",
    "def location_x(i, N):\n",
    "    x = i % N\n",
    "    return x * metre\n",
    "\n",
    "@check_units(i = 1, N = 1, result = metre)\n",
    "def location_y(i, N):\n",
    "    y = i // N\n",
    "    return y * metre\n",
    "\n",
    "@check_units(x = 1, y = 1, N = 1, result = metre)\n",
    "def rho_value(x, y, N):\n",
    "\n",
    "    value = sqrt(((x - ((N+1)/2))**2 + (y - ((N+1)/2))**2)/(N/2))\n",
    "\n",
    "    return value * metre\n",
    "\n",
    "@check_units(rho = 1, result = 1)\n",
    "def a_plus_value(rho):\n",
    "\n",
    "    value = a_min_plus * ones_like(rho)\n",
    "    for i in range(len(rho)):\n",
    "        if rho[i] < rho_a_plus:\n",
    "            value[i] = (a_max_plus - a_min_plus) * (1 - cos(pi*rho[i]/rho_a_plus))\n",
    "    return value\n",
    "\n",
    "@check_units(x = 1, y = 1, result = metre)\n",
    "def dir_array(x, y, N):\n",
    "    x_array = x * ones(N)\n",
    "    y_array = y * ones(N)\n",
    "\n",
    "    return column_stack((x_array, y_array)) * metre"
   ]
  },
  {
   "cell_type": "code",
   "execution_count": 8,
   "metadata": {},
   "outputs": [],
   "source": [
    "# Neural Populations\n",
    "\n",
    "## North\n",
    "P_n = NeuronGroup(N, eqns_exc_n, threshold='v > 1', reset=reset, method='euler')\n",
    "P_n.v = 'rand()'\n",
    "\n",
    "## South\n",
    "P_s = NeuronGroup(N, eqns_exc_s, threshold='v > 1', reset=reset, method='euler')\n",
    "P_s.v = 'rand()'\n",
    "\n",
    "## East\n",
    "P_e = NeuronGroup(N, eqns_exc_e, threshold='v > 1', reset=reset, method='euler')\n",
    "P_e.v = 'rand()'\n",
    "\n",
    "## West\n",
    "P_w = NeuronGroup(N, eqns_exc_w, threshold='v > 1', reset=reset, method='euler' )\n",
    "P_w.v = 'rand()'\n",
    "\n",
    "## Inhibitory\n",
    "P_i = NeuronGroup(N, eqns_inh, threshold='v > 1', reset=reset, method='euler' )\n",
    "P_i.v = 'rand()'\n",
    "\n",
    "M_n = SpikeMonitor(P_n)\n",
    "M_s = SpikeMonitor(P_s)\n",
    "M_e = SpikeMonitor(P_e)\n",
    "M_w = SpikeMonitor(P_w)\n",
    "\n"
   ]
  },
  {
   "cell_type": "code",
   "execution_count": 9,
   "metadata": {},
   "outputs": [
    {
     "data": {
      "text/plain": [
       "<neurongroup.dir_x: 0. * metre>"
      ]
     },
     "execution_count": 9,
     "metadata": {},
     "output_type": "execute_result"
    }
   ],
   "source": [
    "P_n.dir_x"
   ]
  },
  {
   "cell_type": "code",
   "execution_count": 10,
   "metadata": {},
   "outputs": [
    {
     "name": "stdout",
     "output_type": "stream",
     "text": [
      "N : <Constant(dimensions=Dimension(),  dtype=int64, scalar=True, constant=True, read_only=True)>\n",
      "_spikespace : <ArrayVariable(dimensions=Dimension(),  dtype=int32, scalar=False, constant=False, read_only=False)>\n",
      "a_plus : <Subexpression(name='a_plus', dimensions=Dimension(), dtype=<class 'numpy.float64'>, expr='a_plus_value(rho / metre)', owner=<neurongroup>)>\n",
      "dir_x : <Subexpression(name='dir_x', dimensions=metre, dtype=<class 'numpy.float64'>, expr='0 * metre', owner=<neurongroup>)>\n",
      "dir_y : <Subexpression(name='dir_y', dimensions=metre, dtype=<class 'numpy.float64'>, expr='1 * metre', owner=<neurongroup>)>\n",
      "dt : <ArrayVariable(dimensions=second,  dtype=float, scalar=True, constant=True, read_only=True)>\n",
      "i : <ArrayVariable(dimensions=Dimension(),  dtype=int32, scalar=False, constant=True, read_only=True)>\n",
      "rho : <Subexpression(name='rho', dimensions=metre, dtype=<class 'numpy.float64'>, expr='rho_value(x / metre, y / metre, N)', owner=<neurongroup>)>\n",
      "t : <ArrayVariable(dimensions=second,  dtype=float64, scalar=True, constant=False, read_only=True)>\n",
      "t_in_timesteps : <ArrayVariable(dimensions=Dimension(),  dtype=int64, scalar=True, constant=False, read_only=True)>\n",
      "v : <ArrayVariable(dimensions=Dimension(),  dtype=float64, scalar=False, constant=False, read_only=False)>\n",
      "x : <Subexpression(name='x', dimensions=metre, dtype=<class 'numpy.float64'>, expr='i % sqrt(N) * metre', owner=<neurongroup>)>\n",
      "xi : <AuxiliaryVariable(dimensions=second ** -0.5,  dtype=float64, scalar=False, constant=False, read_only=False)>\n",
      "y : <Subexpression(name='y', dimensions=metre, dtype=<class 'numpy.float64'>, expr='i // sqrt(N) * metre', owner=<neurongroup>)>\n"
     ]
    }
   ],
   "source": [
    "for name, var in sorted(P_n.variables.items()):\n",
    "    print('%s : %s' % (name, var))  "
   ]
  },
  {
   "cell_type": "code",
   "execution_count": 17,
   "metadata": {},
   "outputs": [
    {
     "ename": "AttributeError",
     "evalue": "Cannot add an attribute \"x\", it is already a state variable of this group.",
     "output_type": "error",
     "traceback": [
      "\u001b[0;31m---------------------------------------------------------------------------\u001b[0m",
      "\u001b[0;31mAttributeError\u001b[0m                            Traceback (most recent call last)",
      "\u001b[0;32m/tmp/ipykernel_5512/3268429427.py\u001b[0m in \u001b[0;36m<module>\u001b[0;34m\u001b[0m\n\u001b[1;32m      3\u001b[0m \u001b[0;31m## North\u001b[0m\u001b[0;34m\u001b[0m\u001b[0;34m\u001b[0m\u001b[0m\n\u001b[1;32m      4\u001b[0m \u001b[0mP_n\u001b[0m \u001b[0;34m=\u001b[0m \u001b[0mNeuronGroup\u001b[0m\u001b[0;34m(\u001b[0m\u001b[0mN\u001b[0m\u001b[0;34m,\u001b[0m \u001b[0meqns_exc\u001b[0m\u001b[0;34m,\u001b[0m \u001b[0mthreshold\u001b[0m\u001b[0;34m=\u001b[0m\u001b[0;34m'v > 1'\u001b[0m\u001b[0;34m,\u001b[0m \u001b[0mreset\u001b[0m\u001b[0;34m=\u001b[0m\u001b[0mreset\u001b[0m\u001b[0;34m,\u001b[0m \u001b[0mmethod\u001b[0m\u001b[0;34m=\u001b[0m\u001b[0;34m'euler'\u001b[0m\u001b[0;34m)\u001b[0m\u001b[0;34m\u001b[0m\u001b[0;34m\u001b[0m\u001b[0m\n\u001b[0;32m----> 5\u001b[0;31m \u001b[0mP_n\u001b[0m\u001b[0;34m.\u001b[0m\u001b[0madd_attribute\u001b[0m\u001b[0;34m(\u001b[0m\u001b[0;34m'x'\u001b[0m\u001b[0;34m)\u001b[0m\u001b[0;34m\u001b[0m\u001b[0;34m\u001b[0m\u001b[0m\n\u001b[0m\u001b[1;32m      6\u001b[0m \u001b[0mP_n\u001b[0m\u001b[0;34m.\u001b[0m\u001b[0madd_attribute\u001b[0m\u001b[0;34m(\u001b[0m\u001b[0;34m'y'\u001b[0m\u001b[0;34m)\u001b[0m\u001b[0;34m\u001b[0m\u001b[0;34m\u001b[0m\u001b[0m\n\u001b[1;32m      7\u001b[0m \u001b[0mP_n\u001b[0m\u001b[0;34m.\u001b[0m\u001b[0madd_attribute\u001b[0m\u001b[0;34m(\u001b[0m\u001b[0;34m'dir'\u001b[0m\u001b[0;34m)\u001b[0m\u001b[0;34m\u001b[0m\u001b[0;34m\u001b[0m\u001b[0m\n",
      "\u001b[0;32m~/anaconda3/lib/python3.9/site-packages/brian2/groups/group.py\u001b[0m in \u001b[0;36madd_attribute\u001b[0;34m(self, name)\u001b[0m\n\u001b[1;32m    477\u001b[0m         '''\n\u001b[1;32m    478\u001b[0m         \u001b[0;32mif\u001b[0m \u001b[0mname\u001b[0m \u001b[0;32min\u001b[0m \u001b[0mself\u001b[0m\u001b[0;34m.\u001b[0m\u001b[0mvariables\u001b[0m\u001b[0;34m:\u001b[0m\u001b[0;34m\u001b[0m\u001b[0;34m\u001b[0m\u001b[0m\n\u001b[0;32m--> 479\u001b[0;31m             raise AttributeError('Cannot add an attribute \"%s\", it is already '\n\u001b[0m\u001b[1;32m    480\u001b[0m                                  'a state variable of this group.' % name)\n\u001b[1;32m    481\u001b[0m         \u001b[0;32mif\u001b[0m \u001b[0mhasattr\u001b[0m\u001b[0;34m(\u001b[0m\u001b[0mself\u001b[0m\u001b[0;34m,\u001b[0m \u001b[0mname\u001b[0m\u001b[0;34m)\u001b[0m\u001b[0;34m:\u001b[0m\u001b[0;34m\u001b[0m\u001b[0;34m\u001b[0m\u001b[0m\n",
      "\u001b[0;31mAttributeError\u001b[0m: Cannot add an attribute \"x\", it is already a state variable of this group."
     ]
    }
   ],
   "source": [
    "# Neural Populations\n",
    "\n",
    "## North\n",
    "P_n = NeuronGroup(N, eqns_exc, threshold='v > 1', reset=reset, method='euler')\n",
    "P_n.add_attribute('x')\n",
    "P_n.add_attribute('y')\n",
    "P_n.add_attribute('dir')\n",
    "P_n.add_attribute('rho')\n",
    "P_n.add_attribute('a_plus')\n",
    "P_n.add_attribute('r')\n",
    "\n",
    "# (P_n.x, P_n.y) = 'location(i)'\n",
    "P_n.x = location_x(P_n.i[:], sqrt(P_n.N))\n",
    "P_n.y = location_y(P_n.i[:], sqrt(P_n.N))\n",
    "\"\"\" P_n.x = 'i % 232' # will assign x-values from 0 to 231 repeatedly\n",
    "P_n.y = 'i//232' # will assign y-value 0 to first 232 cells and so on\n",
    "P_n.rho = 'sqrt((x - ((n+1)/2))**2 + (y - ((n+1)/2))**2)/(N/2)'\n",
    "P_n.a_plus = 'where(rho < rho_a_plus, a_min_plus + (a_max_plus - a_min_plus)*(1 - cos(pi*rho/rho_a_plus)), a_min_plus)'\n",
    "\n",
    "\"\"\"\n",
    "# P_n.dir = [0, 1] * metre # North\n",
    "P_n.dir = dir_array(0, 1, P_n.N)\n",
    "P_n.rho = rho(P_n.x/metre, P_n.y/metre, sqrt(P_n.N))\n",
    "P_n.a_plus = a_plus(P_n.rho[:]/metre)\n",
    "P_n.v = 'rand()'\n",
    "\n",
    "## South\n",
    "P_s = NeuronGroup(N, eqns_exc, threshold='v > 1', reset=reset, method='euler')\n",
    "P_s.add_attribute('x')\n",
    "P_s.add_attribute('y')\n",
    "P_s.add_attribute('dir')\n",
    "P_s.add_attribute('rho')\n",
    "P_s.add_attribute('a_plus')\n",
    "P_s.x = location_x(P_s.i[:], sqrt(P_s.N))\n",
    "P_s.y = location_y(P_s.i[:], sqrt(P_s.N))\n",
    "P_s.dir = dir_array(0, -1, P_s.N)\n",
    "P_s.rho = rho(P_s.x/metre, P_s.y/metre, sqrt(P_s.N))\n",
    "P_s.a_plus = a_plus(P_s.rho[:]/metre)\n",
    "P_s.v = 'rand()'\n",
    "\n",
    "\n",
    "## East\n",
    "P_e = NeuronGroup(N, eqns_exc, threshold='v > 1', reset=reset, method='euler')\n",
    "P_e.add_attribute('x')\n",
    "P_e.add_attribute('y')\n",
    "P_e.add_attribute('dir')\n",
    "P_e.add_attribute('rho')\n",
    "P_e.add_attribute('a_plus')\n",
    "P_e.x = location_x(P_e.i[:], sqrt(P_e.N))\n",
    "P_e.y = location_y(P_e.i[:], sqrt(P_e.N))\n",
    "P_e.dir = dir_array(1, 0, P_e.N)\n",
    "P_e.rho = rho(P_e.x/metre, P_e.y/metre, sqrt(P_e.N))\n",
    "P_e.a_plus = a_plus(P_e.rho[:]/metre)\n",
    "P_e.v = 'rand()'\n",
    "\n",
    "\n",
    "## West\n",
    "P_w = NeuronGroup(N, eqns_exc, threshold='v > 1', reset=reset, method='euler' )\n",
    "P_w.add_attribute('x')\n",
    "P_w.add_attribute('y')\n",
    "P_w.add_attribute('dir')\n",
    "P_w.add_attribute('rho')\n",
    "P_w.add_attribute('a_plus')\n",
    "P_w.x = location_x(P_w.i[:], sqrt(P_w.N))\n",
    "P_w.y = location_y(P_w.i[:], sqrt(P_w.N))\n",
    "P_w.dir = dir_array(-1, 0, P_w.N)\n",
    "P_w.rho = rho(P_w.x/metre, P_w.y/metre, sqrt(P_w.N))\n",
    "P_w.a_plus = a_plus(P_w.rho[:]/metre)\n",
    "P_w.v = 'rand()'\n",
    "\n",
    "\n",
    "## Inhibitory\n",
    "P_i = NeuronGroup(N, eqns_inh, threshold='v > 1', reset=reset, method='euler' )\n",
    "P_i.add_attribute('x')\n",
    "P_i.add_attribute('y')\n",
    "\n",
    "P_i.x = location_x(P_i.i[:], sqrt(P_i.N))\n",
    "P_i.y = location_y(P_i.i[:], sqrt(P_i.N))\n",
    "#P_i.a_minus = 'a_mag_minus - a_th_minus*cos(2*pi*f'\n",
    "P_i.v = 'rand()'\n",
    "\n",
    "M_n = SpikeMonitor(P_n)\n",
    "M_s = SpikeMonitor(P_s)\n",
    "M_e = SpikeMonitor(P_e)\n",
    "M_w = SpikeMonitor(P_w)\n",
    "\n"
   ]
  },
  {
   "cell_type": "markdown",
   "metadata": {},
   "source": [
    "P_n.v"
   ]
  },
  {
   "cell_type": "markdown",
   "metadata": {},
   "source": [
    "### Synaptic Connectivity Matrix\n",
    "Synaptic connectivity from excitatory to all neurons\n",
    "$$ w^+(\\vec r) = \\begin{cases}\n",
    "                w_{mag} ^+{\\frac{1 + cos(\\pi r/r_{w^+})}{2}}& \\text{; } r < rw+\\\\\n",
    "                0          & \\text{; } r\\geq rw+\n",
    "         \\end{cases}\n",
    "                $$\n",
    "Synaptic connectivity from inhibitory to excitatory neurons\n",
    "$$ w^-(\\vec r) = \\begin{cases}\n",
    "                -w_{mag} ^-{\\frac{1 + cos(\\pi r/r_{w^+})}{2}}& \\text{; } r < 2rw-\\\\\n",
    "                0          & \\text{; } r\\geq 2rw-\n",
    "         \\end{cases}\n",
    "                $$"
   ]
  },
  {
   "cell_type": "code",
   "execution_count": 39,
   "metadata": {},
   "outputs": [],
   "source": [
    "def exc_to_any_connectivity(N, dir_x, dir_y, same_pop=False):\n",
    "    \"\"\"\n",
    "    Sets up the connectivity matrix between two excitatory populations.\n",
    "    N - number of neurons in each population\n",
    "    dir - directional tuning vector of pre_synaptic population\n",
    "    \"\"\"\n",
    "    connectivity = empty((N, N))\n",
    "   # dir = eval(dir) # convert string representation to list\n",
    "    for i in range(N): # looping over source neurons\n",
    "        i_x = i % N\n",
    "        i_y = i // N\n",
    "        for j in range(N): # looping over target neurons\n",
    "            j_x = j % N\n",
    "            j_y = j % N\n",
    "            \n",
    "            if same_pop and i ==  j:\n",
    "                connectivity[i, j] = 0\n",
    "            else:\n",
    "                connectivity[i, j] = w_mag_plus**(1 + cos(pi*sqrt((j_x - i_x - xi*dir_x)**2 + (j_y - i_y - xi*dir_y)**2)))\n",
    "\n",
    "    return connectivity.flatten()\n",
    "\n",
    "\n",
    "def inh_to_exc_connectivity(N):\n",
    "    \"\"\"\n",
    "    Sets up the connectivity matrix between two excitatory populations.\n",
    "    N - number of neurons in each population\n",
    "    dir - directional tuning vector of pre_synaptic population\n",
    "    \"\"\"\n",
    "    connectivity = empty((N, N))\n",
    "\n",
    "    for i in range(N): # looping over source neurons\n",
    "        i_x = i % N\n",
    "        i_y = i // N\n",
    "        for j in range(N):\n",
    "            j_x = j % N\n",
    "            j_y = j % N\n",
    "\n",
    "            connectivity[i, j] = w_mag_minus**(1 + cos(pi*sqrt((j_x - i_x)**2 + (j_y - i_y)**2)))\n",
    "\n",
    "    return connectivity.flatten()"
   ]
  },
  {
   "cell_type": "code",
   "execution_count": 40,
   "metadata": {},
   "outputs": [
    {
     "name": "stderr",
     "output_type": "stream",
     "text": [
      "WARNING    \"i\" is an internal variable of group \"synapses\", but also exists in the run namespace with the value 0. The internal variable will be used. [brian2.groups.group.Group.resolve.resolution_conflict]\n"
     ]
    },
    {
     "name": "stdout",
     "output_type": "stream",
     "text": [
      "Setting up exc-->exc connections\n",
      "Source po|pulation: neurongroup\n",
      "Target population: NeuronGroup(clock=Clock(dt=100. * usecond, name='defaultclock'), when=start, order=0, name='neurongroup')\n",
      "Target population: NeuronGroup(clock=Clock(dt=100. * usecond, name='defaultclock'), when=start, order=0, name='neurongroup_1')\n",
      "Target population: NeuronGroup(clock=Clock(dt=100. * usecond, name='defaultclock'), when=start, order=0, name='neurongroup_2')\n",
      "Target population: NeuronGroup(clock=Clock(dt=100. * usecond, name='defaultclock'), when=start, order=0, name='neurongroup_3')\n"
     ]
    },
    {
     "name": "stderr",
     "output_type": "stream",
     "text": [
      "WARNING    \"i\" is an internal variable of group \"synapses_6\", but also exists in the run namespace with the value 0. The internal variable will be used. [brian2.groups.group.Group.resolve.resolution_conflict]\n"
     ]
    },
    {
     "name": "stdout",
     "output_type": "stream",
     "text": [
      "Source po|pulation: neurongroup_1\n",
      "Target population: NeuronGroup(clock=Clock(dt=100. * usecond, name='defaultclock'), when=start, order=0, name='neurongroup')\n",
      "Target population: NeuronGroup(clock=Clock(dt=100. * usecond, name='defaultclock'), when=start, order=0, name='neurongroup_1')\n",
      "Target population: NeuronGroup(clock=Clock(dt=100. * usecond, name='defaultclock'), when=start, order=0, name='neurongroup_2')\n",
      "Target population: NeuronGroup(clock=Clock(dt=100. * usecond, name='defaultclock'), when=start, order=0, name='neurongroup_3')\n",
      "Source po|pulation: neurongroup_2\n",
      "Target population: NeuronGroup(clock=Clock(dt=100. * usecond, name='defaultclock'), when=start, order=0, name='neurongroup')\n",
      "Target population: NeuronGroup(clock=Clock(dt=100. * usecond, name='defaultclock'), when=start, order=0, name='neurongroup_1')\n"
     ]
    },
    {
     "name": "stderr",
     "output_type": "stream",
     "text": [
      "WARNING    \"i\" is an internal variable of group \"synapses_11\", but also exists in the run namespace with the value 0. The internal variable will be used. [brian2.groups.group.Group.resolve.resolution_conflict]\n"
     ]
    },
    {
     "name": "stdout",
     "output_type": "stream",
     "text": [
      "Target population: NeuronGroup(clock=Clock(dt=100. * usecond, name='defaultclock'), when=start, order=0, name='neurongroup_2')\n",
      "Target population: NeuronGroup(clock=Clock(dt=100. * usecond, name='defaultclock'), when=start, order=0, name='neurongroup_3')\n",
      "Source po|pulation: neurongroup_3\n",
      "Target population: NeuronGroup(clock=Clock(dt=100. * usecond, name='defaultclock'), when=start, order=0, name='neurongroup')\n",
      "Target population: NeuronGroup(clock=Clock(dt=100. * usecond, name='defaultclock'), when=start, order=0, name='neurongroup_1')\n"
     ]
    },
    {
     "name": "stderr",
     "output_type": "stream",
     "text": [
      "WARNING    \"i\" is an internal variable of group \"synapses_16\", but also exists in the run namespace with the value 0. The internal variable will be used. [brian2.groups.group.Group.resolve.resolution_conflict]\n"
     ]
    },
    {
     "name": "stdout",
     "output_type": "stream",
     "text": [
      "Target population: NeuronGroup(clock=Clock(dt=100. * usecond, name='defaultclock'), when=start, order=0, name='neurongroup_2')\n",
      "Target population: NeuronGroup(clock=Clock(dt=100. * usecond, name='defaultclock'), when=start, order=0, name='neurongroup_3')\n",
      "Setting up exc-->inh connections\n",
      "Setting up inh-->exc connections\n"
     ]
    }
   ],
   "source": [
    "S = [] # to store  the 25 synapse classes\n",
    "exc_populations = [P_n, P_s, P_e, P_w]\n",
    "all_populations = [P_n, P_s, P_e, P_w, P_i]\n",
    "index = 0\n",
    "\n",
    "# Set connections from excitatory to excitatory populations: (Total 16 iterations)\n",
    "print(\"Setting up exc-->exc connections\")\n",
    "for src in exc_populations:\n",
    "    print(\"Source po|pulation:\", src.name)\n",
    "    for trg in exc_populations:\n",
    "        print(\"Target population:\", trg)\n",
    "        S.append(Synapses(src, trg, 'w: 1', on_pre='v_post += w'))\n",
    "        if src == trg: # connection within the population     \n",
    "            S[index].connect(condition='i!=j') # if connection within population, don't connect neurons to themselves\n",
    "            # connectivity = exc_to_any_connectivity(N, src.dir, same_pop=True)\n",
    "            # S[index].w = 'connectivity[i, j]'\n",
    "            S[index].w = delete(exc_to_any_connectivity(N, src.dir_x/metre, src.dir_y/metre, same_pop=True).flatten(), range(0, N*N, N+1), 0) # deletes diagonal entries of connectivity before assigning it to weights\n",
    "        else:\n",
    "            S[index].connect() # if connections are between two populations, connect all neurons\n",
    "            # connectivity = exc_to_any_connectivity(N, src.dir)\n",
    "            # S[index].w = 'connectivity[i, j]'\n",
    "            S[index].w = exc_to_any_connectivity(N, src.dir_x/metre, src.dir_y/metre).flatten()\n",
    "        S[index].delay = 'tau_s_plus_plus'\n",
    "        index += 1\n",
    "\n",
    "# Set connections from excitatory to inhibitory population: (Total 4 iterations)\n",
    "print(\"Setting up exc-->inh connections\")\n",
    "for i in exc_populations:\n",
    "    S.append(Synapses(i, P_i, 'w:1', on_pre='v_post += w'))\n",
    "    S[index].connect()\n",
    "    # connectivity = exc_to_any_connectivity(N, src.dir)\n",
    "    # S[index].w = 'connectivity[i, j]'\n",
    "    S[index].w = exc_to_any_connectivity(N, src.dir_x/metre, src.dir_y/metre).flatten()\n",
    "    S[index].delay = 'tau_s_minus_plus'\n",
    "    index += 1    \n",
    "\n",
    "# Set connections from inhibitory to excitatory neurons: (Total 4 iterations)\n",
    "print(\"Setting up inh-->exc connections\")\n",
    "for i in exc_populations:\n",
    "    S.append(Synapses(P_i, i, 'w:1', on_pre='v_post += w'))\n",
    "    S[index].connect()\n",
    "    # connectivity = inh_to_exc_connectivity(N)\n",
    "    # S[index].w = 'connectivity[i, j]'\n",
    "    S[index].w = inh_to_exc_connectivity(N).flatten()\n",
    "    S[index].delay = 'tau_s_minus'\n",
    "    index += 1\n",
    "\n",
    "# The inhibitory population doesn't have recurrent connections within itself\n",
    "\n"
   ]
  },
  {
   "cell_type": "markdown",
   "metadata": {},
   "source": [
    "### Simulation Protocol\n",
    "* Each neuron initialised to a random potential between 0 & 1\n",
    "* 500 timesteps without velocity input to generate grid like pattern\n",
    "* 3 evolutions of timesteps with constant velocity input of 0.5m/sec at angles $\\pi/2 - \\pi/5, 2\\pi/5, and \\pi/4$ successively.\n",
    "* Evolve the network for 4 laps without idle periods. (What is a lap?)"
   ]
  },
  {
   "cell_type": "markdown",
   "metadata": {},
   "source": [
    "Where to get the velocity inputs from?"
   ]
  },
  {
   "cell_type": "markdown",
   "metadata": {},
   "source": [
    "### Plot grid cell activity"
   ]
  },
  {
   "cell_type": "markdown",
   "metadata": {},
   "source": [
    "Ways to do this:\n",
    "1. Bin spiking activity in some time window and plot as heatmap on top of neural sheet (for any particular timewindow)\n",
    "2. "
   ]
  },
  {
   "cell_type": "code",
   "execution_count": 13,
   "metadata": {},
   "outputs": [
    {
     "name": "stderr",
     "output_type": "stream",
     "text": [
      "WARNING    /tmp/ipykernel_25839/4235351562.py:23: UserWarning: color is redundantly defined by the 'color' keyword argument and the fmt string \"ro\" (-> color='r'). The keyword argument will take precedence.\n",
      "  plot(velocity_array[0, 0], velocity_array[0, 1], 'ro', color='black', label='start')\n",
      " [py.warnings]\n",
      "WARNING    /tmp/ipykernel_25839/4235351562.py:24: UserWarning: color is redundantly defined by the 'color' keyword argument and the fmt string \"ro\" (-> color='r'). The keyword argument will take precedence.\n",
      "  plot(velocity_array[-1, 0], velocity_array[-1, 1], 'ro', color='blue', label='stop')\n",
      " [py.warnings]\n"
     ]
    },
    {
     "name": "stdout",
     "output_type": "stream",
     "text": [
      "[[ 0.01564893  0.01283585]\n",
      " [-0.00656672  0.02722576]\n",
      " [-0.01712025  0.0277123 ]\n",
      " ...\n",
      " [ 2.07670799 -6.07286022]\n",
      " [ 2.04111332 -6.11428796]\n",
      " [ 2.00955845 -6.06945261]]\n",
      "\n"
     ]
    },
    {
     "data": {
      "text/plain": [
       "<matplotlib.legend.Legend at 0x7f97cbfccc40>"
      ]
     },
     "execution_count": 13,
     "metadata": {},
     "output_type": "execute_result"
    },
    {
     "data": {
      "image/png": "[encoded data removed]",
      "text/plain": [
       "<Figure size 600x400 with 1 Axes>"
      ]
     },
     "metadata": {
      "needs_background": "light"
     },
     "output_type": "display_data"
    }
   ],
   "source": [
    "#@title Simulated Velocity Inputs:\n",
    "\n",
    "def simulate_random_velocity(duration, dt, step_size):\n",
    "    \"\"\"\n",
    "    Inputs\n",
    "    \n",
    "    \"\"\"\n",
    "    x = step_size * cumsum((random(int(duration/dt)) - 0.5))\n",
    "    y = step_size * cumsum((random(int(duration/dt)) - 0.5))\n",
    "\n",
    "    velocity = column_stack((x, y))\n",
    "\n",
    "    return velocity\n",
    "\n",
    "step_size = 0.1*metre\n",
    "dt = 0.1*ms\n",
    "velocity_array = simulate_random_velocity(duration, dt, step_size)\n",
    "print(velocity_array)\n",
    "print()\n",
    "\n",
    "figure(dpi=100)\n",
    "plot(velocity_array[:, 0], velocity_array[:, 1])\n",
    "plot(velocity_array[0, 0], velocity_array[0, 1], 'ro', color='black', label='start')\n",
    "plot(velocity_array[-1, 0], velocity_array[-1, 1], 'ro', color='blue', label='stop')\n",
    "legend()\n",
    "\n"
   ]
  },
  {
   "cell_type": "code",
   "execution_count": 14,
   "metadata": {},
   "outputs": [],
   "source": [
    "V = TimedArray(velocity_array, dt=dt)"
   ]
  },
  {
   "cell_type": "code",
   "execution_count": 15,
   "metadata": {},
   "outputs": [
    {
     "name": "stdout",
     "output_type": "stream",
     "text": [
      "Running the simulation\n"
     ]
    },
    {
     "ename": "BrianObjectException",
     "evalue": "Error encountered with object named \"neurongroup\".\nObject was created here (most recent call only, full details in debug log):\n  File \"/tmp/ipykernel_25839/1770536281.py\", line 4, in <module>\n    P_n = NeuronGroup(N, eqns_exc_n, threshold='v > 1', reset=reset, method='euler')\n\nAn error occurred when preparing an object. (See above for original error message and traceback.)",
     "output_type": "error",
     "traceback": [
      "\u001b[0;31m---------------------------------------------------------------------------\u001b[0m",
      "\u001b[0;31mSyntaxError\u001b[0m                               Traceback (most recent call last)",
      "\u001b[0;32m~/anaconda3/lib/python3.9/site-packages/brian2/core/network.py\u001b[0m in \u001b[0;36mbefore_run\u001b[0;34m(self, run_namespace)\u001b[0m\n\u001b[1;32m    896\u001b[0m                 \u001b[0;32mtry\u001b[0m\u001b[0;34m:\u001b[0m\u001b[0;34m\u001b[0m\u001b[0;34m\u001b[0m\u001b[0m\n\u001b[0;32m--> 897\u001b[0;31m                     \u001b[0mobj\u001b[0m\u001b[0;34m.\u001b[0m\u001b[0mbefore_run\u001b[0m\u001b[0;34m(\u001b[0m\u001b[0mrun_namespace\u001b[0m\u001b[0;34m)\u001b[0m\u001b[0;34m\u001b[0m\u001b[0;34m\u001b[0m\u001b[0m\n\u001b[0m\u001b[1;32m    898\u001b[0m                 \u001b[0;32mexcept\u001b[0m \u001b[0mException\u001b[0m \u001b[0;32mas\u001b[0m \u001b[0mex\u001b[0m\u001b[0;34m:\u001b[0m\u001b[0;34m\u001b[0m\u001b[0;34m\u001b[0m\u001b[0m\n",
      "\u001b[0;32m~/anaconda3/lib/python3.9/site-packages/brian2/groups/neurongroup.py\u001b[0m in \u001b[0;36mbefore_run\u001b[0;34m(self, run_namespace)\u001b[0m\n\u001b[1;32m    883\u001b[0m         \u001b[0;31m# Check units\u001b[0m\u001b[0;34m\u001b[0m\u001b[0;34m\u001b[0m\u001b[0m\n\u001b[0;32m--> 884\u001b[0;31m         \u001b[0mself\u001b[0m\u001b[0;34m.\u001b[0m\u001b[0mequations\u001b[0m\u001b[0;34m.\u001b[0m\u001b[0mcheck_units\u001b[0m\u001b[0;34m(\u001b[0m\u001b[0mself\u001b[0m\u001b[0;34m,\u001b[0m \u001b[0mrun_namespace\u001b[0m\u001b[0;34m=\u001b[0m\u001b[0mrun_namespace\u001b[0m\u001b[0;34m)\u001b[0m\u001b[0;34m\u001b[0m\u001b[0;34m\u001b[0m\u001b[0m\n\u001b[0m\u001b[1;32m    885\u001b[0m         \u001b[0;31m# Check that subexpressions that refer to stateful functions are labeled\u001b[0m\u001b[0;34m\u001b[0m\u001b[0;34m\u001b[0m\u001b[0m\n",
      "\u001b[0;32m~/anaconda3/lib/python3.9/site-packages/brian2/equations/equations.py\u001b[0m in \u001b[0;36mcheck_units\u001b[0;34m(self, group, run_namespace)\u001b[0m\n\u001b[1;32m    959\u001b[0m                 \u001b[0;32mtry\u001b[0m\u001b[0;34m:\u001b[0m\u001b[0;34m\u001b[0m\u001b[0;34m\u001b[0m\u001b[0m\n\u001b[0;32m--> 960\u001b[0;31m                     check_dimensions(str(eq.expr), self.dimensions[var] / second.dim,\n\u001b[0m\u001b[1;32m    961\u001b[0m                                      all_variables)\n",
      "\u001b[0;32m~/anaconda3/lib/python3.9/site-packages/brian2/equations/unitcheck.py\u001b[0m in \u001b[0;36mcheck_dimensions\u001b[0;34m(expression, dimensions, variables)\u001b[0m\n\u001b[1;32m     40\u001b[0m     '''\n\u001b[0;32m---> 41\u001b[0;31m     \u001b[0mexpr_dims\u001b[0m \u001b[0;34m=\u001b[0m \u001b[0mparse_expression_dimensions\u001b[0m\u001b[0;34m(\u001b[0m\u001b[0mexpression\u001b[0m\u001b[0;34m,\u001b[0m \u001b[0mvariables\u001b[0m\u001b[0;34m)\u001b[0m\u001b[0;34m\u001b[0m\u001b[0;34m\u001b[0m\u001b[0m\n\u001b[0m\u001b[1;32m     42\u001b[0m     err_msg = ('Expression {expr} does not have the '\n",
      "\u001b[0;32m~/anaconda3/lib/python3.9/site-packages/brian2/parsing/expressions.py\u001b[0m in \u001b[0;36mparse_expression_dimensions\u001b[0;34m(expr, variables, orig_expr)\u001b[0m\n\u001b[1;32m    357\u001b[0m         \u001b[0mleft_dim\u001b[0m \u001b[0;34m=\u001b[0m \u001b[0mparse_expression_dimensions\u001b[0m\u001b[0;34m(\u001b[0m\u001b[0mexpr\u001b[0m\u001b[0;34m.\u001b[0m\u001b[0mleft\u001b[0m\u001b[0;34m,\u001b[0m \u001b[0mvariables\u001b[0m\u001b[0;34m,\u001b[0m \u001b[0morig_expr\u001b[0m\u001b[0;34m=\u001b[0m\u001b[0morig_expr\u001b[0m\u001b[0;34m)\u001b[0m\u001b[0;34m\u001b[0m\u001b[0;34m\u001b[0m\u001b[0m\n\u001b[0;32m--> 358\u001b[0;31m         \u001b[0mright_dim\u001b[0m \u001b[0;34m=\u001b[0m \u001b[0mparse_expression_dimensions\u001b[0m\u001b[0;34m(\u001b[0m\u001b[0mexpr\u001b[0m\u001b[0;34m.\u001b[0m\u001b[0mright\u001b[0m\u001b[0;34m,\u001b[0m \u001b[0mvariables\u001b[0m\u001b[0;34m,\u001b[0m \u001b[0morig_expr\u001b[0m\u001b[0;34m=\u001b[0m\u001b[0morig_expr\u001b[0m\u001b[0;34m)\u001b[0m\u001b[0;34m\u001b[0m\u001b[0;34m\u001b[0m\u001b[0m\n\u001b[0m\u001b[1;32m    359\u001b[0m         \u001b[0;32mif\u001b[0m \u001b[0mop\u001b[0m \u001b[0;32min\u001b[0m \u001b[0;34m[\u001b[0m\u001b[0;34m'Add'\u001b[0m\u001b[0;34m,\u001b[0m \u001b[0;34m'Sub'\u001b[0m\u001b[0;34m,\u001b[0m \u001b[0;34m'Mod'\u001b[0m\u001b[0;34m]\u001b[0m\u001b[0;34m:\u001b[0m\u001b[0;34m\u001b[0m\u001b[0;34m\u001b[0m\u001b[0m\n",
      "\u001b[0;32m~/anaconda3/lib/python3.9/site-packages/brian2/parsing/expressions.py\u001b[0m in \u001b[0;36mparse_expression_dimensions\u001b[0;34m(expr, variables, orig_expr)\u001b[0m\n\u001b[1;32m    356\u001b[0m         \u001b[0mop\u001b[0m \u001b[0;34m=\u001b[0m \u001b[0mexpr\u001b[0m\u001b[0;34m.\u001b[0m\u001b[0mop\u001b[0m\u001b[0;34m.\u001b[0m\u001b[0m__class__\u001b[0m\u001b[0;34m.\u001b[0m\u001b[0m__name__\u001b[0m\u001b[0;34m\u001b[0m\u001b[0;34m\u001b[0m\u001b[0m\n\u001b[0;32m--> 357\u001b[0;31m         \u001b[0mleft_dim\u001b[0m \u001b[0;34m=\u001b[0m \u001b[0mparse_expression_dimensions\u001b[0m\u001b[0;34m(\u001b[0m\u001b[0mexpr\u001b[0m\u001b[0;34m.\u001b[0m\u001b[0mleft\u001b[0m\u001b[0;34m,\u001b[0m \u001b[0mvariables\u001b[0m\u001b[0;34m,\u001b[0m \u001b[0morig_expr\u001b[0m\u001b[0;34m=\u001b[0m\u001b[0morig_expr\u001b[0m\u001b[0;34m)\u001b[0m\u001b[0;34m\u001b[0m\u001b[0;34m\u001b[0m\u001b[0m\n\u001b[0m\u001b[1;32m    358\u001b[0m         \u001b[0mright_dim\u001b[0m \u001b[0;34m=\u001b[0m \u001b[0mparse_expression_dimensions\u001b[0m\u001b[0;34m(\u001b[0m\u001b[0mexpr\u001b[0m\u001b[0;34m.\u001b[0m\u001b[0mright\u001b[0m\u001b[0;34m,\u001b[0m \u001b[0mvariables\u001b[0m\u001b[0;34m,\u001b[0m \u001b[0morig_expr\u001b[0m\u001b[0;34m=\u001b[0m\u001b[0morig_expr\u001b[0m\u001b[0;34m)\u001b[0m\u001b[0;34m\u001b[0m\u001b[0;34m\u001b[0m\u001b[0m\n",
      "\u001b[0;32m~/anaconda3/lib/python3.9/site-packages/brian2/parsing/expressions.py\u001b[0m in \u001b[0;36mparse_expression_dimensions\u001b[0;34m(expr, variables, orig_expr)\u001b[0m\n\u001b[1;32m    357\u001b[0m         \u001b[0mleft_dim\u001b[0m \u001b[0;34m=\u001b[0m \u001b[0mparse_expression_dimensions\u001b[0m\u001b[0;34m(\u001b[0m\u001b[0mexpr\u001b[0m\u001b[0;34m.\u001b[0m\u001b[0mleft\u001b[0m\u001b[0;34m,\u001b[0m \u001b[0mvariables\u001b[0m\u001b[0;34m,\u001b[0m \u001b[0morig_expr\u001b[0m\u001b[0;34m=\u001b[0m\u001b[0morig_expr\u001b[0m\u001b[0;34m)\u001b[0m\u001b[0;34m\u001b[0m\u001b[0;34m\u001b[0m\u001b[0m\n\u001b[0;32m--> 358\u001b[0;31m         \u001b[0mright_dim\u001b[0m \u001b[0;34m=\u001b[0m \u001b[0mparse_expression_dimensions\u001b[0m\u001b[0;34m(\u001b[0m\u001b[0mexpr\u001b[0m\u001b[0;34m.\u001b[0m\u001b[0mright\u001b[0m\u001b[0;34m,\u001b[0m \u001b[0mvariables\u001b[0m\u001b[0;34m,\u001b[0m \u001b[0morig_expr\u001b[0m\u001b[0;34m=\u001b[0m\u001b[0morig_expr\u001b[0m\u001b[0;34m)\u001b[0m\u001b[0;34m\u001b[0m\u001b[0;34m\u001b[0m\u001b[0m\n\u001b[0m\u001b[1;32m    359\u001b[0m         \u001b[0;32mif\u001b[0m \u001b[0mop\u001b[0m \u001b[0;32min\u001b[0m \u001b[0;34m[\u001b[0m\u001b[0;34m'Add'\u001b[0m\u001b[0;34m,\u001b[0m \u001b[0;34m'Sub'\u001b[0m\u001b[0;34m,\u001b[0m \u001b[0;34m'Mod'\u001b[0m\u001b[0;34m]\u001b[0m\u001b[0;34m:\u001b[0m\u001b[0;34m\u001b[0m\u001b[0;34m\u001b[0m\u001b[0m\n",
      "\u001b[0;32m~/anaconda3/lib/python3.9/site-packages/brian2/parsing/expressions.py\u001b[0m in \u001b[0;36mparse_expression_dimensions\u001b[0;34m(expr, variables, orig_expr)\u001b[0m\n\u001b[1;32m    357\u001b[0m         \u001b[0mleft_dim\u001b[0m \u001b[0;34m=\u001b[0m \u001b[0mparse_expression_dimensions\u001b[0m\u001b[0;34m(\u001b[0m\u001b[0mexpr\u001b[0m\u001b[0;34m.\u001b[0m\u001b[0mleft\u001b[0m\u001b[0;34m,\u001b[0m \u001b[0mvariables\u001b[0m\u001b[0;34m,\u001b[0m \u001b[0morig_expr\u001b[0m\u001b[0;34m=\u001b[0m\u001b[0morig_expr\u001b[0m\u001b[0;34m)\u001b[0m\u001b[0;34m\u001b[0m\u001b[0;34m\u001b[0m\u001b[0m\n\u001b[0;32m--> 358\u001b[0;31m         \u001b[0mright_dim\u001b[0m \u001b[0;34m=\u001b[0m \u001b[0mparse_expression_dimensions\u001b[0m\u001b[0;34m(\u001b[0m\u001b[0mexpr\u001b[0m\u001b[0;34m.\u001b[0m\u001b[0mright\u001b[0m\u001b[0;34m,\u001b[0m \u001b[0mvariables\u001b[0m\u001b[0;34m,\u001b[0m \u001b[0morig_expr\u001b[0m\u001b[0;34m=\u001b[0m\u001b[0morig_expr\u001b[0m\u001b[0;34m)\u001b[0m\u001b[0;34m\u001b[0m\u001b[0;34m\u001b[0m\u001b[0m\n\u001b[0m\u001b[1;32m    359\u001b[0m         \u001b[0;32mif\u001b[0m \u001b[0mop\u001b[0m \u001b[0;32min\u001b[0m \u001b[0;34m[\u001b[0m\u001b[0;34m'Add'\u001b[0m\u001b[0;34m,\u001b[0m \u001b[0;34m'Sub'\u001b[0m\u001b[0;34m,\u001b[0m \u001b[0;34m'Mod'\u001b[0m\u001b[0;34m]\u001b[0m\u001b[0;34m:\u001b[0m\u001b[0;34m\u001b[0m\u001b[0;34m\u001b[0m\u001b[0m\n",
      "\u001b[0;32m~/anaconda3/lib/python3.9/site-packages/brian2/parsing/expressions.py\u001b[0m in \u001b[0;36mparse_expression_dimensions\u001b[0;34m(expr, variables, orig_expr)\u001b[0m\n\u001b[1;32m    357\u001b[0m         \u001b[0mleft_dim\u001b[0m \u001b[0;34m=\u001b[0m \u001b[0mparse_expression_dimensions\u001b[0m\u001b[0;34m(\u001b[0m\u001b[0mexpr\u001b[0m\u001b[0;34m.\u001b[0m\u001b[0mleft\u001b[0m\u001b[0;34m,\u001b[0m \u001b[0mvariables\u001b[0m\u001b[0;34m,\u001b[0m \u001b[0morig_expr\u001b[0m\u001b[0;34m=\u001b[0m\u001b[0morig_expr\u001b[0m\u001b[0;34m)\u001b[0m\u001b[0;34m\u001b[0m\u001b[0;34m\u001b[0m\u001b[0m\n\u001b[0;32m--> 358\u001b[0;31m         \u001b[0mright_dim\u001b[0m \u001b[0;34m=\u001b[0m \u001b[0mparse_expression_dimensions\u001b[0m\u001b[0;34m(\u001b[0m\u001b[0mexpr\u001b[0m\u001b[0;34m.\u001b[0m\u001b[0mright\u001b[0m\u001b[0;34m,\u001b[0m \u001b[0mvariables\u001b[0m\u001b[0;34m,\u001b[0m \u001b[0morig_expr\u001b[0m\u001b[0;34m=\u001b[0m\u001b[0morig_expr\u001b[0m\u001b[0;34m)\u001b[0m\u001b[0;34m\u001b[0m\u001b[0;34m\u001b[0m\u001b[0m\n\u001b[0m\u001b[1;32m    359\u001b[0m         \u001b[0;32mif\u001b[0m \u001b[0mop\u001b[0m \u001b[0;32min\u001b[0m \u001b[0;34m[\u001b[0m\u001b[0;34m'Add'\u001b[0m\u001b[0;34m,\u001b[0m \u001b[0;34m'Sub'\u001b[0m\u001b[0;34m,\u001b[0m \u001b[0;34m'Mod'\u001b[0m\u001b[0;34m]\u001b[0m\u001b[0;34m:\u001b[0m\u001b[0;34m\u001b[0m\u001b[0;34m\u001b[0m\u001b[0m\n",
      "\u001b[0;32m~/anaconda3/lib/python3.9/site-packages/brian2/parsing/expressions.py\u001b[0m in \u001b[0;36mparse_expression_dimensions\u001b[0;34m(expr, variables, orig_expr)\u001b[0m\n\u001b[1;32m    307\u001b[0m                                                        func._arg_units)):\n\u001b[0;32m--> 308\u001b[0;31m             arg_unit = parse_expression_dimensions(arg, variables,\n\u001b[0m\u001b[1;32m    309\u001b[0m                                                    orig_expr=orig_expr)\n",
      "\u001b[0;32m~/anaconda3/lib/python3.9/site-packages/brian2/parsing/expressions.py\u001b[0m in \u001b[0;36mparse_expression_dimensions\u001b[0;34m(expr, variables, orig_expr)\u001b[0m\n\u001b[1;32m    294\u001b[0m         \u001b[0;32mif\u001b[0m \u001b[0mlen\u001b[0m\u001b[0;34m(\u001b[0m\u001b[0mfunc\u001b[0m\u001b[0;34m.\u001b[0m\u001b[0m_arg_units\u001b[0m\u001b[0;34m)\u001b[0m \u001b[0;34m!=\u001b[0m \u001b[0mlen\u001b[0m\u001b[0;34m(\u001b[0m\u001b[0mexpr\u001b[0m\u001b[0;34m.\u001b[0m\u001b[0margs\u001b[0m\u001b[0;34m)\u001b[0m\u001b[0;34m:\u001b[0m\u001b[0;34m\u001b[0m\u001b[0;34m\u001b[0m\u001b[0m\n\u001b[0;32m--> 295\u001b[0;31m             raise SyntaxError('Function %s was called with %d parameters, '\n\u001b[0m\u001b[1;32m    296\u001b[0m                               'needs %d.' % (expr.func.id,\n",
      "\u001b[0;31mSyntaxError\u001b[0m: Function V was called with 1 parameters, needs 2. (<string>, line 1)",
      "\nThe above exception was the direct cause of the following exception:\n",
      "\u001b[0;31mBrianObjectException\u001b[0m                      Traceback (most recent call last)",
      "\u001b[0;32m/tmp/ipykernel_25839/3311927747.py\u001b[0m in \u001b[0;36m<module>\u001b[0;34m\u001b[0m\n\u001b[1;32m      1\u001b[0m \u001b[0mprint\u001b[0m\u001b[0;34m(\u001b[0m\u001b[0;34m\"Running the simulation\"\u001b[0m\u001b[0;34m)\u001b[0m\u001b[0;34m\u001b[0m\u001b[0;34m\u001b[0m\u001b[0m\n\u001b[0;32m----> 2\u001b[0;31m \u001b[0mrun\u001b[0m\u001b[0;34m(\u001b[0m\u001b[0mduration\u001b[0m\u001b[0;34m)\u001b[0m\u001b[0;34m\u001b[0m\u001b[0;34m\u001b[0m\u001b[0m\n\u001b[0m",
      "\u001b[0;32m~/anaconda3/lib/python3.9/site-packages/brian2/units/fundamentalunits.py\u001b[0m in \u001b[0;36mnew_f\u001b[0;34m(*args, **kwds)\u001b[0m\n\u001b[1;32m   2432\u001b[0m                                                      get_dimensions(newkeyset[k]))\n\u001b[1;32m   2433\u001b[0m \u001b[0;34m\u001b[0m\u001b[0m\n\u001b[0;32m-> 2434\u001b[0;31m             \u001b[0mresult\u001b[0m \u001b[0;34m=\u001b[0m \u001b[0mf\u001b[0m\u001b[0;34m(\u001b[0m\u001b[0;34m*\u001b[0m\u001b[0margs\u001b[0m\u001b[0;34m,\u001b[0m \u001b[0;34m**\u001b[0m\u001b[0mkwds\u001b[0m\u001b[0;34m)\u001b[0m\u001b[0;34m\u001b[0m\u001b[0;34m\u001b[0m\u001b[0m\n\u001b[0m\u001b[1;32m   2435\u001b[0m             \u001b[0;32mif\u001b[0m \u001b[0;34m'result'\u001b[0m \u001b[0;32min\u001b[0m \u001b[0mau\u001b[0m\u001b[0;34m:\u001b[0m\u001b[0;34m\u001b[0m\u001b[0;34m\u001b[0m\u001b[0m\n\u001b[1;32m   2436\u001b[0m                 \u001b[0;32mif\u001b[0m \u001b[0misinstance\u001b[0m\u001b[0;34m(\u001b[0m\u001b[0mau\u001b[0m\u001b[0;34m[\u001b[0m\u001b[0;34m'result'\u001b[0m\u001b[0;34m]\u001b[0m\u001b[0;34m,\u001b[0m \u001b[0mCallable\u001b[0m\u001b[0;34m)\u001b[0m \u001b[0;32mand\u001b[0m \u001b[0mau\u001b[0m\u001b[0;34m[\u001b[0m\u001b[0;34m'result'\u001b[0m\u001b[0;34m]\u001b[0m \u001b[0;34m!=\u001b[0m \u001b[0mbool\u001b[0m\u001b[0;34m:\u001b[0m\u001b[0;34m\u001b[0m\u001b[0;34m\u001b[0m\u001b[0m\n",
      "\u001b[0;32m~/anaconda3/lib/python3.9/site-packages/brian2/core/magic.py\u001b[0m in \u001b[0;36mrun\u001b[0;34m(duration, report, report_period, namespace, profile, level)\u001b[0m\n\u001b[1;32m    371\u001b[0m         \u001b[0mintended\u001b[0m \u001b[0muse\u001b[0m\u001b[0;34m.\u001b[0m \u001b[0mSee\u001b[0m\u001b[0;31m \u001b[0m\u001b[0;31m`\u001b[0m\u001b[0mMagicNetwork\u001b[0m\u001b[0;31m`\u001b[0m \u001b[0;32mfor\u001b[0m \u001b[0mmore\u001b[0m \u001b[0mdetails\u001b[0m\u001b[0;34m.\u001b[0m\u001b[0;34m\u001b[0m\u001b[0;34m\u001b[0m\u001b[0m\n\u001b[1;32m    372\u001b[0m     '''\n\u001b[0;32m--> 373\u001b[0;31m     return magic_network.run(duration, report=report, report_period=report_period,\n\u001b[0m\u001b[1;32m    374\u001b[0m                              namespace=namespace, profile=profile, level=2+level)\n\u001b[1;32m    375\u001b[0m \u001b[0mrun\u001b[0m\u001b[0;34m.\u001b[0m\u001b[0m__module__\u001b[0m \u001b[0;34m=\u001b[0m \u001b[0m__name__\u001b[0m\u001b[0;34m\u001b[0m\u001b[0;34m\u001b[0m\u001b[0m\n",
      "\u001b[0;32m~/anaconda3/lib/python3.9/site-packages/brian2/core/magic.py\u001b[0m in \u001b[0;36mrun\u001b[0;34m(self, duration, report, report_period, namespace, profile, level)\u001b[0m\n\u001b[1;32m    229\u001b[0m             namespace=None, profile=False, level=0):\n\u001b[1;32m    230\u001b[0m         \u001b[0mself\u001b[0m\u001b[0;34m.\u001b[0m\u001b[0m_update_magic_objects\u001b[0m\u001b[0;34m(\u001b[0m\u001b[0mlevel\u001b[0m\u001b[0;34m=\u001b[0m\u001b[0mlevel\u001b[0m\u001b[0;34m+\u001b[0m\u001b[0;36m1\u001b[0m\u001b[0;34m)\u001b[0m\u001b[0;34m\u001b[0m\u001b[0;34m\u001b[0m\u001b[0m\n\u001b[0;32m--> 231\u001b[0;31m         Network.run(self, duration, report=report, report_period=report_period,\n\u001b[0m\u001b[1;32m    232\u001b[0m                     namespace=namespace, profile=profile, level=level+1)\n\u001b[1;32m    233\u001b[0m \u001b[0;34m\u001b[0m\u001b[0m\n",
      "\u001b[0;32m~/anaconda3/lib/python3.9/site-packages/brian2/core/base.py\u001b[0m in \u001b[0;36mdevice_override_decorated_function\u001b[0;34m(*args, **kwds)\u001b[0m\n\u001b[1;32m    276\u001b[0m                 \u001b[0;32mreturn\u001b[0m \u001b[0mgetattr\u001b[0m\u001b[0;34m(\u001b[0m\u001b[0mcurdev\u001b[0m\u001b[0;34m,\u001b[0m \u001b[0mname\u001b[0m\u001b[0;34m)\u001b[0m\u001b[0;34m(\u001b[0m\u001b[0;34m*\u001b[0m\u001b[0margs\u001b[0m\u001b[0;34m,\u001b[0m \u001b[0;34m**\u001b[0m\u001b[0mkwds\u001b[0m\u001b[0;34m)\u001b[0m\u001b[0;34m\u001b[0m\u001b[0;34m\u001b[0m\u001b[0m\n\u001b[1;32m    277\u001b[0m             \u001b[0;32melse\u001b[0m\u001b[0;34m:\u001b[0m\u001b[0;34m\u001b[0m\u001b[0;34m\u001b[0m\u001b[0m\n\u001b[0;32m--> 278\u001b[0;31m                 \u001b[0;32mreturn\u001b[0m \u001b[0mfunc\u001b[0m\u001b[0;34m(\u001b[0m\u001b[0;34m*\u001b[0m\u001b[0margs\u001b[0m\u001b[0;34m,\u001b[0m \u001b[0;34m**\u001b[0m\u001b[0mkwds\u001b[0m\u001b[0;34m)\u001b[0m\u001b[0;34m\u001b[0m\u001b[0;34m\u001b[0m\u001b[0m\n\u001b[0m\u001b[1;32m    279\u001b[0m \u001b[0;34m\u001b[0m\u001b[0m\n\u001b[1;32m    280\u001b[0m         \u001b[0mdevice_override_decorated_function\u001b[0m\u001b[0;34m.\u001b[0m\u001b[0m__doc__\u001b[0m \u001b[0;34m=\u001b[0m \u001b[0mfunc\u001b[0m\u001b[0;34m.\u001b[0m\u001b[0m__doc__\u001b[0m\u001b[0;34m\u001b[0m\u001b[0;34m\u001b[0m\u001b[0m\n",
      "\u001b[0;32m~/anaconda3/lib/python3.9/site-packages/brian2/units/fundamentalunits.py\u001b[0m in \u001b[0;36mnew_f\u001b[0;34m(*args, **kwds)\u001b[0m\n\u001b[1;32m   2432\u001b[0m                                                      get_dimensions(newkeyset[k]))\n\u001b[1;32m   2433\u001b[0m \u001b[0;34m\u001b[0m\u001b[0m\n\u001b[0;32m-> 2434\u001b[0;31m             \u001b[0mresult\u001b[0m \u001b[0;34m=\u001b[0m \u001b[0mf\u001b[0m\u001b[0;34m(\u001b[0m\u001b[0;34m*\u001b[0m\u001b[0margs\u001b[0m\u001b[0;34m,\u001b[0m \u001b[0;34m**\u001b[0m\u001b[0mkwds\u001b[0m\u001b[0;34m)\u001b[0m\u001b[0;34m\u001b[0m\u001b[0;34m\u001b[0m\u001b[0m\n\u001b[0m\u001b[1;32m   2435\u001b[0m             \u001b[0;32mif\u001b[0m \u001b[0;34m'result'\u001b[0m \u001b[0;32min\u001b[0m \u001b[0mau\u001b[0m\u001b[0;34m:\u001b[0m\u001b[0;34m\u001b[0m\u001b[0;34m\u001b[0m\u001b[0m\n\u001b[1;32m   2436\u001b[0m                 \u001b[0;32mif\u001b[0m \u001b[0misinstance\u001b[0m\u001b[0;34m(\u001b[0m\u001b[0mau\u001b[0m\u001b[0;34m[\u001b[0m\u001b[0;34m'result'\u001b[0m\u001b[0;34m]\u001b[0m\u001b[0;34m,\u001b[0m \u001b[0mCallable\u001b[0m\u001b[0;34m)\u001b[0m \u001b[0;32mand\u001b[0m \u001b[0mau\u001b[0m\u001b[0;34m[\u001b[0m\u001b[0;34m'result'\u001b[0m\u001b[0;34m]\u001b[0m \u001b[0;34m!=\u001b[0m \u001b[0mbool\u001b[0m\u001b[0;34m:\u001b[0m\u001b[0;34m\u001b[0m\u001b[0;34m\u001b[0m\u001b[0m\n",
      "\u001b[0;32m~/anaconda3/lib/python3.9/site-packages/brian2/core/network.py\u001b[0m in \u001b[0;36mrun\u001b[0;34m(self, duration, report, report_period, namespace, profile, level)\u001b[0m\n\u001b[1;32m   1006\u001b[0m             \u001b[0mnamespace\u001b[0m \u001b[0;34m=\u001b[0m \u001b[0mget_local_namespace\u001b[0m\u001b[0;34m(\u001b[0m\u001b[0mlevel\u001b[0m\u001b[0;34m=\u001b[0m\u001b[0mlevel\u001b[0m\u001b[0;34m+\u001b[0m\u001b[0;36m3\u001b[0m\u001b[0;34m)\u001b[0m\u001b[0;34m\u001b[0m\u001b[0;34m\u001b[0m\u001b[0m\n\u001b[1;32m   1007\u001b[0m \u001b[0;34m\u001b[0m\u001b[0m\n\u001b[0;32m-> 1008\u001b[0;31m         \u001b[0mself\u001b[0m\u001b[0;34m.\u001b[0m\u001b[0mbefore_run\u001b[0m\u001b[0;34m(\u001b[0m\u001b[0mnamespace\u001b[0m\u001b[0;34m)\u001b[0m\u001b[0;34m\u001b[0m\u001b[0;34m\u001b[0m\u001b[0m\n\u001b[0m\u001b[1;32m   1009\u001b[0m \u001b[0;34m\u001b[0m\u001b[0m\n\u001b[1;32m   1010\u001b[0m         \u001b[0;32mif\u001b[0m \u001b[0mlen\u001b[0m\u001b[0;34m(\u001b[0m\u001b[0mall_objects\u001b[0m\u001b[0;34m)\u001b[0m \u001b[0;34m==\u001b[0m \u001b[0;36m0\u001b[0m\u001b[0;34m:\u001b[0m\u001b[0;34m\u001b[0m\u001b[0;34m\u001b[0m\u001b[0m\n",
      "\u001b[0;32m~/anaconda3/lib/python3.9/site-packages/brian2/core/base.py\u001b[0m in \u001b[0;36mdevice_override_decorated_function\u001b[0;34m(*args, **kwds)\u001b[0m\n\u001b[1;32m    276\u001b[0m                 \u001b[0;32mreturn\u001b[0m \u001b[0mgetattr\u001b[0m\u001b[0;34m(\u001b[0m\u001b[0mcurdev\u001b[0m\u001b[0;34m,\u001b[0m \u001b[0mname\u001b[0m\u001b[0;34m)\u001b[0m\u001b[0;34m(\u001b[0m\u001b[0;34m*\u001b[0m\u001b[0margs\u001b[0m\u001b[0;34m,\u001b[0m \u001b[0;34m**\u001b[0m\u001b[0mkwds\u001b[0m\u001b[0;34m)\u001b[0m\u001b[0;34m\u001b[0m\u001b[0;34m\u001b[0m\u001b[0m\n\u001b[1;32m    277\u001b[0m             \u001b[0;32melse\u001b[0m\u001b[0;34m:\u001b[0m\u001b[0;34m\u001b[0m\u001b[0;34m\u001b[0m\u001b[0m\n\u001b[0;32m--> 278\u001b[0;31m                 \u001b[0;32mreturn\u001b[0m \u001b[0mfunc\u001b[0m\u001b[0;34m(\u001b[0m\u001b[0;34m*\u001b[0m\u001b[0margs\u001b[0m\u001b[0;34m,\u001b[0m \u001b[0;34m**\u001b[0m\u001b[0mkwds\u001b[0m\u001b[0;34m)\u001b[0m\u001b[0;34m\u001b[0m\u001b[0;34m\u001b[0m\u001b[0m\n\u001b[0m\u001b[1;32m    279\u001b[0m \u001b[0;34m\u001b[0m\u001b[0m\n\u001b[1;32m    280\u001b[0m         \u001b[0mdevice_override_decorated_function\u001b[0m\u001b[0;34m.\u001b[0m\u001b[0m__doc__\u001b[0m \u001b[0;34m=\u001b[0m \u001b[0mfunc\u001b[0m\u001b[0;34m.\u001b[0m\u001b[0m__doc__\u001b[0m\u001b[0;34m\u001b[0m\u001b[0;34m\u001b[0m\u001b[0m\n",
      "\u001b[0;32m~/anaconda3/lib/python3.9/site-packages/brian2/core/network.py\u001b[0m in \u001b[0;36mbefore_run\u001b[0;34m(self, run_namespace)\u001b[0m\n\u001b[1;32m    897\u001b[0m                     \u001b[0mobj\u001b[0m\u001b[0;34m.\u001b[0m\u001b[0mbefore_run\u001b[0m\u001b[0;34m(\u001b[0m\u001b[0mrun_namespace\u001b[0m\u001b[0;34m)\u001b[0m\u001b[0;34m\u001b[0m\u001b[0;34m\u001b[0m\u001b[0m\n\u001b[1;32m    898\u001b[0m                 \u001b[0;32mexcept\u001b[0m \u001b[0mException\u001b[0m \u001b[0;32mas\u001b[0m \u001b[0mex\u001b[0m\u001b[0;34m:\u001b[0m\u001b[0;34m\u001b[0m\u001b[0;34m\u001b[0m\u001b[0m\n\u001b[0;32m--> 899\u001b[0;31m                     \u001b[0;32mraise\u001b[0m \u001b[0mBrianObjectException\u001b[0m\u001b[0;34m(\u001b[0m\u001b[0;34m\"An error occurred when preparing an object.\"\u001b[0m\u001b[0;34m,\u001b[0m \u001b[0mobj\u001b[0m\u001b[0;34m)\u001b[0m \u001b[0;32mfrom\u001b[0m \u001b[0mex\u001b[0m\u001b[0;34m\u001b[0m\u001b[0;34m\u001b[0m\u001b[0m\n\u001b[0m\u001b[1;32m    900\u001b[0m \u001b[0;34m\u001b[0m\u001b[0m\n\u001b[1;32m    901\u001b[0m         \u001b[0;31m# Check that no object has been run as part of another network before\u001b[0m\u001b[0;34m\u001b[0m\u001b[0;34m\u001b[0m\u001b[0m\n",
      "\u001b[0;31mBrianObjectException\u001b[0m: Error encountered with object named \"neurongroup\".\nObject was created here (most recent call only, full details in debug log):\n  File \"/tmp/ipykernel_25839/1770536281.py\", line 4, in <module>\n    P_n = NeuronGroup(N, eqns_exc_n, threshold='v > 1', reset=reset, method='euler')\n\nAn error occurred when preparing an object. (See above for original error message and traceback.)"
     ]
    }
   ],
   "source": [
    "print(\"Running the simulation\")\n",
    "run(duration)"
   ]
  },
  {
   "cell_type": "markdown",
   "metadata": {},
   "source": [
    "## Plot Connectivity"
   ]
  },
  {
   "cell_type": "markdown",
   "metadata": {},
   "source": [
    "S:\n",
    "* 0 - 4 : north > north, south, east, west, inh\n",
    "* 5 - 9 : south > north, south, east, west, inh\n",
    "* 10 - 14: east > north, south, east, west, inh\n"
   ]
  },
  {
   "cell_type": "code",
   "execution_count": 42,
   "metadata": {},
   "outputs": [
    {
     "name": "stdout",
     "output_type": "stream",
     "text": [
      "(10000,)\n",
      "(100,)\n",
      "[[1.         0.06104235 0.06104235 1.         0.04504903 0.35298784\n",
      "  0.53248884 0.04124648 0.27858795 0.77129446]\n",
      " [0.05547944 0.1207724  1.         0.12234457 0.05367941 0.71477248\n",
      "  0.35414638 0.04016419 0.28307401 0.81845754]\n",
      " [0.06381731 0.09266836 0.96315696 0.18032189 0.04396001 0.51160484\n",
      "  0.54301156 0.04519437 0.16623843 0.97934707]\n",
      " [0.10119452 0.05917096 0.76639832 0.32604242 0.04003754 0.29318406\n",
      "  0.81238396 0.06394681 0.09114992 0.95603221]\n",
      " [0.18873424 0.04316446 0.48409229 0.57580325 0.04677269 0.15176564\n",
      "  0.99203024 0.11146644 0.05519432 0.71641197]\n",
      " [0.36536721 0.04040664 0.25818345 0.86327317 0.07073143 0.08088424\n",
      "  0.91864086 0.21850891 0.0415254  0.42482156]\n",
      " [0.6435417  0.05036682 0.13002325 1.         0.13003191 0.05035963\n",
      "  0.64326586 0.42523853 0.04154093 0.21796159]\n",
      " [0.91964802 0.08118594 0.07042368 0.86070615 0.26039375 0.04036121\n",
      "  0.3612429  0.72263986 0.05574833 0.10951781]\n",
      " [0.98975343 0.15547583 0.0462312  0.56243392 0.49814617 0.04368945\n",
      "  0.18089227 0.96598006 0.09539676 0.0614757 ]\n",
      " [0.78703175 0.31318601 0.04000485 0.30148152 0.80322068 0.06318088\n",
      "  0.09210155 0.95756763 0.18831874 0.04313536]]\n"
     ]
    },
    {
     "data": {
      "image/png": "[encoded data removed]",
      "text/plain": [
       "<Figure size 432x288 with 1 Axes>"
      ]
     },
     "metadata": {
      "needs_background": "light"
     },
     "output_type": "display_data"
    }
   ],
   "source": [
    "\n",
    "\n",
    "i = 0 # source neuron\n",
    "print(S[1].w.shape)\n",
    "connectivity = S[1].w[i*N : (i+1)*N]\n",
    "print(connectivity.shape)\n",
    "connectivity = connectivity.reshape(int(sqrt(N)), int(sqrt(N)))\n",
    "imshow(connectivity.T)\n",
    "print(connectivity)"
   ]
  },
  {
   "cell_type": "code",
   "execution_count": 36,
   "metadata": {},
   "outputs": [
    {
     "data": {
      "text/plain": [
       "<neurongroup.x: array([0., 1., 2., 3., 4., 5., 6., 7., 8., 9., 0., 1., 2., 3., 4., 5., 6.,\n",
       "       7., 8., 9., 0., 1., 2., 3., 4., 5., 6., 7., 8., 9., 0., 1., 2., 3.,\n",
       "       4., 5., 6., 7., 8., 9., 0., 1., 2., 3., 4., 5., 6., 7., 8., 9., 0.,\n",
       "       1., 2., 3., 4., 5., 6., 7., 8., 9., 0., 1., 2., 3., 4., 5., 6., 7.,\n",
       "       8., 9., 0., 1., 2., 3., 4., 5., 6., 7., 8., 9., 0., 1., 2., 3., 4.,\n",
       "       5., 6., 7., 8., 9., 0., 1., 2., 3., 4., 5., 6., 7., 8., 9.]) * metre>"
      ]
     },
     "execution_count": 36,
     "metadata": {},
     "output_type": "execute_result"
    }
   ],
   "source": [
    "P_n.x"
   ]
  },
  {
   "cell_type": "code",
   "execution_count": 37,
   "metadata": {},
   "outputs": [
    {
     "data": {
      "text/plain": [
       "<neurongroup.y: array([0., 0., 0., 0., 0., 0., 0., 0., 0., 0., 1., 1., 1., 1., 1., 1., 1.,\n",
       "       1., 1., 1., 2., 2., 2., 2., 2., 2., 2., 2., 2., 2., 3., 3., 3., 3.,\n",
       "       3., 3., 3., 3., 3., 3., 4., 4., 4., 4., 4., 4., 4., 4., 4., 4., 5.,\n",
       "       5., 5., 5., 5., 5., 5., 5., 5., 5., 6., 6., 6., 6., 6., 6., 6., 6.,\n",
       "       6., 6., 7., 7., 7., 7., 7., 7., 7., 7., 7., 7., 8., 8., 8., 8., 8.,\n",
       "       8., 8., 8., 8., 8., 9., 9., 9., 9., 9., 9., 9., 9., 9., 9.]) * metre>"
      ]
     },
     "execution_count": 37,
     "metadata": {},
     "output_type": "execute_result"
    }
   ],
   "source": [
    "P_n.y"
   ]
  },
  {
   "cell_type": "code",
   "execution_count": null,
   "metadata": {},
   "outputs": [],
   "source": []
  }
 ],
 "metadata": {
  "interpreter": {
   "hash": "b531b3af018a4982dfc1aa8db52a24cc3acb666bcf2043fb01945b05238aeb19"
  },
  "kernelspec": {
   "display_name": "Python 3.7.6 64-bit ('base': conda)",
   "language": "python",
   "name": "python3"
  },
  "language_info": {
   "codemirror_mode": {
    "name": "ipython",
    "version": 3
   },
   "file_extension": ".py",
   "mimetype": "text/x-python",
   "name": "python",
   "nbconvert_exporter": "python",
   "pygments_lexer": "ipython3",
   "version": "3.9.7"
  },
  "orig_nbformat": 4
 },
 "nbformat": 4,
 "nbformat_minor": 2
}

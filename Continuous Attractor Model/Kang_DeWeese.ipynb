{
 "cells": [
  {
   "cell_type": "code",
   "execution_count": 2,
   "metadata": {},
   "outputs": [],
   "source": [
    "from brian2 import *\n",
    "import numpy as np\n",
    "from matplotlib import pyplot as plt\n",
    "from tqdm import tqdm\n",
    "%matplotlib inline"
   ]
  },
  {
   "cell_type": "markdown",
   "metadata": {},
   "source": [
    "$$ \\tau_m^+ \\frac{\\phi^P(\\vec r, t+\\Delta t)  - \\phi^p(\\vec r, t)}{\\Delta t} + \\phi^P(\\vec r, t) = \\Sigma_{P', \\vec r'} w^+(\\vec r - \\vec r' - \\zeta \\vec e^P)s^{P'}(\\vec r', t - \\tau_s^{++})   $$\n",
    "\n",
    "$$ w^+ =  $$"
   ]
  },
  {
   "cell_type": "code",
   "execution_count": 4,
   "metadata": {},
   "outputs": [
    {
     "ename": "SyntaxError",
     "evalue": "invalid syntax (<ipython-input-4-20f4a5c5484c>, line 5)",
     "output_type": "error",
     "traceback": [
      "\u001b[1;36m  File \u001b[1;32m\"<ipython-input-4-20f4a5c5484c>\"\u001b[1;36m, line \u001b[1;32m5\u001b[0m\n\u001b[1;33m    tau_+\u001b[0m\n\u001b[1;37m         ^\u001b[0m\n\u001b[1;31mSyntaxError\u001b[0m\u001b[1;31m:\u001b[0m invalid syntax\n"
     ]
    }
   ],
   "source": [
    "start_scope() # creat a new scope\n",
    "\n",
    "# Parameters\n",
    "N = 232 * 232\n",
    "neuron_spacing = 1*metre\n",
    "tau_plus = 20\n"
   ]
  },
  {
   "cell_type": "code",
   "execution_count": null,
   "metadata": {},
   "outputs": [],
   "source": [
    "eqns = '''\n",
    "dV/dt = \n",
    "\n",
    "x: metre\n",
    "y: metre\n",
    "\n",
    "'''\n",
    "\n",
    "reset = '''\n",
    "\n",
    "\n",
    "'''"
   ]
  },
  {
   "cell_type": "code",
   "execution_count": null,
   "metadata": {},
   "outputs": [],
   "source": [
    "# Neural Populations\n",
    "\n",
    "## North\n",
    "P_n = NeuronGroup(N, eqns, threshold='', reset=reset, method='heun')\n",
    "P_n.x = 'i % 232' # will assign x-values from 0 to 231 repeatedly\n",
    "P_n.y = 'i//232' # will assign y-value 0 to first 232 cells and so on\n",
    "P_n.zeta = '' \n",
    "\n",
    "## South\n",
    "P_s = NeuronGroup(N, eqns, threshold='', reset=reset, method='')\n",
    "\n",
    "\n",
    "## East\n",
    "P_e = NeuronGroup(N, )\n",
    "\n",
    "\n",
    "## West\n",
    "P_w = NeuronGroup(N, )\n",
    "\n",
    "## Inhibitory\n",
    "P_i = NeuronGroup(N, )\n",
    "\n",
    "M_n = SpikeMonitor(P_n)\n",
    "M_s = SpikeMonitor(P_s)\n",
    "M_e = SpikeMonitor(P_e)\n",
    "M_w = SpikeMonitor(P_w)\n",
    "\n"
   ]
  },
  {
   "cell_type": "code",
   "execution_count": null,
   "metadata": {},
   "outputs": [],
   "source": [
    "S = Synapses(G, G, 'w: 1')\n",
    "S.connect(condition='i!=j')\n",
    "S.w = 'w_plus_mag**(1 + cos(pi*sqrt((x_post - x_pre - zeta*xdir_pre)**2 + (y_post - y_pre - zeta*ydir_pre)**2)))'\n",
    "\n",
    "S = Synapses(G, G, 'w: 1')\n",
    "S.connect(condition='i!=j')\n",
    "S.w = 'w_plus_mag**(1 + cos(pi*sqrt((x_post - x_pre - zeta*xdir_pre)**2 + (y_post - y_pre - zeta*ydir_pre)**2)))'\n",
    "\n",
    "S = Synapses(G, G, 'w: 1')\n",
    "S.connect(condition='i!=j')\n",
    "S.w = 'w_plus_mag**(1 + cos(pi*sqrt((x_post - x_pre - zeta*xdir_pre)**2 + (y_post - y_pre - zeta*ydir_pre)**2)))'\n",
    "\n",
    "S = Synapses(G, G, 'w: 1')\n",
    "S.connect(condition='i!=j')\n",
    "S.w = 'w_plus_mag**(1 + cos(pi*sqrt((x_post - x_pre - zeta*xdir_pre)**2 + (y_post - y_pre - zeta*ydir_pre)**2)))'\n",
    "\n",
    "S = Synapses(G, G, 'w: 1')\n",
    "S.connect(condition='i!=j')\n",
    "S.w = 'w_plus_mag**(1 + cos(pi*sqrt((x_post - x_pre - zeta*xdir_pre)**2 + (y_post - y_pre - zeta*ydir_pre)**2)))'\n",
    "\n",
    "S = Synapses(G, G, 'w: 1')\n",
    "S.connect(condition='i!=j')\n",
    "S.w = 'w_plus_mag**(1 + cos(pi*sqrt((x_post - x_pre - zeta*xdir_pre)**2 + (y_post - y_pre - zeta*ydir_pre)**2)))'\n",
    "\n",
    "\n",
    "S = [] # to store  the 25 synapse classes\n",
    "exc_populations = [P_n, P_s, P_e, P_w]\n",
    "all_populations = [P_n, P_s, P_e, P_w, P_i]\n",
    "index = 0\n",
    "\n",
    "# Set connections excitatory to all populations:\n",
    "for i in exc_populations:\n",
    "    for j in exc_populations:\n",
    "        S.append(Synapses(i, j, 'w: 1'))\n",
    "        S[index].connect() # Establish connection\n",
    "        S[index].w = 'w_plus_mag**(1 + cos(pi*sqrt((x_post - x_pre - zeta*xdir_pre)**2 + (y_post - y_pre - zeta*ydir_pre)**2)))'\n",
    "\n",
    "        index += 1\n",
    "\n",
    "# Set connections from inhibitory to all populations:\n",
    "for i in exc_populations:\n",
    "    S.append(Synapses(i, P_i, 'w:1'))\n",
    "    S[index].connect()\n",
    "    S[index].w = ''\n"
   ]
  }
 ],
 "metadata": {
  "interpreter": {
   "hash": "b531b3af018a4982dfc1aa8db52a24cc3acb666bcf2043fb01945b05238aeb19"
  },
  "kernelspec": {
   "display_name": "Python 3.7.6 64-bit ('base': conda)",
   "language": "python",
   "name": "python3"
  },
  "language_info": {
   "codemirror_mode": {
    "name": "ipython",
    "version": 3
   },
   "file_extension": ".py",
   "mimetype": "text/x-python",
   "name": "python",
   "nbconvert_exporter": "python",
   "pygments_lexer": "ipython3",
   "version": "3.7.6"
  },
  "orig_nbformat": 4
 },
 "nbformat": 4,
 "nbformat_minor": 2
}

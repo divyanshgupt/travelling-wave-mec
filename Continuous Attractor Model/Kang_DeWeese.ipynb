{
 "cells": [
  {
   "cell_type": "code",
   "execution_count": 1,
   "metadata": {},
   "outputs": [],
   "source": [
    "from brian2 import *\n",
    "#import numpy as np\n",
    "# from matplotlib import pyplot as plt\n",
    "from tqdm import tqdm\n",
    "%matplotlib inline"
   ]
  },
  {
   "cell_type": "markdown",
   "metadata": {},
   "source": [
    "Excitatory Neurons:\n",
    "$$ \\tau_m^+ \\frac{\\phi^P(\\vec r, t+\\Delta t)  - \\phi^p(\\vec r, t)}{\\Delta t} + \\phi^P(\\vec r, t) = \\Sigma_{P', \\vec r'} w^+(\\vec r - \\vec r' - \\xi \\vec e^P)s^{P'}(\\vec r', t - \\tau_s^{++}) + \\Sigma_{\\vec r'}w^-(\\vec r - \\vec r')s^-(\\vec r', t - \\tau_s^-) + a^+(\\vec r)[1 + \\alpha E^P \\bullet V(t)] + \\zeta^P(\\vec r, t)  $$\n",
    "\n",
    "Inhibitory Neurons:\n",
    "$$ \\tau_m^+ \\frac{\\phi^-(\\vec r, t+\\Delta t)  - \\phi^-(\\vec r, t)}{\\Delta t} + \\phi^-(\\vec r, t) = \\Sigma_{P', \\vec r'} w^+(\\vec r - \\vec r' - \\xi \\vec e^P)s^{P'}(\\vec r', t - \\tau_s^{++}) + a^-(t) + \\zeta^-(\\vec r, t)  $$\n",
    "\n",
    "Synaptic connectivity from excitatory to all neurons\n",
    "$$ w^+(\\vec r) = \\begin{cases}\n",
    "                w_{mag} ^+{\\frac{1 + cos(\\pi r/r_{w^+})}{2}}& \\text{; } r < rw+\\\\\n",
    "                0          & \\text{; } r\\geq rw+\n",
    "         \\end{cases}\n",
    "                $$\n",
    "Synaptic connectivity from inhibitory to excitatory neurons\n",
    "$$ w^-(\\vec r) = \\begin{cases}\n",
    "                -w_{mag} ^-{\\frac{1 + cos(\\pi r/r_{w^+})}{2}}& \\text{; } r < 2rw-\\\\\n",
    "                0          & \\text{; } r\\geq 2rw-\n",
    "         \\end{cases}\n",
    "                $$\n",
    "\n",
    "$$ a^+(\\vec r) = \\begin{cases}\n",
    "                -a_{min}^+ + (a^+_{max} - a^+_{min})^{\\frac{1 + cos(\\pi \\rho /\\rho_{a^+})}{2}}& \\text{; } \\rho < \\rho a+\\\\\n",
    "                a_{min}^+          & \\text{; } \\rho \\geq \\rho a+.\n",
    "         \\end{cases}\n",
    "                $$\n",
    "\n",
    "$$ a^-(t) = a_{mag}^- - a_{th}^-cos(t\\pi ft + \\psi_0)  $$\n",
    "\n",
    "$$ \\rho = \\frac{\\sqrt{(x - \\frac{n+1/2}{2}^2 + (y - \\frac{n+1}{2}^2)}}{n/2} $$"
   ]
  },
  {
   "cell_type": "code",
   "execution_count": 2,
   "metadata": {},
   "outputs": [],
   "source": [
    "start_scope() # creat a new scope\n",
    "\n",
    "# Parameters\n",
    "N = 232 * 232 # Neurons per population\n",
    "N = 10 * 10\n",
    "\n",
    "tau_m_plus = 40*ms # Exc. membrane time constant\n",
    "tau_m_minus = 20*ms # Inh. membrane time constant\n",
    "tau_s_plus_plus = 5*ms # Exc.-to-exc. synaptic delay\n",
    "tau_s_minus_plus = 2*ms # Exc.-to-inh. synaptic delay\n",
    "tau_s_minus = 2*ms # Inh. synaptic delay\n",
    "a_max_plus = 2 # Exc. drive maximum\n",
    "a_min_plus = 0.8 # Exc. drive minimum\n",
    "rho_a_plus = 1.2 # Exc. drive scaled speed\n",
    "a_mag_minus = 0.72 # Inh. drive magnitude\n",
    "a_th_minus = 0.2 # Inh. drive theta amplitude\n",
    "f = 8*hertz # Inh. drive theta frequency\n",
    "w_mag_plus = 0.2 # Exc. synaptic strength\n",
    "r_w_plus = 6 # Exc. synaptic spread\n",
    "w_mag_minus = 2.8 # Inh. synaptic strength\n",
    "r_w_minus = 12 # Inh. synaptic distance\n",
    "xi = 3 # Exc. synaptic shift\n",
    "alpha = 0.25*second/metre # Exc. velocity gain\n",
    "var_zeta_P = 0.002**2 # Exc. noise magnitude\n",
    "var_zeta_I = 0.002**2 # Inh. noise magnitude\n",
    "\n",
    "\n",
    "duration = 1000*ms\n"
   ]
  },
  {
   "cell_type": "code",
   "execution_count": 3,
   "metadata": {},
   "outputs": [],
   "source": [
    "defaultclock.dt = 0.1*ms"
   ]
  },
  {
   "cell_type": "markdown",
   "metadata": {},
   "source": [
    "### Velocity Inputs (Based on Rat Trajectory):\n",
    "Two options:\n",
    "1. Simulate the inputs (as done by Mittal & Narayanan, 2021)\n",
    "2. Differentiate rat trajectories (as done by Burak & Fiete, 2009 and used in Kang & DeWeese 2019)\n"
   ]
  },
  {
   "cell_type": "code",
   "execution_count": 4,
   "metadata": {},
   "outputs": [],
   "source": [
    "@check_units(dir = metre, V = metre/second, result= metre/second)\n",
    "def dot_product(dir, V):\n",
    "    product = dot(dir, V) / metre\n",
    "    print(product)\n",
    "    return product\n"
   ]
  },
  {
   "cell_type": "code",
   "execution_count": 5,
   "metadata": {},
   "outputs": [
    {
     "name": "stdout",
     "output_type": "stream",
     "text": [
      "1. m/s\n"
     ]
    },
    {
     "data": {
      "text/latex": [
       "$1.0\\,\\frac{\\mathrm{m}}{\\mathrm{s}}$"
      ],
      "text/plain": [
       "1. * metre / second"
      ]
     },
     "execution_count": 5,
     "metadata": {},
     "output_type": "execute_result"
    }
   ],
   "source": [
    "dot_product([1, 0] * metre, [1, 0]*metre/second)"
   ]
  },
  {
   "cell_type": "code",
   "execution_count": 14,
   "metadata": {},
   "outputs": [],
   "source": [
    "eqns_exc = '''\n",
    "\n",
    "dv/dt = -v/tau_m_plus  + var_zeta_P*xi*tau_m_plus**-0.5 + a_plus*(1 + alpha*dot_product(dir(i), V(t)))/tau_m_plus : 1\n",
    "\n",
    "'''\n",
    "\"\"\" \n",
    "eqns_exc = '''\n",
    "\n",
    "dv/dt = -v/tau_m_plus  + var_zeta_P*xi*tau_m_plus**-0.5 + a_plus/tau_m_plus : 1\n",
    "\n",
    "'''  \"\"\"\n",
    "\n",
    "eqns_inh = '''\n",
    "\n",
    "dv/dt = -(v - a_minus)/tau_m_minus + var_zeta_I*xi*tau_m_minus**-0.5 : 1\n",
    "a_minus = a_mag_minus - a_th_minus*cos(2*pi*f*t): 1\n",
    "\n",
    "'''\n",
    "\n",
    "reset = '''\n",
    "v = 0\n",
    "'''\n"
   ]
  },
  {
   "cell_type": "code",
   "execution_count": 15,
   "metadata": {},
   "outputs": [],
   "source": [
    "\n",
    "#@check_units(i = 1, result = [metre for x in range(len(i))])\n",
    "@check_units(i = 1, N = 1, result = metre)\n",
    "def location_x(i, N):\n",
    "    x = i % N\n",
    "    return x * metre\n",
    "\n",
    "@check_units(i = 1, N = 1, result = metre)\n",
    "def location_y(i, N):\n",
    "    y = i // N\n",
    "    return y * metre\n",
    "\n",
    "@check_units(x = 1, y = 1, N = 1, result = metre)\n",
    "def rho(x, y, N):\n",
    "\n",
    "    value = sqrt(((x - ((N+1)/2))**2 + (y - ((N+1)/2))**2)/(N/2))\n",
    "\n",
    "    return value * metre\n",
    "\n",
    "@check_units(rho = 1, result = 1)\n",
    "def a_plus(rho):\n",
    "\n",
    "    value = a_min_plus * ones_like(rho)\n",
    "    for i in range(len(rho)):\n",
    "        if rho[i] < rho_a_plus:\n",
    "            value[i] = (a_max_plus - a_min_plus) * (1 - cos(pi*rho[i]/rho_a_plus))\n",
    "    return value\n",
    "\n",
    "@check_units(x = 1, y = 1, result = metre)\n",
    "def dir_array(x, y, N):\n",
    "    x_array = x * ones(N)\n",
    "    y_array = y * ones(N)\n",
    "\n",
    "    return column_stack((x_array, y_array)) * metre"
   ]
  },
  {
   "cell_type": "code",
   "execution_count": 16,
   "metadata": {},
   "outputs": [],
   "source": [
    "# Neural Populations\n",
    "\n",
    "## North\n",
    "P_n = NeuronGroup(N, eqns_exc, threshold='v > 1', reset=reset, method='euler')\n",
    "P_n.add_attribute('x')\n",
    "P_n.add_attribute('y')\n",
    "P_n.add_attribute('dir')\n",
    "P_n.add_attribute('rho')\n",
    "P_n.add_attribute('a_plus')\n",
    "P_n.add_attribute('r')\n",
    "\n",
    "# (P_n.x, P_n.y) = 'location(i)'\n",
    "P_n.x = location_x(P_n.i[:], sqrt(P_n.N))\n",
    "P_n.y = location_y(P_n.i[:], sqrt(P_n.N))\n",
    "\"\"\" P_n.x = 'i % 232' # will assign x-values from 0 to 231 repeatedly\n",
    "P_n.y = 'i//232' # will assign y-value 0 to first 232 cells and so on\n",
    "P_n.rho = 'sqrt((x - ((n+1)/2))**2 + (y - ((n+1)/2))**2)/(N/2)'\n",
    "P_n.a_plus = 'where(rho < rho_a_plus, a_min_plus + (a_max_plus - a_min_plus)*(1 - cos(pi*rho/rho_a_plus)), a_min_plus)'\n",
    "\n",
    "\"\"\"\n",
    "# P_n.dir = [0, 1] * metre # North\n",
    "P_n.dir = dir_array(0, 1, P_n.N)\n",
    "P_n.rho = rho(P_n.x/metre, P_n.y/metre, sqrt(P_n.N))\n",
    "P_n.a_plus = a_plus(P_n.rho[:]/metre)\n",
    "P_n.v = 'rand()'\n",
    "\n",
    "## South\n",
    "P_s = NeuronGroup(N, eqns_exc, threshold='v > 1', reset=reset, method='euler')\n",
    "P_s.add_attribute('x')\n",
    "P_s.add_attribute('y')\n",
    "P_s.add_attribute('dir')\n",
    "P_s.add_attribute('rho')\n",
    "P_s.add_attribute('a_plus')\n",
    "P_s.x = location_x(P_s.i[:], sqrt(P_s.N))\n",
    "P_s.y = location_y(P_s.i[:], sqrt(P_s.N))\n",
    "P_s.dir = dir_array(0, -1, P_s.N)\n",
    "P_s.rho = rho(P_s.x/metre, P_s.y/metre, sqrt(P_s.N))\n",
    "P_s.a_plus = a_plus(P_s.rho[:]/metre)\n",
    "P_s.v = 'rand()'\n",
    "\n",
    "\n",
    "## East\n",
    "P_e = NeuronGroup(N, eqns_exc, threshold='v > 1', reset=reset, method='euler')\n",
    "P_e.add_attribute('x')\n",
    "P_e.add_attribute('y')\n",
    "P_e.add_attribute('dir')\n",
    "P_e.add_attribute('rho')\n",
    "P_e.add_attribute('a_plus')\n",
    "P_e.x = location_x(P_e.i[:], sqrt(P_e.N))\n",
    "P_e.y = location_y(P_e.i[:], sqrt(P_e.N))\n",
    "P_e.dir = dir_array(1, 0, P_e.N)\n",
    "P_e.rho = rho(P_e.x/metre, P_e.y/metre, sqrt(P_e.N))\n",
    "P_e.a_plus = a_plus(P_e.rho[:]/metre)\n",
    "P_e.v = 'rand()'\n",
    "\n",
    "\n",
    "## West\n",
    "P_w = NeuronGroup(N, eqns_exc, threshold='v > 1', reset=reset, method='euler' )\n",
    "P_w.add_attribute('x')\n",
    "P_w.add_attribute('y')\n",
    "P_w.add_attribute('dir')\n",
    "P_w.add_attribute('rho')\n",
    "P_w.add_attribute('a_plus')\n",
    "P_w.x = location_x(P_w.i[:], sqrt(P_w.N))\n",
    "P_w.y = location_y(P_w.i[:], sqrt(P_w.N))\n",
    "P_w.dir = dir_array(-1, 0, P_w.N)\n",
    "P_w.rho = rho(P_w.x/metre, P_w.y/metre, sqrt(P_w.N))\n",
    "P_w.a_plus = a_plus(P_w.rho[:]/metre)\n",
    "P_w.v = 'rand()'\n",
    "\n",
    "\n",
    "## Inhibitory\n",
    "P_i = NeuronGroup(N, eqns_inh, threshold='v > 1', reset=reset, method='euler' )\n",
    "P_i.add_attribute('x')\n",
    "P_i.add_attribute('y')\n",
    "\n",
    "P_i.x = location_x(P_i.i[:], sqrt(P_i.N))\n",
    "P_i.y = location_y(P_i.i[:], sqrt(P_i.N))\n",
    "#P_i.a_minus = 'a_mag_minus - a_th_minus*cos(2*pi*f'\n",
    "P_i.v = 'rand()'\n",
    "\n",
    "M_n = SpikeMonitor(P_n)\n",
    "M_s = SpikeMonitor(P_s)\n",
    "M_e = SpikeMonitor(P_e)\n",
    "M_w = SpikeMonitor(P_w)\n",
    "\n"
   ]
  },
  {
   "cell_type": "code",
   "execution_count": 13,
   "metadata": {},
   "outputs": [
    {
     "ename": "KeyError",
     "evalue": "'The name \"dir\" is already present in the variables dictionary.'",
     "output_type": "error",
     "traceback": [
      "\u001b[1;31m---------------------------------------------------------------------------\u001b[0m",
      "\u001b[1;31mKeyError\u001b[0m                                  Traceback (most recent call last)",
      "\u001b[1;32m<ipython-input-13-1ab19884bf48>\u001b[0m in \u001b[0;36m<module>\u001b[1;34m\u001b[0m\n\u001b[0;32m      1\u001b[0m \u001b[1;31m#P_n.variables = core.variables.Variables(P_n)\u001b[0m\u001b[1;33m\u001b[0m\u001b[1;33m\u001b[0m\u001b[1;33m\u001b[0m\u001b[0m\n\u001b[1;32m----> 2\u001b[1;33m \u001b[0mP_n\u001b[0m\u001b[1;33m.\u001b[0m\u001b[0mvariables\u001b[0m\u001b[1;33m.\u001b[0m\u001b[0madd_array\u001b[0m\u001b[1;33m(\u001b[0m\u001b[1;34m'dir'\u001b[0m\u001b[1;33m,\u001b[0m\u001b[0msize\u001b[0m\u001b[1;33m=\u001b[0m\u001b[1;33m(\u001b[0m\u001b[0mN\u001b[0m\u001b[1;33m,\u001b[0m \u001b[1;36m2\u001b[0m\u001b[1;33m)\u001b[0m\u001b[1;33m)\u001b[0m\u001b[1;33m\u001b[0m\u001b[1;33m\u001b[0m\u001b[0m\n\u001b[0m",
      "\u001b[1;32m~\\anaconda3\\lib\\site-packages\\brian2\\core\\variables.py\u001b[0m in \u001b[0;36madd_array\u001b[1;34m(self, name, size, dimensions, values, dtype, constant, read_only, scalar, unique, index)\u001b[0m\n\u001b[0;32m   1477\u001b[0m                             \u001b[0mread_only\u001b[0m\u001b[1;33m=\u001b[0m\u001b[0mread_only\u001b[0m\u001b[1;33m,\u001b[0m\u001b[1;33m\u001b[0m\u001b[1;33m\u001b[0m\u001b[0m\n\u001b[0;32m   1478\u001b[0m                             unique=unique)\n\u001b[1;32m-> 1479\u001b[1;33m         \u001b[0mself\u001b[0m\u001b[1;33m.\u001b[0m\u001b[0m_add_variable\u001b[0m\u001b[1;33m(\u001b[0m\u001b[0mname\u001b[0m\u001b[1;33m,\u001b[0m \u001b[0mvar\u001b[0m\u001b[1;33m,\u001b[0m \u001b[0mindex\u001b[0m\u001b[1;33m)\u001b[0m\u001b[1;33m\u001b[0m\u001b[1;33m\u001b[0m\u001b[0m\n\u001b[0m\u001b[0;32m   1480\u001b[0m         \u001b[1;31m# This could be avoided, but we currently need it so that standalone\u001b[0m\u001b[1;33m\u001b[0m\u001b[1;33m\u001b[0m\u001b[1;33m\u001b[0m\u001b[0m\n\u001b[0;32m   1481\u001b[0m         \u001b[1;31m# allocates the memory\u001b[0m\u001b[1;33m\u001b[0m\u001b[1;33m\u001b[0m\u001b[1;33m\u001b[0m\u001b[0m\n",
      "\u001b[1;32m~\\anaconda3\\lib\\site-packages\\brian2\\core\\variables.py\u001b[0m in \u001b[0;36m_add_variable\u001b[1;34m(self, name, var, index)\u001b[0m\n\u001b[0;32m   1413\u001b[0m         \u001b[1;32mif\u001b[0m \u001b[0mname\u001b[0m \u001b[1;32min\u001b[0m \u001b[0mself\u001b[0m\u001b[1;33m.\u001b[0m\u001b[0m_variables\u001b[0m\u001b[1;33m:\u001b[0m\u001b[1;33m\u001b[0m\u001b[1;33m\u001b[0m\u001b[0m\n\u001b[0;32m   1414\u001b[0m             raise KeyError(('The name \"%s\" is already present in the variables'\n\u001b[1;32m-> 1415\u001b[1;33m                             ' dictionary.') % name)\n\u001b[0m\u001b[0;32m   1416\u001b[0m         \u001b[1;31m#TODO: do some check for the name, part of it has to be device-specific\u001b[0m\u001b[1;33m\u001b[0m\u001b[1;33m\u001b[0m\u001b[1;33m\u001b[0m\u001b[0m\n\u001b[0;32m   1417\u001b[0m         \u001b[0mself\u001b[0m\u001b[1;33m.\u001b[0m\u001b[0m_variables\u001b[0m\u001b[1;33m[\u001b[0m\u001b[0mname\u001b[0m\u001b[1;33m]\u001b[0m \u001b[1;33m=\u001b[0m \u001b[0mvar\u001b[0m\u001b[1;33m\u001b[0m\u001b[1;33m\u001b[0m\u001b[0m\n",
      "\u001b[1;31mKeyError\u001b[0m: 'The name \"dir\" is already present in the variables dictionary.'"
     ]
    }
   ],
   "source": [
    "#P_n.variables = core.variables.Variables(P_n)\n",
    "P_n.variables.add_array('dir',size=(N, 2))\n",
    "\n",
    "P_n.variables."
   ]
  },
  {
   "cell_type": "code",
   "execution_count": 11,
   "metadata": {},
   "outputs": [],
   "source": [
    "P_n.dir = 'dir'"
   ]
  },
  {
   "cell_type": "code",
   "execution_count": 33,
   "metadata": {},
   "outputs": [
    {
     "data": {
      "text/plain": [
       "'dir'"
      ]
     },
     "execution_count": 33,
     "metadata": {},
     "output_type": "execute_result"
    }
   ],
   "source": [
    "P_n.dir"
   ]
  },
  {
   "cell_type": "code",
   "execution_count": 32,
   "metadata": {},
   "outputs": [
    {
     "data": {
      "text/plain": [
       "<neurongroup_5.v: array([0.86268869, 0.48407928, 0.14471641, 0.37155971, 0.5822013 ,\n",
       "       0.67128042, 0.2366461 , 0.85292226, 0.06101436, 0.15732731,\n",
       "       0.26432431, 0.91955611, 0.44271645, 0.36113712, 0.39110667,\n",
       "       0.19250899, 0.76765426, 0.18391257, 0.87498207, 0.026024  ,\n",
       "       0.78456027, 0.92261195, 0.44510822, 0.07545942, 0.78791203,\n",
       "       0.21582774, 0.6645665 , 0.01289544, 0.754829  , 0.46040694,\n",
       "       0.36189954, 0.7455131 , 0.81461808, 0.91064511, 0.83023368,\n",
       "       0.08261177, 0.90766438, 0.07426259, 0.52416396, 0.70316619,\n",
       "       0.99720497, 0.64534895, 0.69871266, 0.98610272, 0.99640544,\n",
       "       0.70224014, 0.45394088, 0.37831833, 0.97117496, 0.72607786,\n",
       "       0.32060012, 0.53821323, 0.21668   , 0.31013444, 0.82058841,\n",
       "       0.44137687, 0.1387553 , 0.74029895, 0.24843106, 0.52283683,\n",
       "       0.16623867, 0.19601897, 0.68307542, 0.30591115, 0.52203313,\n",
       "       0.13945511, 0.14492772, 0.52353603, 0.22054157, 0.23733976,\n",
       "       0.21039685, 0.11714953, 0.69563543, 0.69523318, 0.18315758,\n",
       "       0.88507084, 0.60267436, 0.05318388, 0.56600513, 0.90573441,\n",
       "       0.73187787, 0.59927005, 0.75034823, 0.8419214 , 0.24441082,\n",
       "       0.15716645, 0.74789608, 0.57879122, 0.12278488, 0.68279066,\n",
       "       0.41449153, 0.02720493, 0.48581206, 0.30525531, 0.24717422,\n",
       "       0.75164954, 0.89737282, 0.21955717, 0.07069786, 0.25334485])>"
      ]
     },
     "execution_count": 32,
     "metadata": {},
     "output_type": "execute_result"
    }
   ],
   "source": [
    "P_n.v"
   ]
  },
  {
   "cell_type": "code",
   "execution_count": 38,
   "metadata": {},
   "outputs": [
    {
     "ename": "AttributeError",
     "evalue": "type object 'NeuronGroup' has no attribute 'v'",
     "output_type": "error",
     "traceback": [
      "\u001b[1;31m---------------------------------------------------------------------------\u001b[0m",
      "\u001b[1;31mAttributeError\u001b[0m                            Traceback (most recent call last)",
      "\u001b[1;32m<ipython-input-38-0b2d840a0de9>\u001b[0m in \u001b[0;36m<module>\u001b[1;34m\u001b[0m\n\u001b[1;32m----> 1\u001b[1;33m \u001b[0mNeuronGroup\u001b[0m\u001b[1;33m.\u001b[0m\u001b[0mv\u001b[0m\u001b[1;33m\u001b[0m\u001b[1;33m\u001b[0m\u001b[0m\n\u001b[0m",
      "\u001b[1;31mAttributeError\u001b[0m: type object 'NeuronGroup' has no attribute 'v'"
     ]
    }
   ],
   "source": [
    "NeuronGroup._create_variables()"
   ]
  },
  {
   "cell_type": "code",
   "execution_count": 16,
   "metadata": {},
   "outputs": [
    {
     "data": {
      "text/plain": [
       "brian2.core.variables.VariableView"
      ]
     },
     "execution_count": 16,
     "metadata": {},
     "output_type": "execute_result"
    }
   ],
   "source": [
    "type(P_n.i)"
   ]
  },
  {
   "cell_type": "code",
   "execution_count": 32,
   "metadata": {},
   "outputs": [],
   "source": [
    "P_n.dir = core.variables.VariableView('dir', dir_array(1, 1, N), P_n)"
   ]
  },
  {
   "cell_type": "code",
   "execution_count": 33,
   "metadata": {},
   "outputs": [
    {
     "ename": "AttributeError",
     "evalue": "'Quantity' object has no attribute 'scalar'",
     "output_type": "error",
     "traceback": [
      "\u001b[1;31m---------------------------------------------------------------------------\u001b[0m",
      "\u001b[1;31mAttributeError\u001b[0m                            Traceback (most recent call last)",
      "\u001b[1;32m<ipython-input-33-6611afbaeb40>\u001b[0m in \u001b[0;36m<module>\u001b[1;34m\u001b[0m\n\u001b[1;32m----> 1\u001b[1;33m \u001b[0mprint\u001b[0m\u001b[1;33m(\u001b[0m\u001b[0mP_n\u001b[0m\u001b[1;33m.\u001b[0m\u001b[0mdir\u001b[0m\u001b[1;33m)\u001b[0m\u001b[1;33m\u001b[0m\u001b[1;33m\u001b[0m\u001b[0m\n\u001b[0m",
      "\u001b[1;32m~\\anaconda3\\lib\\site-packages\\brian2\\core\\variables.py\u001b[0m in \u001b[0;36m__repr__\u001b[1;34m(self)\u001b[0m\n\u001b[0;32m   1344\u001b[0m             \u001b[0mvarname\u001b[0m \u001b[1;33m+=\u001b[0m \u001b[1;34m'_'\u001b[0m\u001b[1;33m\u001b[0m\u001b[1;33m\u001b[0m\u001b[0m\n\u001b[0;32m   1345\u001b[0m \u001b[1;33m\u001b[0m\u001b[0m\n\u001b[1;32m-> 1346\u001b[1;33m         \u001b[1;32mif\u001b[0m \u001b[0mself\u001b[0m\u001b[1;33m.\u001b[0m\u001b[0mvariable\u001b[0m\u001b[1;33m.\u001b[0m\u001b[0mscalar\u001b[0m\u001b[1;33m:\u001b[0m\u001b[1;33m\u001b[0m\u001b[1;33m\u001b[0m\u001b[0m\n\u001b[0m\u001b[0;32m   1347\u001b[0m             \u001b[0mdim\u001b[0m \u001b[1;33m=\u001b[0m \u001b[0mself\u001b[0m\u001b[1;33m.\u001b[0m\u001b[0mdim\u001b[0m \u001b[1;32mif\u001b[0m \u001b[0mself\u001b[0m\u001b[1;33m.\u001b[0m\u001b[0mdim\u001b[0m \u001b[1;32mis\u001b[0m \u001b[1;32mnot\u001b[0m \u001b[1;32mNone\u001b[0m \u001b[1;32melse\u001b[0m \u001b[0mDIMENSIONLESS\u001b[0m\u001b[1;33m\u001b[0m\u001b[1;33m\u001b[0m\u001b[0m\n\u001b[0;32m   1348\u001b[0m             values = repr(Quantity(self.variable.get_value().item(),\n",
      "\u001b[1;31mAttributeError\u001b[0m: 'Quantity' object has no attribute 'scalar'"
     ]
    }
   ],
   "source": [
    "print(P_n.dir)"
   ]
  },
  {
   "cell_type": "code",
   "execution_count": 34,
   "metadata": {},
   "outputs": [
    {
     "name": "stdout",
     "output_type": "stream",
     "text": [
      "dir\n"
     ]
    }
   ],
   "source": [
    "print(P_n.dir[:])"
   ]
  },
  {
   "cell_type": "code",
   "execution_count": 8,
   "metadata": {},
   "outputs": [
    {
     "data": {
      "text/plain": [
       "array([0.8       , 0.8       , 0.8       , 0.8       , 0.8       ,\n",
       "       0.8       , 0.8       , 0.8       , 0.8       , 0.8       ,\n",
       "       0.8       , 0.8       , 0.8       , 0.8       , 0.8       ,\n",
       "       0.8       , 0.8       , 0.8       , 0.8       , 0.8       ,\n",
       "       0.8       , 0.8       , 0.8       , 0.8       , 0.8       ,\n",
       "       0.8       , 0.8       , 0.8       , 0.8       , 0.8       ,\n",
       "       0.8       , 0.8       , 0.8       , 0.8       , 0.8       ,\n",
       "       2.3853121 , 2.3853121 , 0.8       , 0.8       , 0.8       ,\n",
       "       0.8       , 0.8       , 0.8       , 0.8       , 2.14950019,\n",
       "       1.53209371, 1.53209371, 2.14950019, 0.8       , 0.8       ,\n",
       "       0.8       , 0.8       , 0.8       , 2.3853121 , 1.53209371,\n",
       "       0.38827569, 0.38827569, 1.53209371, 2.3853121 , 0.8       ,\n",
       "       0.8       , 0.8       , 0.8       , 2.3853121 , 1.53209371,\n",
       "       0.38827569, 0.38827569, 1.53209371, 2.3853121 , 0.8       ,\n",
       "       0.8       , 0.8       , 0.8       , 0.8       , 2.14950019,\n",
       "       1.53209371, 1.53209371, 2.14950019, 0.8       , 0.8       ,\n",
       "       0.8       , 0.8       , 0.8       , 0.8       , 0.8       ,\n",
       "       2.3853121 , 2.3853121 , 0.8       , 0.8       , 0.8       ,\n",
       "       0.8       , 0.8       , 0.8       , 0.8       , 0.8       ,\n",
       "       0.8       , 0.8       , 0.8       , 0.8       , 0.8       ])"
      ]
     },
     "execution_count": 8,
     "metadata": {},
     "output_type": "execute_result"
    }
   ],
   "source": [
    "P_n.a_plus"
   ]
  },
  {
   "cell_type": "code",
   "execution_count": 10,
   "metadata": {},
   "outputs": [
    {
     "data": {
      "text/latex": [
       "$1.0\\,\\mathrm{m}$"
      ],
      "text/plain": [
       "1. * metre"
      ]
     },
     "execution_count": 10,
     "metadata": {},
     "output_type": "execute_result"
    }
   ],
   "source": [
    "P_n.y[11]"
   ]
  },
  {
   "cell_type": "code",
   "execution_count": 11,
   "metadata": {},
   "outputs": [
    {
     "data": {
      "text/latex": [
       "$\\left[\\begin{matrix}0.0 & 1.0\\\\0.0 & 1.0\\\\0.0 & 1.0\\\\0.0 & 1.0\\\\0.0 & 1.0\\\\0.0 & 1.0\\\\0.0 & 1.0\\\\0.0 & 1.0\\\\0.0 & 1.0\\\\0.0 & 1.0\\\\0.0 & 1.0\\\\0.0 & 1.0\\\\0.0 & 1.0\\\\0.0 & 1.0\\\\0.0 & 1.0\\\\0.0 & 1.0\\\\0.0 & 1.0\\\\0.0 & 1.0\\\\0.0 & 1.0\\\\0.0 & 1.0\\\\0.0 & 1.0\\\\0.0 & 1.0\\\\0.0 & 1.0\\\\0.0 & 1.0\\\\0.0 & 1.0\\\\0.0 & 1.0\\\\0.0 & 1.0\\\\0.0 & 1.0\\\\0.0 & 1.0\\\\0.0 & 1.0\\\\0.0 & 1.0\\\\0.0 & 1.0\\\\0.0 & 1.0\\\\0.0 & 1.0\\\\0.0 & 1.0\\\\0.0 & 1.0\\\\0.0 & 1.0\\\\0.0 & 1.0\\\\0.0 & 1.0\\\\0.0 & 1.0\\\\0.0 & 1.0\\\\0.0 & 1.0\\\\0.0 & 1.0\\\\0.0 & 1.0\\\\0.0 & 1.0\\\\0.0 & 1.0\\\\0.0 & 1.0\\\\0.0 & 1.0\\\\0.0 & 1.0\\\\0.0 & 1.0\\\\0.0 & 1.0\\\\0.0 & 1.0\\\\0.0 & 1.0\\\\0.0 & 1.0\\\\0.0 & 1.0\\\\0.0 & 1.0\\\\0.0 & 1.0\\\\0.0 & 1.0\\\\0.0 & 1.0\\\\0.0 & 1.0\\\\0.0 & 1.0\\\\0.0 & 1.0\\\\0.0 & 1.0\\\\0.0 & 1.0\\\\0.0 & 1.0\\\\0.0 & 1.0\\\\0.0 & 1.0\\\\0.0 & 1.0\\\\0.0 & 1.0\\\\0.0 & 1.0\\\\0.0 & 1.0\\\\0.0 & 1.0\\\\0.0 & 1.0\\\\0.0 & 1.0\\\\0.0 & 1.0\\\\0.0 & 1.0\\\\0.0 & 1.0\\\\0.0 & 1.0\\\\0.0 & 1.0\\\\0.0 & 1.0\\\\0.0 & 1.0\\\\0.0 & 1.0\\\\0.0 & 1.0\\\\0.0 & 1.0\\\\0.0 & 1.0\\\\0.0 & 1.0\\\\0.0 & 1.0\\\\0.0 & 1.0\\\\0.0 & 1.0\\\\0.0 & 1.0\\\\0.0 & 1.0\\\\0.0 & 1.0\\\\0.0 & 1.0\\\\0.0 & 1.0\\\\0.0 & 1.0\\\\0.0 & 1.0\\\\0.0 & 1.0\\\\0.0 & 1.0\\\\0.0 & 1.0\\\\0.0 & 1.0\\end{matrix}\\right]\\,\\mathrm{m}$"
      ],
      "text/plain": [
       "array([[0., 1.],\n",
       "       [0., 1.],\n",
       "       [0., 1.],\n",
       "       [0., 1.],\n",
       "       [0., 1.],\n",
       "       [0., 1.],\n",
       "       [0., 1.],\n",
       "       [0., 1.],\n",
       "       [0., 1.],\n",
       "       [0., 1.],\n",
       "       [0., 1.],\n",
       "       [0., 1.],\n",
       "       [0., 1.],\n",
       "       [0., 1.],\n",
       "       [0., 1.],\n",
       "       [0., 1.],\n",
       "       [0., 1.],\n",
       "       [0., 1.],\n",
       "       [0., 1.],\n",
       "       [0., 1.],\n",
       "       [0., 1.],\n",
       "       [0., 1.],\n",
       "       [0., 1.],\n",
       "       [0., 1.],\n",
       "       [0., 1.],\n",
       "       [0., 1.],\n",
       "       [0., 1.],\n",
       "       [0., 1.],\n",
       "       [0., 1.],\n",
       "       [0., 1.],\n",
       "       [0., 1.],\n",
       "       [0., 1.],\n",
       "       [0., 1.],\n",
       "       [0., 1.],\n",
       "       [0., 1.],\n",
       "       [0., 1.],\n",
       "       [0., 1.],\n",
       "       [0., 1.],\n",
       "       [0., 1.],\n",
       "       [0., 1.],\n",
       "       [0., 1.],\n",
       "       [0., 1.],\n",
       "       [0., 1.],\n",
       "       [0., 1.],\n",
       "       [0., 1.],\n",
       "       [0., 1.],\n",
       "       [0., 1.],\n",
       "       [0., 1.],\n",
       "       [0., 1.],\n",
       "       [0., 1.],\n",
       "       [0., 1.],\n",
       "       [0., 1.],\n",
       "       [0., 1.],\n",
       "       [0., 1.],\n",
       "       [0., 1.],\n",
       "       [0., 1.],\n",
       "       [0., 1.],\n",
       "       [0., 1.],\n",
       "       [0., 1.],\n",
       "       [0., 1.],\n",
       "       [0., 1.],\n",
       "       [0., 1.],\n",
       "       [0., 1.],\n",
       "       [0., 1.],\n",
       "       [0., 1.],\n",
       "       [0., 1.],\n",
       "       [0., 1.],\n",
       "       [0., 1.],\n",
       "       [0., 1.],\n",
       "       [0., 1.],\n",
       "       [0., 1.],\n",
       "       [0., 1.],\n",
       "       [0., 1.],\n",
       "       [0., 1.],\n",
       "       [0., 1.],\n",
       "       [0., 1.],\n",
       "       [0., 1.],\n",
       "       [0., 1.],\n",
       "       [0., 1.],\n",
       "       [0., 1.],\n",
       "       [0., 1.],\n",
       "       [0., 1.],\n",
       "       [0., 1.],\n",
       "       [0., 1.],\n",
       "       [0., 1.],\n",
       "       [0., 1.],\n",
       "       [0., 1.],\n",
       "       [0., 1.],\n",
       "       [0., 1.],\n",
       "       [0., 1.],\n",
       "       [0., 1.],\n",
       "       [0., 1.],\n",
       "       [0., 1.],\n",
       "       [0., 1.],\n",
       "       [0., 1.],\n",
       "       [0., 1.],\n",
       "       [0., 1.],\n",
       "       [0., 1.],\n",
       "       [0., 1.],\n",
       "       [0., 1.]]) * metre"
      ]
     },
     "execution_count": 11,
     "metadata": {},
     "output_type": "execute_result"
    }
   ],
   "source": [
    "P_n.dir"
   ]
  },
  {
   "cell_type": "code",
   "execution_count": 12,
   "metadata": {},
   "outputs": [
    {
     "data": {
      "text/plain": [
       "<neurongroup.v: array([0.08401089, 0.00136508, 0.08117963, 0.94168276, 0.35975934,\n",
       "       0.13835455, 0.0824781 , 0.35966723, 0.30173545, 0.31542147,\n",
       "       0.82496476, 0.06526878, 0.37628469, 0.96037999, 0.08078795,\n",
       "       0.45629872, 0.56390911, 0.14314252, 0.39214235, 0.41787674,\n",
       "       0.75091921, 0.83227413, 0.24739379, 0.88938459, 0.2105942 ,\n",
       "       0.61536104, 0.24927783, 0.40035841, 0.6172876 , 0.69477684,\n",
       "       0.58930248, 0.5085685 , 0.97769555, 0.30497273, 0.82796685,\n",
       "       0.89392411, 0.99910267, 0.85452207, 0.910121  , 0.1715368 ,\n",
       "       0.97287926, 0.56825631, 0.37826577, 0.36193436, 0.55747953,\n",
       "       0.44812819, 0.70923631, 0.70486793, 0.03463203, 0.88877649,\n",
       "       0.33627864, 0.18870535, 0.20762377, 0.71119547, 0.44595895,\n",
       "       0.21042995, 0.33028883, 0.17681384, 0.34330348, 0.46057287,\n",
       "       0.83444167, 0.54849088, 0.90853322, 0.28852257, 0.90224665,\n",
       "       0.22506638, 0.38955042, 0.61485967, 0.36136951, 0.17692393,\n",
       "       0.82846242, 0.15531898, 0.244861  , 0.6174187 , 0.46063097,\n",
       "       0.25036159, 0.63930199, 0.30524234, 0.33677693, 0.85317848,\n",
       "       0.75411707, 0.95098972, 0.05760256, 0.67109746, 0.91634498,\n",
       "       0.25850118, 0.97593713, 0.58106242, 0.04812104, 0.82930708,\n",
       "       0.33830733, 0.5118985 , 0.7032478 , 0.53424348, 0.32624929,\n",
       "       0.02529725, 0.35624282, 0.54833529, 0.62270127, 0.41508121])>"
      ]
     },
     "execution_count": 12,
     "metadata": {},
     "output_type": "execute_result"
    }
   ],
   "source": [
    "P_n.v"
   ]
  },
  {
   "cell_type": "markdown",
   "metadata": {},
   "source": [
    "### Synaptic Connectivity Matrix\n",
    "Synaptic connectivity from excitatory to all neurons\n",
    "$$ w^+(\\vec r) = \\begin{cases}\n",
    "                w_{mag} ^+{\\frac{1 + cos(\\pi r/r_{w^+})}{2}}& \\text{; } r < rw+\\\\\n",
    "                0          & \\text{; } r\\geq rw+\n",
    "         \\end{cases}\n",
    "                $$\n",
    "Synaptic connectivity from inhibitory to excitatory neurons\n",
    "$$ w^-(\\vec r) = \\begin{cases}\n",
    "                -w_{mag} ^-{\\frac{1 + cos(\\pi r/r_{w^+})}{2}}& \\text{; } r < 2rw-\\\\\n",
    "                0          & \\text{; } r\\geq 2rw-\n",
    "         \\end{cases}\n",
    "                $$"
   ]
  },
  {
   "cell_type": "code",
   "execution_count": 9,
   "metadata": {},
   "outputs": [],
   "source": [
    "def exc_to_any_connectivity(N, dir, same_pop=False):\n",
    "    \"\"\"\n",
    "    Sets up the connectivity matrix between two excitatory populations.\n",
    "    N - number of neurons in each population\n",
    "    dir - directional tuning vector of pre_synaptic population\n",
    "    \"\"\"\n",
    "    connectivity = empty((N, N))\n",
    "   # dir = eval(dir) # convert string representation to list\n",
    "    for i in range(N): # looping over source neurons\n",
    "        i_x = i % N\n",
    "        i_y = i // N\n",
    "        for j in range(N):\n",
    "            j_x = j % N\n",
    "            j_y = j % N\n",
    "\n",
    "            if same_pop and i ==  j:\n",
    "                connectivity[i, j] = 0\n",
    "            else:\n",
    "                connectivity[i, j] = w_mag_plus**(1 + cos(pi*sqrt((j_x - i_x - xi*dir[i, 0])**2 + (j_y - i_y - xi*dir[i, 1])**2)))\n",
    "\n",
    "    return connectivity\n",
    "\n",
    "\n",
    "def inh_to_exc_connectivity(N):\n",
    "    \"\"\"\n",
    "    Sets up the connectivity matrix between two excitatory populations.\n",
    "    N - number of neurons in each population\n",
    "    dir - directional tuning vector of pre_synaptic population\n",
    "    \"\"\"\n",
    "    connectivity = empty((N, N))\n",
    "\n",
    "    for i in range(N): # looping over source neurons\n",
    "        i_x = i % N\n",
    "        i_y = i // N\n",
    "        for j in range(N):\n",
    "            j_x = j % N\n",
    "            j_y = j % N\n",
    "\n",
    "            connectivity[i, j] = w_mag_minus**(1 + cos(pi*sqrt((j_x - i_x)**2 + (j_y - i_y)**2)))\n",
    "\n",
    "    return connectivity"
   ]
  },
  {
   "cell_type": "code",
   "execution_count": 10,
   "metadata": {},
   "outputs": [
    {
     "name": "stdout",
     "output_type": "stream",
     "text": [
      "Setting up exc-->exc connections\n",
      "Source population: neurongroup\n",
      "Target population: NeuronGroup(clock=Clock(dt=100. * usecond, name='defaultclock'), when=start, order=0, name='neurongroup')\n"
     ]
    },
    {
     "name": "stderr",
     "output_type": "stream",
     "text": [
      "WARNING    Cannot use Cython, a test compilation failed: Microsoft Visual C++ 14.0 is required. Get it with \"Build Tools for Visual Studio\": https://visualstudio.microsoft.com/downloads/ (DistutilsPlatformError) [brian2.codegen.runtime.cython_rt.cython_rt.failed_compile_test]\n",
      "INFO       Cannot use compiled code, falling back to the numpy code generation target. Note that this will likely be slower than using compiled code. Set the code generation to numpy manually to avoid this message:\n",
      "prefs.codegen.target = \"numpy\" [brian2.devices.device.codegen_fallback]\n"
     ]
    },
    {
     "name": "stdout",
     "output_type": "stream",
     "text": [
      "Target population: NeuronGroup(clock=Clock(dt=100. * usecond, name='defaultclock'), when=start, order=0, name='neurongroup_1')\n",
      "Target population: NeuronGroup(clock=Clock(dt=100. * usecond, name='defaultclock'), when=start, order=0, name='neurongroup_2')\n",
      "Target population: NeuronGroup(clock=Clock(dt=100. * usecond, name='defaultclock'), when=start, order=0, name='neurongroup_3')\n",
      "Source population: neurongroup_1\n",
      "Target population: NeuronGroup(clock=Clock(dt=100. * usecond, name='defaultclock'), when=start, order=0, name='neurongroup')\n",
      "Target population: NeuronGroup(clock=Clock(dt=100. * usecond, name='defaultclock'), when=start, order=0, name='neurongroup_1')\n",
      "Target population: NeuronGroup(clock=Clock(dt=100. * usecond, name='defaultclock'), when=start, order=0, name='neurongroup_2')\n",
      "Target population: NeuronGroup(clock=Clock(dt=100. * usecond, name='defaultclock'), when=start, order=0, name='neurongroup_3')\n",
      "Source population: neurongroup_2\n",
      "Target population: NeuronGroup(clock=Clock(dt=100. * usecond, name='defaultclock'), when=start, order=0, name='neurongroup')\n",
      "Target population: NeuronGroup(clock=Clock(dt=100. * usecond, name='defaultclock'), when=start, order=0, name='neurongroup_1')\n",
      "Target population: NeuronGroup(clock=Clock(dt=100. * usecond, name='defaultclock'), when=start, order=0, name='neurongroup_2')\n",
      "Target population: NeuronGroup(clock=Clock(dt=100. * usecond, name='defaultclock'), when=start, order=0, name='neurongroup_3')\n",
      "Source population: neurongroup_3\n",
      "Target population: NeuronGroup(clock=Clock(dt=100. * usecond, name='defaultclock'), when=start, order=0, name='neurongroup')\n",
      "Target population: NeuronGroup(clock=Clock(dt=100. * usecond, name='defaultclock'), when=start, order=0, name='neurongroup_1')\n",
      "Target population: NeuronGroup(clock=Clock(dt=100. * usecond, name='defaultclock'), when=start, order=0, name='neurongroup_2')\n",
      "Target population: NeuronGroup(clock=Clock(dt=100. * usecond, name='defaultclock'), when=start, order=0, name='neurongroup_3')\n",
      "Setting up exc-->inh connections\n",
      "Setting up inh-->exc connections\n"
     ]
    }
   ],
   "source": [
    "S = [] # to store  the 25 synapse classes\n",
    "exc_populations = [P_n, P_s, P_e, P_w]\n",
    "all_populations = [P_n, P_s, P_e, P_w, P_i]\n",
    "index = 0\n",
    "\n",
    "# Set connections from excitatory to excitatory populations: (Total 16 iterations)\n",
    "print(\"Setting up exc-->exc connections\")\n",
    "for src in exc_populations:\n",
    "    print(\"Source population:\", src.name)\n",
    "    for trg in exc_populations:\n",
    "        print(\"Target population:\", trg)\n",
    "        S.append(Synapses(src, trg, 'w: 1', on_pre='v_post += w'))\n",
    "        if src == trg: # connection within the population     \n",
    "            S[index].connect(condition='i!=j') # if connection within population, don't connect neurons to themselves\n",
    "            # connectivity = exc_to_any_connectivity(N, src.dir, same_pop=True)\n",
    "            # S[index].w = 'connectivity[i, j]'\n",
    "            S[index].w = delete(exc_to_any_connectivity(N, src.dir/metre, same_pop=True).flatten(), range(0, N*N, N+1), 0) # deletes diagonal entries of connectivity before assigning it to weights\n",
    "        else:\n",
    "            S[index].connect() # if connections are between two populations, connect all neurons\n",
    "            # connectivity = exc_to_any_connectivity(N, src.dir)\n",
    "            # S[index].w = 'connectivity[i, j]'\n",
    "            S[index].w = exc_to_any_connectivity(N, src.dir/metre).flatten()\n",
    "        S[index].delay = 'tau_s_plus_plus'\n",
    "        index += 1\n",
    "\n",
    "# Set connections from excitatory to inhibitory population: (Total 4 iterations)\n",
    "print(\"Setting up exc-->inh connections\")\n",
    "for i in exc_populations:\n",
    "    S.append(Synapses(i, P_i, 'w:1', on_pre='v_post += w'))\n",
    "    S[index].connect()\n",
    "    # connectivity = exc_to_any_connectivity(N, src.dir)\n",
    "    # S[index].w = 'connectivity[i, j]'\n",
    "    S[index].w = exc_to_any_connectivity(N, src.dir/metre).flatten()\n",
    "    S[index].delay = 'tau_s_minus_plus'\n",
    "    index += 1    \n",
    "\n",
    "# Set connections from inhibitory to excitatory neurons: (Total 4 iterations)\n",
    "print(\"Setting up inh-->exc connections\")\n",
    "for i in exc_populations:\n",
    "    S.append(Synapses(P_i, i, 'w:1', on_pre='v_post += w'))\n",
    "    S[index].connect()\n",
    "    # connectivity = inh_to_exc_connectivity(N)\n",
    "    # S[index].w = 'connectivity[i, j]'\n",
    "    S[index].w = inh_to_exc_connectivity(N).flatten()\n",
    "    S[index].delay = 'tau_s_minus'\n",
    "    index += 1\n",
    "\n",
    "# The inhibitory population doesn't have recurrent connections within itself\n",
    "\n"
   ]
  },
  {
   "cell_type": "markdown",
   "metadata": {},
   "source": [
    "### Simulation Protocol\n",
    "* Each neuron initialised to a random potential between 0 & 1\n",
    "* 500 timesteps without velocity input to generate grid like pattern\n",
    "* 3 evolutions of timesteps with constant velocity input of 0.5m/sec at angles $\\pi/2 - \\pi/5, 2\\pi/5, and \\pi/4$ successively.\n",
    "* Evolve the network for 4 laps without idle periods. (What is a lap?)"
   ]
  },
  {
   "cell_type": "markdown",
   "metadata": {},
   "source": [
    "Where to get the velocity inputs from?"
   ]
  },
  {
   "cell_type": "markdown",
   "metadata": {},
   "source": [
    "### Plot grid cell activity"
   ]
  },
  {
   "cell_type": "markdown",
   "metadata": {},
   "source": [
    "Ways to do this:\n",
    "1. Bin spiking activity in some time window and plot as heatmap on top of neural sheet (for any particular timewindow)\n",
    "2. "
   ]
  },
  {
   "cell_type": "code",
   "execution_count": 11,
   "metadata": {},
   "outputs": [
    {
     "name": "stdout",
     "output_type": "stream",
     "text": [
      "[[-0.01518193  0.02709771]\n",
      " [-0.04320254 -0.00876418]\n",
      " [ 0.0035412  -0.003743  ]\n",
      " ...\n",
      " [ 0.59448003 -0.31232484]\n",
      " [ 0.62299913 -0.30629817]\n",
      " [ 0.61145628 -0.30694749]]\n",
      "\n"
     ]
    },
    {
     "data": {
      "text/plain": [
       "<matplotlib.legend.Legend at 0x1a7c4edad88>"
      ]
     },
     "execution_count": 11,
     "metadata": {},
     "output_type": "execute_result"
    },
    {
     "data": {
      "image/png": "[encoded data removed]",
      "text/plain": [
       "<Figure size 600x400 with 1 Axes>"
      ]
     },
     "metadata": {
      "needs_background": "light"
     },
     "output_type": "display_data"
    }
   ],
   "source": [
    "#@title Simulated Velocity Inputs:\n",
    "\n",
    "def simulate_random_velocity(duration, dt, step_size):\n",
    "    \"\"\"\n",
    "    Inputs\n",
    "    \n",
    "    \"\"\"\n",
    "    x = step_size * cumsum((random(int(duration/dt)) - 0.5))\n",
    "    y = step_size * cumsum((random(int(duration/dt)) - 0.5))\n",
    "\n",
    "    velocity = column_stack((x, y))\n",
    "\n",
    "    return velocity\n",
    "\n",
    "step_size = 0.1*metre\n",
    "dt = 0.1*ms\n",
    "velocity_array = simulate_random_velocity(duration, dt, step_size)\n",
    "print(velocity_array)\n",
    "print()\n",
    "\n",
    "figure(dpi=100)\n",
    "plot(velocity_array[:, 0], velocity_array[:, 1])\n",
    "plot(velocity_array[0, 0], velocity_array[0, 1], 'ro', color='black', label='start')\n",
    "plot(velocity_array[-1, 0], velocity_array[-1, 1], 'ro', color='blue', label='stop')\n",
    "legend()\n",
    "\n"
   ]
  },
  {
   "cell_type": "code",
   "execution_count": 12,
   "metadata": {},
   "outputs": [],
   "source": [
    "V = TimedArray(velocity_array, dt=dt)"
   ]
  },
  {
   "cell_type": "code",
   "execution_count": 17,
   "metadata": {},
   "outputs": [
    {
     "name": "stdout",
     "output_type": "stream",
     "text": [
      "Running the simulation\n"
     ]
    },
    {
     "ename": "BrianObjectException",
     "evalue": "Original error and traceback:\nTraceback (most recent call last):\n  File \"C:\\Users\\divya\\anaconda3\\lib\\site-packages\\brian2\\core\\network.py\", line 901, in before_run\n    obj.before_run(run_namespace)\n  File \"C:\\Users\\divya\\anaconda3\\lib\\site-packages\\brian2\\groups\\neurongroup.py\", line 888, in before_run\n    self.equations.check_units(self, run_namespace=run_namespace)\n  File \"C:\\Users\\divya\\anaconda3\\lib\\site-packages\\brian2\\equations\\equations.py\", line 961, in check_units\n    all_variables)\n  File \"C:\\Users\\divya\\anaconda3\\lib\\site-packages\\brian2\\equations\\unitcheck.py\", line 41, in check_dimensions\n    expr_dims = parse_expression_dimensions(expression, variables)\n  File \"C:\\Users\\divya\\anaconda3\\lib\\site-packages\\brian2\\parsing\\expressions.py\", line 327, in parse_expression_dimensions\n    right_dim = parse_expression_dimensions(expr.right, variables)\n  File \"C:\\Users\\divya\\anaconda3\\lib\\site-packages\\brian2\\parsing\\expressions.py\", line 326, in parse_expression_dimensions\n    left_dim = parse_expression_dimensions(expr.left, variables)\n  File \"C:\\Users\\divya\\anaconda3\\lib\\site-packages\\brian2\\parsing\\expressions.py\", line 239, in parse_expression_dimensions\n    'a function.' % name)\n  File \"<string>\", line None\nSyntaxError: a_plus was used like a variable/constant, but it is a function.\n\nError encountered with object named \"neurongroup_5\".\nObject was created here (most recent call only, full details in debug log):\n  File \"<ipython-input-16-87fb75d3a287>\", line 4, in <module>\n    P_n = NeuronGroup(N, eqns_exc, threshold='v > 1', reset=reset, method='euler')\n\nAn error occurred when preparing an object.   File \"<string>\", line None\n\nSyntaxError: a_plus was used like a variable/constant, but it is a function.\n(See above for original error message and traceback.)",
     "output_type": "error",
     "traceback": [
      "Traceback \u001b[1;36m(most recent call last)\u001b[0m:\n",
      "  File \u001b[0;32m\"C:\\Users\\divya\\anaconda3\\lib\\site-packages\\brian2\\core\\network.py\"\u001b[0m, line \u001b[0;32m901\u001b[0m, in \u001b[0;35mbefore_run\u001b[0m\n    obj.before_run(run_namespace)\n",
      "  File \u001b[0;32m\"C:\\Users\\divya\\anaconda3\\lib\\site-packages\\brian2\\groups\\neurongroup.py\"\u001b[0m, line \u001b[0;32m888\u001b[0m, in \u001b[0;35mbefore_run\u001b[0m\n    self.equations.check_units(self, run_namespace=run_namespace)\n",
      "  File \u001b[0;32m\"C:\\Users\\divya\\anaconda3\\lib\\site-packages\\brian2\\equations\\equations.py\"\u001b[0m, line \u001b[0;32m961\u001b[0m, in \u001b[0;35mcheck_units\u001b[0m\n    all_variables)\n",
      "  File \u001b[0;32m\"C:\\Users\\divya\\anaconda3\\lib\\site-packages\\brian2\\equations\\unitcheck.py\"\u001b[0m, line \u001b[0;32m41\u001b[0m, in \u001b[0;35mcheck_dimensions\u001b[0m\n    expr_dims = parse_expression_dimensions(expression, variables)\n",
      "  File \u001b[0;32m\"C:\\Users\\divya\\anaconda3\\lib\\site-packages\\brian2\\parsing\\expressions.py\"\u001b[0m, line \u001b[0;32m327\u001b[0m, in \u001b[0;35mparse_expression_dimensions\u001b[0m\n    right_dim = parse_expression_dimensions(expr.right, variables)\n",
      "  File \u001b[0;32m\"C:\\Users\\divya\\anaconda3\\lib\\site-packages\\brian2\\parsing\\expressions.py\"\u001b[0m, line \u001b[0;32m326\u001b[0m, in \u001b[0;35mparse_expression_dimensions\u001b[0m\n    left_dim = parse_expression_dimensions(expr.left, variables)\n",
      "\u001b[1;36m  File \u001b[1;32m\"C:\\Users\\divya\\anaconda3\\lib\\site-packages\\brian2\\parsing\\expressions.py\"\u001b[1;36m, line \u001b[1;32m239\u001b[1;36m, in \u001b[1;35mparse_expression_dimensions\u001b[1;36m\u001b[0m\n\u001b[1;33m    'a function.' % name)\u001b[0m\n",
      "\u001b[1;36m  File \u001b[1;32m\"<string>\"\u001b[1;36m, line \u001b[1;32munknown\u001b[0m\n\u001b[1;31mSyntaxError\u001b[0m\u001b[1;31m:\u001b[0m a_plus was used like a variable/constant, but it is a function.\n",
      "\nDuring handling of the above exception, another exception occurred:\n",
      "Traceback \u001b[1;36m(most recent call last)\u001b[0m:\n",
      "  File \u001b[0;32m\"C:\\Users\\divya\\anaconda3\\lib\\site-packages\\IPython\\core\\interactiveshell.py\"\u001b[0m, line \u001b[0;32m3331\u001b[0m, in \u001b[0;35mrun_code\u001b[0m\n    exec(code_obj, self.user_global_ns, self.user_ns)\n",
      "  File \u001b[0;32m\"<ipython-input-17-16bbce6eee55>\"\u001b[0m, line \u001b[0;32m2\u001b[0m, in \u001b[0;35m<module>\u001b[0m\n    run(duration)\n",
      "  File \u001b[0;32m\"C:\\Users\\divya\\anaconda3\\lib\\site-packages\\brian2\\units\\fundamentalunits.py\"\u001b[0m, line \u001b[0;32m2392\u001b[0m, in \u001b[0;35mnew_f\u001b[0m\n    result = f(*args, **kwds)\n",
      "  File \u001b[0;32m\"C:\\Users\\divya\\anaconda3\\lib\\site-packages\\brian2\\core\\magic.py\"\u001b[0m, line \u001b[0;32m374\u001b[0m, in \u001b[0;35mrun\u001b[0m\n    namespace=namespace, profile=profile, level=2+level)\n",
      "  File \u001b[0;32m\"C:\\Users\\divya\\anaconda3\\lib\\site-packages\\brian2\\core\\magic.py\"\u001b[0m, line \u001b[0;32m232\u001b[0m, in \u001b[0;35mrun\u001b[0m\n    namespace=namespace, profile=profile, level=level+1)\n",
      "  File \u001b[0;32m\"C:\\Users\\divya\\anaconda3\\lib\\site-packages\\brian2\\core\\base.py\"\u001b[0m, line \u001b[0;32m280\u001b[0m, in \u001b[0;35mdevice_override_decorated_function\u001b[0m\n    return func(*args, **kwds)\n",
      "  File \u001b[0;32m\"C:\\Users\\divya\\anaconda3\\lib\\site-packages\\brian2\\units\\fundamentalunits.py\"\u001b[0m, line \u001b[0;32m2392\u001b[0m, in \u001b[0;35mnew_f\u001b[0m\n    result = f(*args, **kwds)\n",
      "  File \u001b[0;32m\"C:\\Users\\divya\\anaconda3\\lib\\site-packages\\brian2\\core\\network.py\"\u001b[0m, line \u001b[0;32m1012\u001b[0m, in \u001b[0;35mrun\u001b[0m\n    self.before_run(namespace)\n",
      "  File \u001b[0;32m\"C:\\Users\\divya\\anaconda3\\lib\\site-packages\\brian2\\core\\base.py\"\u001b[0m, line \u001b[0;32m280\u001b[0m, in \u001b[0;35mdevice_override_decorated_function\u001b[0m\n    return func(*args, **kwds)\n",
      "\u001b[1;36m  File \u001b[1;32m\"C:\\Users\\divya\\anaconda3\\lib\\site-packages\\brian2\\core\\network.py\"\u001b[1;36m, line \u001b[1;32m903\u001b[1;36m, in \u001b[1;35mbefore_run\u001b[1;36m\u001b[0m\n\u001b[1;33m    raise brian_object_exception(\"An error occurred when preparing an object.\", obj, ex)\u001b[0m\n",
      "\u001b[1;36m  File \u001b[1;32m\"<string>\"\u001b[1;36m, line \u001b[1;32munknown\u001b[0m\n\u001b[1;31mBrianObjectException\u001b[0m\u001b[1;31m:\u001b[0m a_plus was used like a variable/constant, but it is a function.\n"
     ]
    }
   ],
   "source": [
    "print(\"Running the simulation\")\n",
    "run(duration)"
   ]
  },
  {
   "cell_type": "code",
   "execution_count": 43,
   "metadata": {},
   "outputs": [
    {
     "ename": "NameError",
     "evalue": "name 'velocity' is not defined",
     "output_type": "error",
     "traceback": [
      "\u001b[1;31m---------------------------------------------------------------------------\u001b[0m",
      "\u001b[1;31mNameError\u001b[0m                                 Traceback (most recent call last)",
      "\u001b[1;32m<ipython-input-43-dbd8a849438b>\u001b[0m in \u001b[0;36m<module>\u001b[1;34m\u001b[0m\n\u001b[0;32m      1\u001b[0m \u001b[1;31m# Simulation order\u001b[0m\u001b[1;33m\u001b[0m\u001b[1;33m\u001b[0m\u001b[1;33m\u001b[0m\u001b[0m\n\u001b[0;32m      2\u001b[0m \u001b[1;33m\u001b[0m\u001b[0m\n\u001b[1;32m----> 3\u001b[1;33m \u001b[0mvelocity\u001b[0m\u001b[1;33m\u001b[0m\u001b[1;33m\u001b[0m\u001b[0m\n\u001b[0m",
      "\u001b[1;31mNameError\u001b[0m: name 'velocity' is not defined"
     ]
    }
   ],
   "source": [
    "\n",
    "# Simulation order\n",
    "\n",
    "velocity"
   ]
  },
  {
   "cell_type": "code",
   "execution_count": null,
   "metadata": {},
   "outputs": [],
   "source": []
  },
  {
   "cell_type": "code",
   "execution_count": null,
   "metadata": {},
   "outputs": [],
   "source": []
  }
 ],
 "metadata": {
  "interpreter": {
   "hash": "b531b3af018a4982dfc1aa8db52a24cc3acb666bcf2043fb01945b05238aeb19"
  },
  "kernelspec": {
   "display_name": "Python 3.7.6 64-bit ('base': conda)",
   "language": "python",
   "name": "python3"
  },
  "language_info": {
   "codemirror_mode": {
    "name": "ipython",
    "version": 3
   },
   "file_extension": ".py",
   "mimetype": "text/x-python",
   "name": "python",
   "nbconvert_exporter": "python",
   "pygments_lexer": "ipython3",
   "version": "3.7.6"
  },
  "orig_nbformat": 4
 },
 "nbformat": 4,
 "nbformat_minor": 2
}

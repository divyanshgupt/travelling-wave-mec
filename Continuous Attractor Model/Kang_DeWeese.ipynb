{
 "cells": [
  {
   "cell_type": "code",
   "execution_count": 1,
   "metadata": {},
   "outputs": [],
   "source": [
    "from brian2 import *\n",
    "#import numpy as np\n",
    "# from matplotlib import pyplot as plt\n",
    "from tqdm import tqdm\n",
    "%matplotlib inline"
   ]
  },
  {
   "cell_type": "code",
   "execution_count": 3,
   "metadata": {},
   "outputs": [
    {
     "data": {
      "text/plain": [
       "330"
      ]
     },
     "execution_count": 3,
     "metadata": {},
     "output_type": "execute_result"
    }
   ],
   "source": [
    "a = arange(1, 10)\n",
    "b = arange(2, 11)\n",
    "dot(a, b)"
   ]
  },
  {
   "cell_type": "markdown",
   "metadata": {},
   "source": [
    "Excitatory Neurons:\n",
    "$$ \\tau_m^+ \\frac{\\phi^P(\\vec r, t+\\Delta t)  - \\phi^p(\\vec r, t)}{\\Delta t} + \\phi^P(\\vec r, t) = \\Sigma_{P', \\vec r'} w^+(\\vec r - \\vec r' - \\xi \\vec e^P)s^{P'}(\\vec r', t - \\tau_s^{++}) + \\Sigma_{\\vec r'}w^-(\\vec r - \\vec r')s^-(\\vec r', t - \\tau_s^-) + a^+(\\vec r)[1 + \\alpha E^P \\bullet V(t)] + \\zeta^P(\\vec r, t)  $$\n",
    "\n",
    "Inhibitory Neurons:\n",
    "$$ \\tau_m^+ \\frac{\\phi^-(\\vec r, t+\\Delta t)  - \\phi^-(\\vec r, t)}{\\Delta t} + \\phi^-(\\vec r, t) = \\Sigma_{P', \\vec r'} w^+(\\vec r - \\vec r' - \\xi \\vec e^P)s^{P'}(\\vec r', t - \\tau_s^{++}) + a^-(t) + \\zeta^-(\\vec r, t)  $$\n",
    "\n",
    "Synaptic connectivity from excitatory to all neurons\n",
    "$$ w^+(\\vec r) = \\begin{cases}\n",
    "                w_{mag} ^+{\\frac{1 + cos(\\pi r/r_{w^+})}{2}}& \\text{; } r < rw+\\\\\n",
    "                0          & \\text{; } r\\geq rw+\n",
    "         \\end{cases}\n",
    "                $$\n",
    "Synaptic connectivity from inhibitory to excitatory neurons\n",
    "$$ w^-(\\vec r) = \\begin{cases}\n",
    "                -w_{mag} ^-{\\frac{1 + cos(\\pi r/r_{w^+})}{2}}& \\text{; } r < 2rw-\\\\\n",
    "                0          & \\text{; } r\\geq 2rw-\n",
    "         \\end{cases}\n",
    "                $$\n",
    "\n",
    "$$ a^+(\\vec r) = \\begin{cases}\n",
    "                -a_{min}^+ + (a^+_{max} - a^+_{min})^{\\frac{1 + cos(\\pi \\rho /\\rho_{a^+})}{2}}& \\text{; } \\rho < \\rho a+\\\\\n",
    "                a_{min}^+          & \\text{; } \\rho \\geq \\rho a+.\n",
    "         \\end{cases}\n",
    "                $$\n",
    "\n",
    "$$ a^-(t) = a_{mag}^- - a_{th}^-cos(t\\pi ft + \\psi_0)  $$\n",
    "\n",
    "$$ \\rho = \\frac{\\sqrt{(x - \\frac{n+1/2}{2}^2 + (y - \\frac{n+1}{2}^2)}}{n/2}"
   ]
  },
  {
   "cell_type": "code",
   "execution_count": 4,
   "metadata": {},
   "outputs": [
    {
     "ename": "SyntaxError",
     "evalue": "invalid syntax (<ipython-input-4-20f4a5c5484c>, line 5)",
     "output_type": "error",
     "traceback": [
      "\u001b[1;36m  File \u001b[1;32m\"<ipython-input-4-20f4a5c5484c>\"\u001b[1;36m, line \u001b[1;32m5\u001b[0m\n\u001b[1;33m    tau_+\u001b[0m\n\u001b[1;37m         ^\u001b[0m\n\u001b[1;31mSyntaxError\u001b[0m\u001b[1;31m:\u001b[0m invalid syntax\n"
     ]
    }
   ],
   "source": [
    "start_scope() # creat a new scope\n",
    "\n",
    "# Parameters\n",
    "N = 232 * 232 # Neurons per population\n",
    "\n",
    "tau_m_plus = 40*ms # Exc. membrane time constant\n",
    "tau_m_minus = 20*ms # Inh. membrane time constant\n",
    "tau_s_plus_plus = 5*ms # Exc.-to-exc. synaptic delay\n",
    "tau_s_minus_plus = 2*ms # Exc.-to-inh. synaptic delay\n",
    "tau_s_minus = 2*ms # Inh. synaptic delay\n",
    "a_max_plus = 2 # Exc. drive maximum\n",
    "a_min_plus = 0.8 # Exc. drive minimum\n",
    "rho_a_plus = 1.2 # Exc. drive scaled speed\n",
    "a_mag_minus = 0.72 # Inh. drive magnitude\n",
    "a_th_minus = 0.2 # Inh. drive theta amplitude\n",
    "f = 8 # Inh. drive theta frequency\n",
    "w_mag_plus = 0.2 # Exc. synaptic strength\n",
    "r_w_plus = 6 # Exc. synaptic spread\n",
    "w_mag_minus = 2.8 # Inh. synaptic strength\n",
    "r_w_minus = 12 # Inh. synaptic distance\n",
    "xi = 3 # Exc. synaptic shift\n",
    "alpha = 0.25*second/metre # Exc. velocity gain\n",
    "var_zeta_P = 0.002**2 # Exc. noise magnitude\n",
    "var_zeta_I = 0.002**2 # Inh. noise magnitude\n",
    "\n",
    "\n",
    "duration = 1000*ms\n"
   ]
  },
  {
   "cell_type": "code",
   "execution_count": null,
   "metadata": {},
   "outputs": [],
   "source": [
    "eqns_exc = '''\n",
    "dv/dt = -v/tau_m_plus  + xi + a_plus*(1 + alpha*dot([xdir, ydir], ))\n",
    "\n",
    "x: metre\n",
    "y: metre\n",
    "\n",
    "'''\n",
    "\n",
    "eqns_inh = '''\n",
    "\n",
    "dV/dt = -(v - a_minus)/tau_m_minus + xi\n",
    "\n",
    "a_minus = a_mag_minus - a_th_minus*cos(2*pi*f*t): 1\n",
    "'''\n",
    "\n",
    "\n",
    "reset = '''\n",
    "\n",
    "v = 0\n",
    "\n",
    "'''\n",
    "\n",
    "threshold = '''\n",
    "v>1\n",
    "'''"
   ]
  },
  {
   "cell_type": "code",
   "execution_count": null,
   "metadata": {},
   "outputs": [],
   "source": [
    "# Neural Populations\n",
    "\n",
    "## North\n",
    "P_n = NeuronGroup(N, eqns, threshold='', reset=reset, method='heun')\n",
    "P_n.x = 'i % 232' # will assign x-values from 0 to 231 repeatedly\n",
    "P_n.y = 'i//232' # will assign y-value 0 to first 232 cells and so on\n",
    "P_n.dir = '[0, 1]' # North\n",
    "P_n.rho = 'sqrt((x - ((n+1)/2))**2 + (y - ((n+1)/2))**2)/(N/2)'\n",
    "P_n.a_plus = 'where(rho < rho_a_plus, a_min_plus + (a_max_plus - a_min_plus)*(1 - cos(pi*rho/rho_a_plus)), a_min_plus)'\n",
    "\n",
    "\n",
    "## South\n",
    "P_s = NeuronGroup(N, eqns, threshold='', reset=reset, method='')\n",
    "P_s.x = 'i % 232' # will assign x-values from 0 to 231 repeatedly\n",
    "P_s.y = 'i//232' # will assign y-value 0 to first 232 cells and so on\n",
    "P_s.dir = '[0, -1]' # South\n",
    "P_s.rho = 'sqrt((x - ((n+1)/2))**2 + (y - ((n+1)/2))**2)/(N/2)'\n",
    "P_s.a_plus = 'where(rho < rho_a_plus, a_min_plus + (a_max_plus - a_min_plus)*(1 - cos(pi*rho/rho_a_plus)), a_min_plus)'\n",
    "\n",
    "\n",
    "## East\n",
    "P_e = NeuronGroup(N, )\n",
    "P_e.x = 'i % 232' # will assign x-values from 0 to 231 repeatedly\n",
    "P_e.y = 'i//232' # will assign y-value 0 to first 232 cells and so on\n",
    "P_e.dir = '[1, 0]' # East\n",
    "P_e.rho = 'sqrt((x - ((n+1)/2))**2 + (y - ((n+1)/2))**2)/(N/2)'\n",
    "P_e.a_plus = 'where(rho < rho_a_plus, a_min_plus + (a_max_plus - a_min_plus)*(1 - cos(pi*rho/rho_a_plus)), a_min_plus)'\n",
    "\n",
    "## West\n",
    "P_w = NeuronGroup(N, )\n",
    "P_w.x = 'i % 232' # will assign x-values from 0 to 231 repeatedly\n",
    "P_w.y = 'i//232' # will assign y-value 0 to first 232 cells and so on\n",
    "P_w.dir = '[-1, 0]' # West\n",
    "P_w.rho = 'sqrt((x - ((n+1)/2))**2 + (y - ((n+1)/2))**2)/(N/2)'\n",
    "P_w.a_plus = 'where(rho < rho_a_plus, a_min_plus + (a_max_plus - a_min_plus)*(1 - cos(pi*rho/rho_a_plus)), a_min_plus)'\n",
    "\n",
    "## Inhibitory\n",
    "P_i = NeuronGroup(N, )\n",
    "P_i.x = 'i % 232' # will assign x-values from 0 to 231 repeatedly\n",
    "P_i.y = 'i//232' # will assign y-value 0 to first 232 cells and so on\n",
    "P_i.a_minus = 'a_mag_minus - a_th_minus*cos(2*pi*f'\n",
    "\n",
    "\n",
    "M_n = SpikeMonitor(P_n)\n",
    "M_s = SpikeMonitor(P_s)\n",
    "M_e = SpikeMonitor(P_e)\n",
    "M_w = SpikeMonitor(P_w)\n",
    "\n"
   ]
  },
  {
   "cell_type": "code",
   "execution_count": null,
   "metadata": {},
   "outputs": [],
   "source": [
    "S = Synapses(G, G, 'w: 1')\n",
    "S.connect(condition='i!=j')\n",
    "S.w = 'w_plus_mag**(1 + cos(pi*sqrt((x_post - x_pre - zeta*xdir_pre)**2 + (y_post - y_pre - zeta*ydir_pre)**2)))'\n",
    "\n",
    "S = Synapses(G, G, 'w: 1')\n",
    "S.connect(condition='i!=j')\n",
    "S.w = 'w_plus_mag**(1 + cos(pi*sqrt((x_post - x_pre - zeta*xdir_pre)**2 + (y_post - y_pre - zeta*ydir_pre)**2)))'\n",
    "\n",
    "S = Synapses(G, G, 'w: 1')\n",
    "S.connect(condition='i!=j')\n",
    "S.w = 'w_plus_mag**(1 + cos(pi*sqrt((x_post - x_pre - zeta*xdir_pre)**2 + (y_post - y_pre - zeta*ydir_pre)**2)))'\n",
    "\n",
    "S = Synapses(G, G, 'w: 1')\n",
    "S.connect(condition='i!=j')\n",
    "S.w = 'w_plus_mag**(1 + cos(pi*sqrt((x_post - x_pre - zeta*xdir_pre)**2 + (y_post - y_pre - zeta*ydir_pre)**2)))'\n",
    "\n",
    "S = Synapses(G, G, 'w: 1')\n",
    "S.connect(condition='i!=j')\n",
    "S.w = 'w_plus_mag**(1 + cos(pi*sqrt((x_post - x_pre - zeta*xdir_pre)**2 + (y_post - y_pre - zeta*ydir_pre)**2)))'\n",
    "\n",
    "S = Synapses(G, G, 'w: 1')\n",
    "S.connect(condition='i!=j')\n",
    "S.w = 'w_plus_mag**(1 + cos(pi*sqrt((x_post - x_pre - zeta*xdir_pre)**2 + (y_post - y_pre - zeta*ydir_pre)**2)))'\n",
    "\n",
    "\n",
    "S = [] # to store  the 25 synapse classes\n",
    "exc_populations = [P_n, P_s, P_e, P_w]\n",
    "all_populations = [P_n, P_s, P_e, P_w, P_i]\n",
    "index = 0\n",
    "\n",
    "# Set connections from excitatory to excitatory populations:\n",
    "for src in exc_populations:\n",
    "    for trg in exc_populations:\n",
    "        S.append(Synapses(src, trg, 'w: 1', on_pre='v_post += w'))\n",
    "        if src == trg: # connection within the population     \n",
    "            S[index].connect(condition='i!=j') # if connection within population, don't connect neurons to themselves\n",
    "        else:\n",
    "            S[index].connect() # if connections are between two populations, connect all neurons\n",
    "        S[index].w = 'w_plus_mag**(1 + cos(pi*sqrt((x_post - x_pre - xi*xdir_pre)**2 + (y_post - y_pre - xi*ydir_pre)**2))))'\n",
    "        S.delay = 'tau_s_plus_plus'\n",
    "        index += 1\n",
    "\n",
    "# Set connections from excitatory to inhibitory population:\n",
    "for i in exc_populations:\n",
    "    S.append(Synapses(i, P_i, 'w:1', on_pre='v_post += w'))\n",
    "    S[index].connect()\n",
    "    S[index].w = 'w_plus_mag**(1 + cos(pi*sqrt((x_post - x_pre - xi*xdir_pre)**2 + (y_post - y_pre - xi*ydir_pre)**2))))'\n",
    "    S.delay = 'tau_s_minux_plus'\n",
    "    index += 1    \n",
    "\n",
    "# Set connections from inhibitory to excitatory neurons:\n",
    "for i in exc_populations:\n",
    "    S.append(Synapses(P_i, i, 'w:1', on_pre='v_post += w'))\n",
    "    S[index].connect()\n",
    "    S[index].w = 'w_minus_mag**(1 + cos(pi*sqrt((x_post - x_pre - xi*xdir_pre)**2 + (y_post - y_pre - xi*ydir_pre)**2)))'\n",
    "    S.delay = 'tau_s_minus'\n",
    "    index += 1\n",
    "\n",
    "# The inhibitory population doesn't have recurrent connections within itself\n",
    "\n",
    "run(duration)\n",
    "\n",
    "\n"
   ]
  },
  {
   "cell_type": "markdown",
   "metadata": {},
   "source": [
    "Where to get the velocity inputs from?"
   ]
  },
  {
   "cell_type": "markdown",
   "metadata": {},
   "source": []
  }
 ],
 "metadata": {
  "interpreter": {
   "hash": "b531b3af018a4982dfc1aa8db52a24cc3acb666bcf2043fb01945b05238aeb19"
  },
  "kernelspec": {
   "display_name": "Python 3.7.6 64-bit ('base': conda)",
   "language": "python",
   "name": "python3"
  },
  "language_info": {
   "codemirror_mode": {
    "name": "ipython",
    "version": 3
   },
   "file_extension": ".py",
   "mimetype": "text/x-python",
   "name": "python",
   "nbconvert_exporter": "python",
   "pygments_lexer": "ipython3",
   "version": "3.9.7"
  },
  "orig_nbformat": 4
 },
 "nbformat": 4,
 "nbformat_minor": 2
}

{
 "cells": [
  {
   "cell_type": "code",
   "execution_count": 14,
   "metadata": {},
   "outputs": [],
   "source": [
    "from brian2 import *\n",
    "#import numpy as np\n",
    "# from matplotlib import pyplot as plt\n",
    "from tqdm import tqdm\n",
    "%matplotlib inline"
   ]
  },
  {
   "cell_type": "code",
   "execution_count": 31,
   "metadata": {},
   "outputs": [],
   "source": [
    "import sympy"
   ]
  },
  {
   "cell_type": "code",
   "execution_count": null,
   "metadata": {},
   "outputs": [],
   "source": []
  },
  {
   "cell_type": "code",
   "execution_count": 15,
   "metadata": {},
   "outputs": [
    {
     "data": {
      "text/plain": [
       "330"
      ]
     },
     "execution_count": 15,
     "metadata": {},
     "output_type": "execute_result"
    }
   ],
   "source": [
    "a = arange(1, 10)\n",
    "b = arange(2, 11)\n",
    "dot(a, b)"
   ]
  },
  {
   "cell_type": "markdown",
   "metadata": {},
   "source": [
    "Excitatory Neurons:\n",
    "$$ \\tau_m^+ \\frac{\\phi^P(\\vec r, t+\\Delta t)  - \\phi^p(\\vec r, t)}{\\Delta t} + \\phi^P(\\vec r, t) = \\Sigma_{P', \\vec r'} w^+(\\vec r - \\vec r' - \\xi \\vec e^P)s^{P'}(\\vec r', t - \\tau_s^{++}) + \\Sigma_{\\vec r'}w^-(\\vec r - \\vec r')s^-(\\vec r', t - \\tau_s^-) + a^+(\\vec r)[1 + \\alpha E^P \\bullet V(t)] + \\zeta^P(\\vec r, t)  $$\n",
    "\n",
    "Inhibitory Neurons:\n",
    "$$ \\tau_m^+ \\frac{\\phi^-(\\vec r, t+\\Delta t)  - \\phi^-(\\vec r, t)}{\\Delta t} + \\phi^-(\\vec r, t) = \\Sigma_{P', \\vec r'} w^+(\\vec r - \\vec r' - \\xi \\vec e^P)s^{P'}(\\vec r', t - \\tau_s^{++}) + a^-(t) + \\zeta^-(\\vec r, t)  $$\n",
    "\n",
    "Synaptic connectivity from excitatory to all neurons\n",
    "$$ w^+(\\vec r) = \\begin{cases}\n",
    "                w_{mag} ^+{\\frac{1 + cos(\\pi r/r_{w^+})}{2}}& \\text{; } r < rw+\\\\\n",
    "                0          & \\text{; } r\\geq rw+\n",
    "         \\end{cases}\n",
    "                $$\n",
    "Synaptic connectivity from inhibitory to excitatory neurons\n",
    "$$ w^-(\\vec r) = \\begin{cases}\n",
    "                -w_{mag} ^-{\\frac{1 + cos(\\pi r/r_{w^+})}{2}}& \\text{; } r < 2rw-\\\\\n",
    "                0          & \\text{; } r\\geq 2rw-\n",
    "         \\end{cases}\n",
    "                $$\n",
    "\n",
    "$$ a^+(\\vec r) = \\begin{cases}\n",
    "                -a_{min}^+ + (a^+_{max} - a^+_{min})^{\\frac{1 + cos(\\pi \\rho /\\rho_{a^+})}{2}}& \\text{; } \\rho < \\rho a+\\\\\n",
    "                a_{min}^+          & \\text{; } \\rho \\geq \\rho a+.\n",
    "         \\end{cases}\n",
    "                $$\n",
    "\n",
    "$$ a^-(t) = a_{mag}^- - a_{th}^-cos(t\\pi ft + \\psi_0)  $$\n",
    "\n",
    "$$ \\rho = \\frac{\\sqrt{(x - \\frac{n+1/2}{2}^2 + (y - \\frac{n+1}{2}^2)}}{n/2}"
   ]
  },
  {
   "cell_type": "code",
   "execution_count": 16,
   "metadata": {},
   "outputs": [],
   "source": [
    "start_scope() # creat a new scope\n",
    "\n",
    "# Parameters\n",
    "N = 232 * 232 # Neurons per population\n",
    "N = 10 * 10\n",
    "\n",
    "tau_m_plus = 40*ms # Exc. membrane time constant\n",
    "tau_m_minus = 20*ms # Inh. membrane time constant\n",
    "tau_s_plus_plus = 5*ms # Exc.-to-exc. synaptic delay\n",
    "tau_s_minus_plus = 2*ms # Exc.-to-inh. synaptic delay\n",
    "tau_s_minus = 2*ms # Inh. synaptic delay\n",
    "a_max_plus = 2 # Exc. drive maximum\n",
    "a_min_plus = 0.8 # Exc. drive minimum\n",
    "rho_a_plus = 1.2 # Exc. drive scaled speed\n",
    "a_mag_minus = 0.72 # Inh. drive magnitude\n",
    "a_th_minus = 0.2 # Inh. drive theta amplitude\n",
    "f = 8 # Inh. drive theta frequency\n",
    "w_mag_plus = 0.2 # Exc. synaptic strength\n",
    "r_w_plus = 6 # Exc. synaptic spread\n",
    "w_mag_minus = 2.8 # Inh. synaptic strength\n",
    "r_w_minus = 12 # Inh. synaptic distance\n",
    "xi = 3 # Exc. synaptic shift\n",
    "alpha = 0.25*second/metre # Exc. velocity gain\n",
    "var_zeta_P = 0.002**2 # Exc. noise magnitude\n",
    "var_zeta_I = 0.002**2 # Inh. noise magnitude\n",
    "\n",
    "\n",
    "duration = 1000*ms\n"
   ]
  },
  {
   "cell_type": "code",
   "execution_count": 6,
   "metadata": {},
   "outputs": [
    {
     "ename": "SyntaxError",
     "evalue": "invalid syntax (3328335107.py, line 1)",
     "output_type": "error",
     "traceback": [
      "\u001b[0;36m  File \u001b[0;32m\"/tmp/ipykernel_1998316/3328335107.py\"\u001b[0;36m, line \u001b[0;32m1\u001b[0m\n\u001b[0;31m    V = TimedArray(velocity_array, dt=)\u001b[0m\n\u001b[0m                                      ^\u001b[0m\n\u001b[0;31mSyntaxError\u001b[0m\u001b[0;31m:\u001b[0m invalid syntax\n"
     ]
    }
   ],
   "source": [
    "V = TimedArray(velocity_array, dt=)"
   ]
  },
  {
   "cell_type": "code",
   "execution_count": 17,
   "metadata": {},
   "outputs": [],
   "source": [
    "eqns_exc = '''\n",
    "\n",
    "dv/dt = -v/tau_m_plus  + xi + a_plus*(1 + alpha*dot(dir, V))/tau_m_plus : 1\n",
    "\n",
    "\n",
    "'''\n",
    "\n",
    "eqns_inh = '''\n",
    "\n",
    "dv/dt = -(v - a_minus)/tau_m_minus + xi : 1\n",
    "a_minus = a_mag_minus - a_th_minus*cos(2*pi*f*t): 1\n",
    "\n",
    "'''\n",
    "\n",
    "\n",
    "reset = '''\n",
    "v = 0\n",
    "'''\n",
    "\n",
    "threshold = '''\n",
    "v>1\n",
    "'''"
   ]
  },
  {
   "cell_type": "markdown",
   "metadata": {},
   "source": [
    "* Each neuron initialised to a random potential between 0 & 1\n",
    "* 500 timesteps without velocity input to generate grid like pattern\n",
    "* 3 evolutions of timesteps with constant velocity input of 0.5m/sec at angles $\\pi/2 - \\pi/5, 2\\pi/5, and \\pi/4$ successively.\n",
    "* Evolve the network for 4 laps without idle periods. (What is a lap?)\n"
   ]
  },
  {
   "cell_type": "code",
   "execution_count": 18,
   "metadata": {},
   "outputs": [],
   "source": [
    "# Neural Populations\n",
    "\n",
    "## North\n",
    "P_n = NeuronGroup(N, eqns_exc, threshold='', reset=reset, method='rk4')\n",
    "P_n.add_attribute('x')\n",
    "P_n.add_attribute('y')\n",
    "P_n.add_attribute('dir')\n",
    "P_n.add_attribute('rho')\n",
    "P_n.add_attribute('a_plus')\n",
    "P_n.x = 'i % 232' # will assign x-values from 0 to 231 repeatedly\n",
    "P_n.y = 'i//232' # will assign y-value 0 to first 232 cells and so on\n",
    "P_n.dir = '[0, 1]' # North\n",
    "P_n.rho = 'sqrt((x - ((n+1)/2))**2 + (y - ((n+1)/2))**2)/(N/2)'\n",
    "P_n.a_plus = 'where(rho < rho_a_plus, a_min_plus + (a_max_plus - a_min_plus)*(1 - cos(pi*rho/rho_a_plus)), a_min_plus)'\n",
    "\n",
    "\n",
    "## South\n",
    "P_s = NeuronGroup(N, eqns_exc, threshold='', reset=reset, method='rk4')\n",
    "P_s.add_attribute('x')\n",
    "P_s.add_attribute('y')\n",
    "P_s.add_attribute('dir')\n",
    "P_s.add_attribute('rho')\n",
    "P_s.add_attribute('a_plus')\n",
    "P_s.x = 'i % 232' # will assign x-values from 0 to 231 repeatedly\n",
    "P_s.y = 'i//232' # will assign y-value 0 to first 232 cells and so on\n",
    "P_s.dir = '[0, -1]' # South\n",
    "P_s.rho = 'sqrt((x - ((n+1)/2))**2 + (y - ((n+1)/2))**2)/(N/2)'\n",
    "P_s.a_plus = 'where(rho < rho_a_plus, a_min_plus + (a_max_plus - a_min_plus)*(1 - cos(pi*rho/rho_a_plus)), a_min_plus)'\n",
    "\n",
    "\n",
    "## East\n",
    "P_e = NeuronGroup(N, eqns_exc, threshold='', reset=reset, method='rk4')\n",
    "P_e.add_attribute('x')\n",
    "P_e.add_attribute('y')\n",
    "P_e.add_attribute('dir')\n",
    "P_e.add_attribute('rho')\n",
    "P_e.add_attribute('a_plus')\n",
    "P_e.x = 'i % 232' # will assign x-values from 0 to 231 repeatedly\n",
    "P_e.y = 'i//232' # will assign y-value 0 to first 232 cells and so on\n",
    "P_e.dir = '[1, 0]' # East\n",
    "P_e.rho = 'sqrt((x - ((n+1)/2))**2 + (y - ((n+1)/2))**2)/(N/2)'\n",
    "P_e.a_plus = 'where(rho < rho_a_plus, a_min_plus + (a_max_plus - a_min_plus)*(1 - cos(pi*rho/rho_a_plus)), a_min_plus)'\n",
    "\n",
    "## West\n",
    "P_w = NeuronGroup(N, eqns_exc, threshold='', reset=reset, method='rk4' )\n",
    "P_w.add_attribute('x')\n",
    "P_w.add_attribute('y')\n",
    "P_w.add_attribute('dir')\n",
    "P_w.add_attribute('rho')\n",
    "P_w.add_attribute('a_plus')\n",
    "P_w.x = 'i % 232' # will assign x-values from 0 to 231 repeatedly\n",
    "P_w.y = 'i//232' # will assign y-value 0 to first 232 cells and so on\n",
    "P_w.dir = '[-1, 0]' # West\n",
    "P_w.rho = 'sqrt((x - ((n+1)/2))**2 + (y - ((n+1)/2))**2)/(N/2)'\n",
    "P_w.a_plus = 'where(rho < rho_a_plus, a_min_plus + (a_max_plus - a_min_plus)*(1 - cos(pi*rho/rho_a_plus)), a_min_plus)'\n",
    "\n",
    "## Inhibitory\n",
    "P_i = NeuronGroup(N, eqns_inh, threshold='', reset=reset, method='rk4' )\n",
    "P_i.add_attribute('x')\n",
    "P_i.add_attribute('y')\n",
    "\n",
    "P_i.x = 'i % 232' # will assign x-values from 0 to 231 repeatedly\n",
    "P_i.y = 'i//232' # will assign y-value 0 to first 232 cells and so on\n",
    "#P_i.a_minus = 'a_mag_minus - a_th_minus*cos(2*pi*f'\n",
    "\n",
    "\n",
    "M_n = SpikeMonitor(P_n)\n",
    "M_s = SpikeMonitor(P_s)\n",
    "M_e = SpikeMonitor(P_e)\n",
    "M_w = SpikeMonitor(P_w)\n",
    "\n"
   ]
  },
  {
   "cell_type": "code",
   "execution_count": 26,
   "metadata": {},
   "outputs": [],
   "source": [
    "def exc_to_any_connectivity(N, dir, same_pop=False):\n",
    "    \"\"\"\n",
    "    Sets up the connectivity matrix between two excitatory populations.\n",
    "    N - number of neurons in each population\n",
    "    dir - directional tuning vector of pre_synaptic population\n",
    "    \"\"\"\n",
    "    connectivity = zeros((N, N))\n",
    "    dir = eval(dir) # convert string representation to list\n",
    "    for i in range(N): # looping over source neurons\n",
    "        i_x = i % N\n",
    "        i_y = i // N\n",
    "        for j in range(N):\n",
    "            j_x = j % N\n",
    "            j_y = j % N\n",
    "\n",
    "            if same_pop and i ==  j:\n",
    "                connectivity[i, j] = 0\n",
    "            else:\n",
    "                connectivity[i, j] = w_mag_plus**(1 + cos(pi*sqrt((j_x - i_x - xi*dir[0])**2 + (j_y - i_y - xi*dir[1])**2)))\n",
    "\n",
    "    return connectivity\n",
    "\n",
    "\n",
    "def inh_to_exc_connectivity(N):\n",
    "    \"\"\"\n",
    "    Sets up the connectivity matrix between two excitatory populations.\n",
    "    N - number of neurons in each population\n",
    "    dir - directional tuning vector of pre_synaptic population\n",
    "    \"\"\"\n",
    "    connectivity = zeros((N, N))\n",
    "    dir = eval(dir) # convert string representation to list\n",
    "\n",
    "    for i in range(N): # looping over source neurons\n",
    "        i_x = i % N\n",
    "        i_y = i // N\n",
    "        for j in range(N):\n",
    "            j_x = j % N\n",
    "            j_y = j % N\n",
    "\n",
    "            connectivity[i, j] = w_mag_minus**(1 + cos(pi*sqrt((j_x - i_x)**2 + (j_y - i_y)**2)))\n",
    "\n",
    "    return connectivity\n",
    "\n",
    "\n",
    "\n"
   ]
  },
  {
   "cell_type": "code",
   "execution_count": 12,
   "metadata": {},
   "outputs": [
    {
     "name": "stdout",
     "output_type": "stream",
     "text": [
      "Setting up exc-->exc connections\n",
      "Source population: NeuronGroup(clock=Clock(dt=100. * usecond, name='defaultclock'), when=start, order=0, name='neurongroup_5')\n",
      "Target population: NeuronGroup(clock=Clock(dt=100. * usecond, name='defaultclock'), when=start, order=0, name='neurongroup_5')\n"
     ]
    },
    {
     "ename": "SyntaxError",
     "evalue": "Unknown syntax: Subscript (<string>)",
     "output_type": "error",
     "traceback": [
      "Traceback \u001b[0;36m(most recent call last)\u001b[0m:\n",
      "\u001b[0;36m  File \u001b[0;32m\"/home/divyansh/anaconda3/lib/python3.9/site-packages/brian2/parsing/rendering.py\"\u001b[0;36m, line \u001b[0;32m79\u001b[0;36m, in \u001b[0;35mrender_node\u001b[0;36m\u001b[0m\n\u001b[0;31m    return getattr(self, methname)(node)\u001b[0m\n",
      "\u001b[0;31mAttributeError\u001b[0m\u001b[0;31m:\u001b[0m 'SympyNodeRenderer' object has no attribute 'render_Subscript'\n",
      "\nDuring handling of the above exception, another exception occurred:\n",
      "Traceback \u001b[0;36m(most recent call last)\u001b[0m:\n",
      "  File \u001b[1;32m\"/home/divyansh/anaconda3/lib/python3.9/site-packages/IPython/core/interactiveshell.py\"\u001b[0m, line \u001b[1;32m3444\u001b[0m, in \u001b[1;35mrun_code\u001b[0m\n    exec(code_obj, self.user_global_ns, self.user_ns)\n",
      "  File \u001b[1;32m\"/tmp/ipykernel_14026/2023144366.py\"\u001b[0m, line \u001b[1;32m17\u001b[0m, in \u001b[1;35m<module>\u001b[0m\n    S[index].w = 'w_mag_plus**(1 + cos(pi*sqrt((x_post - x_pre - xi*dir_pre[0])**2 + (y_post - y_pre - xi*dir_pre[1])**2)))'\n",
      "  File \u001b[1;32m\"/home/divyansh/anaconda3/lib/python3.9/site-packages/brian2/groups/group.py\"\u001b[0m, line \u001b[1;32m424\u001b[0m, in \u001b[1;35m__setattr__\u001b[0m\n    var.get_addressable_value_with_unit(name, self).set_item(slice(None),\n",
      "  File \u001b[1;32m\"/home/divyansh/anaconda3/lib/python3.9/site-packages/brian2/core/variables.py\"\u001b[0m, line \u001b[1;32m876\u001b[0m, in \u001b[1;35mset_item\u001b[0m\n    self.set_with_expression_conditional(item, value,\n",
      "  File \u001b[1;32m\"/home/divyansh/anaconda3/lib/python3.9/site-packages/brian2/core/base.py\"\u001b[0m, line \u001b[1;32m278\u001b[0m, in \u001b[1;35mdevice_override_decorated_function\u001b[0m\n    return func(*args, **kwds)\n",
      "  File \u001b[1;32m\"/home/divyansh/anaconda3/lib/python3.9/site-packages/brian2/core/variables.py\"\u001b[0m, line \u001b[1;32m1033\u001b[0m, in \u001b[1;35mset_with_expression_conditional\u001b[0m\n    codeobj = create_runner_codeobj(self.group,\n",
      "  File \u001b[1;32m\"/home/divyansh/anaconda3/lib/python3.9/site-packages/brian2/codegen/codeobject.py\"\u001b[0m, line \u001b[1;32m344\u001b[0m, in \u001b[1;35mcreate_runner_codeobj\u001b[0m\n    _, uk, u = analyse_identifiers(v, all_variables, recursive=True)\n",
      "  File \u001b[1;32m\"/home/divyansh/anaconda3/lib/python3.9/site-packages/brian2/codegen/translation.py\"\u001b[0m, line \u001b[1;32m95\u001b[0m, in \u001b[1;35manalyse_identifiers\u001b[0m\n    scalar_stmts, vector_stmts = make_statements(code, variables, np.float64, optimise=False)\n",
      "  File \u001b[1;32m\"/home/divyansh/anaconda3/lib/python3.9/site-packages/brian2/utils/caching.py\"\u001b[0m, line \u001b[1;32m101\u001b[0m, in \u001b[1;35mcached_func\u001b[0m\n    func._cache[cache_key] = func(*args, **kwds)\n",
      "  File \u001b[1;32m\"/home/divyansh/anaconda3/lib/python3.9/site-packages/brian2/codegen/translation.py\"\u001b[0m, line \u001b[1;32m248\u001b[0m, in \u001b[1;35mmake_statements\u001b[0m\n    sympy_expr = str_to_sympy(expr, variables)\n",
      "  File \u001b[1;32m\"/home/divyansh/anaconda3/lib/python3.9/site-packages/brian2/parsing/sympytools.py\"\u001b[0m, line \u001b[1;32m77\u001b[0m, in \u001b[1;35mstr_to_sympy\u001b[0m\n    return _str_to_sympy(expr)\n",
      "  File \u001b[1;32m\"/home/divyansh/anaconda3/lib/python3.9/site-packages/brian2/utils/caching.py\"\u001b[0m, line \u001b[1;32m101\u001b[0m, in \u001b[1;35mcached_func\u001b[0m\n    func._cache[cache_key] = func(*args, **kwds)\n",
      "  File \u001b[1;32m\"/home/divyansh/anaconda3/lib/python3.9/site-packages/brian2/parsing/sympytools.py\"\u001b[0m, line \u001b[1;32m83\u001b[0m, in \u001b[1;35m_str_to_sympy\u001b[0m\n    s_expr = SympyNodeRenderer().render_expr(expr)\n",
      "  File \u001b[1;32m\"/home/divyansh/anaconda3/lib/python3.9/site-packages/brian2/parsing/rendering.py\"\u001b[0m, line \u001b[1;32m67\u001b[0m, in \u001b[1;35mrender_expr\u001b[0m\n    return self.render_node(node.body)\n",
      "  File \u001b[1;32m\"/home/divyansh/anaconda3/lib/python3.9/site-packages/brian2/parsing/rendering.py\"\u001b[0m, line \u001b[1;32m79\u001b[0m, in \u001b[1;35mrender_node\u001b[0m\n    return getattr(self, methname)(node)\n",
      "  File \u001b[1;32m\"/home/divyansh/anaconda3/lib/python3.9/site-packages/brian2/parsing/rendering.py\"\u001b[0m, line \u001b[1;32m291\u001b[0m, in \u001b[1;35mrender_BinOp\u001b[0m\n    return op(self.render_node(node.left), self.render_node(node.right))\n",
      "  File \u001b[1;32m\"/home/divyansh/anaconda3/lib/python3.9/site-packages/brian2/parsing/rendering.py\"\u001b[0m, line \u001b[1;32m79\u001b[0m, in \u001b[1;35mrender_node\u001b[0m\n    return getattr(self, methname)(node)\n",
      "  File \u001b[1;32m\"/home/divyansh/anaconda3/lib/python3.9/site-packages/brian2/parsing/rendering.py\"\u001b[0m, line \u001b[1;32m291\u001b[0m, in \u001b[1;35mrender_BinOp\u001b[0m\n    return op(self.render_node(node.left), self.render_node(node.right))\n",
      "  File \u001b[1;32m\"/home/divyansh/anaconda3/lib/python3.9/site-packages/brian2/parsing/rendering.py\"\u001b[0m, line \u001b[1;32m79\u001b[0m, in \u001b[1;35mrender_node\u001b[0m\n    return getattr(self, methname)(node)\n",
      "  File \u001b[1;32m\"/home/divyansh/anaconda3/lib/python3.9/site-packages/brian2/parsing/rendering.py\"\u001b[0m, line \u001b[1;32m243\u001b[0m, in \u001b[1;35mrender_Call\u001b[0m\n    return self.render_func(node.func)(*(self.render_node(arg)\n",
      "  File \u001b[1;32m\"/home/divyansh/anaconda3/lib/python3.9/site-packages/brian2/parsing/rendering.py\"\u001b[0m, line \u001b[1;32m243\u001b[0m, in \u001b[1;35m<genexpr>\u001b[0m\n    return self.render_func(node.func)(*(self.render_node(arg)\n",
      "  File \u001b[1;32m\"/home/divyansh/anaconda3/lib/python3.9/site-packages/brian2/parsing/rendering.py\"\u001b[0m, line \u001b[1;32m79\u001b[0m, in \u001b[1;35mrender_node\u001b[0m\n    return getattr(self, methname)(node)\n",
      "  File \u001b[1;32m\"/home/divyansh/anaconda3/lib/python3.9/site-packages/brian2/parsing/rendering.py\"\u001b[0m, line \u001b[1;32m291\u001b[0m, in \u001b[1;35mrender_BinOp\u001b[0m\n    return op(self.render_node(node.left), self.render_node(node.right))\n",
      "  File \u001b[1;32m\"/home/divyansh/anaconda3/lib/python3.9/site-packages/brian2/parsing/rendering.py\"\u001b[0m, line \u001b[1;32m79\u001b[0m, in \u001b[1;35mrender_node\u001b[0m\n    return getattr(self, methname)(node)\n",
      "  File \u001b[1;32m\"/home/divyansh/anaconda3/lib/python3.9/site-packages/brian2/parsing/rendering.py\"\u001b[0m, line \u001b[1;32m243\u001b[0m, in \u001b[1;35mrender_Call\u001b[0m\n    return self.render_func(node.func)(*(self.render_node(arg)\n",
      "  File \u001b[1;32m\"/home/divyansh/anaconda3/lib/python3.9/site-packages/brian2/parsing/rendering.py\"\u001b[0m, line \u001b[1;32m243\u001b[0m, in \u001b[1;35m<genexpr>\u001b[0m\n    return self.render_func(node.func)(*(self.render_node(arg)\n",
      "  File \u001b[1;32m\"/home/divyansh/anaconda3/lib/python3.9/site-packages/brian2/parsing/rendering.py\"\u001b[0m, line \u001b[1;32m79\u001b[0m, in \u001b[1;35mrender_node\u001b[0m\n    return getattr(self, methname)(node)\n",
      "  File \u001b[1;32m\"/home/divyansh/anaconda3/lib/python3.9/site-packages/brian2/parsing/rendering.py\"\u001b[0m, line \u001b[1;32m291\u001b[0m, in \u001b[1;35mrender_BinOp\u001b[0m\n    return op(self.render_node(node.left), self.render_node(node.right))\n",
      "  File \u001b[1;32m\"/home/divyansh/anaconda3/lib/python3.9/site-packages/brian2/parsing/rendering.py\"\u001b[0m, line \u001b[1;32m79\u001b[0m, in \u001b[1;35mrender_node\u001b[0m\n    return getattr(self, methname)(node)\n",
      "  File \u001b[1;32m\"/home/divyansh/anaconda3/lib/python3.9/site-packages/brian2/parsing/rendering.py\"\u001b[0m, line \u001b[1;32m291\u001b[0m, in \u001b[1;35mrender_BinOp\u001b[0m\n    return op(self.render_node(node.left), self.render_node(node.right))\n",
      "  File \u001b[1;32m\"/home/divyansh/anaconda3/lib/python3.9/site-packages/brian2/parsing/rendering.py\"\u001b[0m, line \u001b[1;32m79\u001b[0m, in \u001b[1;35mrender_node\u001b[0m\n    return getattr(self, methname)(node)\n",
      "  File \u001b[1;32m\"/home/divyansh/anaconda3/lib/python3.9/site-packages/brian2/parsing/rendering.py\"\u001b[0m, line \u001b[1;32m288\u001b[0m, in \u001b[1;35mrender_BinOp\u001b[0m\n    -self.render_node(node.right))\n",
      "  File \u001b[1;32m\"/home/divyansh/anaconda3/lib/python3.9/site-packages/brian2/parsing/rendering.py\"\u001b[0m, line \u001b[1;32m79\u001b[0m, in \u001b[1;35mrender_node\u001b[0m\n    return getattr(self, methname)(node)\n",
      "  File \u001b[1;32m\"/home/divyansh/anaconda3/lib/python3.9/site-packages/brian2/parsing/rendering.py\"\u001b[0m, line \u001b[1;32m291\u001b[0m, in \u001b[1;35mrender_BinOp\u001b[0m\n    return op(self.render_node(node.left), self.render_node(node.right))\n",
      "\u001b[0;36m  File \u001b[0;32m\"/home/divyansh/anaconda3/lib/python3.9/site-packages/brian2/parsing/rendering.py\"\u001b[0;36m, line \u001b[0;32m81\u001b[0;36m, in \u001b[0;35mrender_node\u001b[0;36m\u001b[0m\n\u001b[0;31m    raise SyntaxError(\"Unknown syntax: \" + nodename)\u001b[0m\n",
      "\u001b[0;36m  File \u001b[0;32m\"<string>\"\u001b[0;36m, line \u001b[0;32munknown\u001b[0m\n\u001b[0;31mSyntaxError\u001b[0m\u001b[0;31m:\u001b[0m Unknown syntax: Subscript\n"
     ]
    }
   ],
   "source": [
    "\n",
    "S = [] # to store  the 25 synapse classes\n",
    "exc_populations = [P_n, P_s, P_e, P_w]\n",
    "all_populations = [P_n, P_s, P_e, P_w, P_i]\n",
    "index = 0\n",
    "\n",
    "# Set connections from excitatory to excitatory populations:\n",
    "print(\"Setting up exc-->exc connections\")\n",
    "for src in exc_populations:\n",
    "    print(\"Source population:\", src)\n",
    "    for trg in exc_populations:\n",
    "        print(\"Target population:\", trg)\n",
    "        S.append(Synapses(src, trg, 'w: 1', on_pre='v_post += w'))\n",
    "        if src == trg: # connection within the population     \n",
    "            S[index].connect(condition='i!=j') # if connection within population, don't connect neurons to themselves\n",
    "        else:\n",
    "            S[index].connect() # if connections are between two populations, connect all neurons\n",
    "        S[index].w = 'w_mag_plus**(1 + cos(pi*sqrt((x_post - x_pre - xi*dir_pre[0])**2 + (y_post - y_pre - xi*dir_pre[1])**2)))'\n",
    "        S.delay = 'tau_s_plus_plus'\n",
    "        index += 1\n",
    "\n",
    "# Set connections from excitatory to inhibitory population:\n",
    "print(\"Setting up exc-->inh connections\")\n",
    "for i in exc_populations:\n",
    "    S.append(Synapses(i, P_i, 'w:1', on_pre='v_post += w'))\n",
    "    S[index].connect()\n",
    "    S[index].w = 'w_mag_plus**(1 + cos(pi*sqrt((x_post - x_pre - xi*dir_pre[0])**2 + (y_post - y_pre - xi*dir_pre[1])**2)))'\n",
    "    S.delay = 'tau_s_minus_plus'\n",
    "    index += 1    \n",
    "\n",
    "# Set connections from inhibitory to excitatory neurons:\n",
    "print(\"Setting up inh-->exc connections\")\n",
    "for i in exc_populations:\n",
    "    S.append(Synapses(P_i, i, 'w:1', on_pre='v_post += w'))\n",
    "    S[index].connect()\n",
    "    S[index].w = 'w_mag_minus**(1 + cos(pi*sqrt((x_post - x_pre)**2 + (y_post - y_pre)**2)))'\n",
    "    S.delay = 'tau_s_minus'\n",
    "    index += 1\n",
    "\n",
    "# The inhibitory population doesn't have recurrent connections within itself\n",
    "\n",
    "print(\"Running the simulation\")\n",
    "run(duration)\n",
    "\n",
    "\n"
   ]
  },
  {
   "cell_type": "code",
   "execution_count": 30,
   "metadata": {},
   "outputs": [
    {
     "name": "stdout",
     "output_type": "stream",
     "text": [
      "Setting up exc-->exc connections\n",
      "Source population: NeuronGroup(clock=Clock(dt=100. * usecond, name='defaultclock'), when=start, order=0, name='neurongroup_10')\n",
      "Target population: NeuronGroup(clock=Clock(dt=100. * usecond, name='defaultclock'), when=start, order=0, name='neurongroup_10')\n"
     ]
    },
    {
     "ename": "SyntaxError",
     "evalue": "Unknown syntax: Subscript (<string>)",
     "output_type": "error",
     "traceback": [
      "Traceback \u001b[0;36m(most recent call last)\u001b[0m:\n",
      "\u001b[0;36m  File \u001b[0;32m\"/home/divyansh/anaconda3/lib/python3.9/site-packages/brian2/parsing/rendering.py\"\u001b[0;36m, line \u001b[0;32m79\u001b[0;36m, in \u001b[0;35mrender_node\u001b[0;36m\u001b[0m\n\u001b[0;31m    return getattr(self, methname)(node)\u001b[0m\n",
      "\u001b[0;31mAttributeError\u001b[0m\u001b[0;31m:\u001b[0m 'SympyNodeRenderer' object has no attribute 'render_Subscript'\n",
      "\nDuring handling of the above exception, another exception occurred:\n",
      "Traceback \u001b[0;36m(most recent call last)\u001b[0m:\n",
      "  File \u001b[1;32m\"/home/divyansh/anaconda3/lib/python3.9/site-packages/IPython/core/interactiveshell.py\"\u001b[0m, line \u001b[1;32m3444\u001b[0m, in \u001b[1;35mrun_code\u001b[0m\n    exec(code_obj, self.user_global_ns, self.user_ns)\n",
      "  File \u001b[1;32m\"/tmp/ipykernel_14026/901173834.py\"\u001b[0m, line \u001b[1;32m16\u001b[0m, in \u001b[1;35m<module>\u001b[0m\n    S[index].w = 'connectivity[i, j]'\n",
      "  File \u001b[1;32m\"/home/divyansh/anaconda3/lib/python3.9/site-packages/brian2/groups/group.py\"\u001b[0m, line \u001b[1;32m424\u001b[0m, in \u001b[1;35m__setattr__\u001b[0m\n    var.get_addressable_value_with_unit(name, self).set_item(slice(None),\n",
      "  File \u001b[1;32m\"/home/divyansh/anaconda3/lib/python3.9/site-packages/brian2/core/variables.py\"\u001b[0m, line \u001b[1;32m876\u001b[0m, in \u001b[1;35mset_item\u001b[0m\n    self.set_with_expression_conditional(item, value,\n",
      "  File \u001b[1;32m\"/home/divyansh/anaconda3/lib/python3.9/site-packages/brian2/core/base.py\"\u001b[0m, line \u001b[1;32m278\u001b[0m, in \u001b[1;35mdevice_override_decorated_function\u001b[0m\n    return func(*args, **kwds)\n",
      "  File \u001b[1;32m\"/home/divyansh/anaconda3/lib/python3.9/site-packages/brian2/core/variables.py\"\u001b[0m, line \u001b[1;32m1033\u001b[0m, in \u001b[1;35mset_with_expression_conditional\u001b[0m\n    codeobj = create_runner_codeobj(self.group,\n",
      "  File \u001b[1;32m\"/home/divyansh/anaconda3/lib/python3.9/site-packages/brian2/codegen/codeobject.py\"\u001b[0m, line \u001b[1;32m344\u001b[0m, in \u001b[1;35mcreate_runner_codeobj\u001b[0m\n    _, uk, u = analyse_identifiers(v, all_variables, recursive=True)\n",
      "  File \u001b[1;32m\"/home/divyansh/anaconda3/lib/python3.9/site-packages/brian2/codegen/translation.py\"\u001b[0m, line \u001b[1;32m95\u001b[0m, in \u001b[1;35manalyse_identifiers\u001b[0m\n    scalar_stmts, vector_stmts = make_statements(code, variables, np.float64, optimise=False)\n",
      "  File \u001b[1;32m\"/home/divyansh/anaconda3/lib/python3.9/site-packages/brian2/utils/caching.py\"\u001b[0m, line \u001b[1;32m101\u001b[0m, in \u001b[1;35mcached_func\u001b[0m\n    func._cache[cache_key] = func(*args, **kwds)\n",
      "  File \u001b[1;32m\"/home/divyansh/anaconda3/lib/python3.9/site-packages/brian2/codegen/translation.py\"\u001b[0m, line \u001b[1;32m248\u001b[0m, in \u001b[1;35mmake_statements\u001b[0m\n    sympy_expr = str_to_sympy(expr, variables)\n",
      "  File \u001b[1;32m\"/home/divyansh/anaconda3/lib/python3.9/site-packages/brian2/parsing/sympytools.py\"\u001b[0m, line \u001b[1;32m77\u001b[0m, in \u001b[1;35mstr_to_sympy\u001b[0m\n    return _str_to_sympy(expr)\n",
      "  File \u001b[1;32m\"/home/divyansh/anaconda3/lib/python3.9/site-packages/brian2/utils/caching.py\"\u001b[0m, line \u001b[1;32m101\u001b[0m, in \u001b[1;35mcached_func\u001b[0m\n    func._cache[cache_key] = func(*args, **kwds)\n",
      "  File \u001b[1;32m\"/home/divyansh/anaconda3/lib/python3.9/site-packages/brian2/parsing/sympytools.py\"\u001b[0m, line \u001b[1;32m83\u001b[0m, in \u001b[1;35m_str_to_sympy\u001b[0m\n    s_expr = SympyNodeRenderer().render_expr(expr)\n",
      "  File \u001b[1;32m\"/home/divyansh/anaconda3/lib/python3.9/site-packages/brian2/parsing/rendering.py\"\u001b[0m, line \u001b[1;32m67\u001b[0m, in \u001b[1;35mrender_expr\u001b[0m\n    return self.render_node(node.body)\n",
      "\u001b[0;36m  File \u001b[0;32m\"/home/divyansh/anaconda3/lib/python3.9/site-packages/brian2/parsing/rendering.py\"\u001b[0;36m, line \u001b[0;32m81\u001b[0;36m, in \u001b[0;35mrender_node\u001b[0;36m\u001b[0m\n\u001b[0;31m    raise SyntaxError(\"Unknown syntax: \" + nodename)\u001b[0m\n",
      "\u001b[0;36m  File \u001b[0;32m\"<string>\"\u001b[0;36m, line \u001b[0;32munknown\u001b[0m\n\u001b[0;31mSyntaxError\u001b[0m\u001b[0;31m:\u001b[0m Unknown syntax: Subscript\n"
     ]
    }
   ],
   "source": [
    "S = [] # to store  the 25 synapse classes\n",
    "exc_populations = [P_n, P_s, P_e, P_w]\n",
    "all_populations = [P_n, P_s, P_e, P_w, P_i]\n",
    "index = 0\n",
    "\n",
    "# Set connections from excitatory to excitatory populations:\n",
    "print(\"Setting up exc-->exc connections\")\n",
    "for src in exc_populations:\n",
    "    print(\"Source population:\", src)\n",
    "    for trg in exc_populations:\n",
    "        print(\"Target population:\", trg)\n",
    "        S.append(Synapses(src, trg, 'w: 1', on_pre='v_post += w'))\n",
    "        if src == trg: # connection within the population     \n",
    "            S[index].connect(condition='i!=j') # if connection within population, don't connect neurons to themselves\n",
    "            connectivity = exc_to_any_connectivity(N, src.dir, same_pop=True)\n",
    "            S[index].w = 'connectivity[i, j]'\n",
    "        else:\n",
    "            S[index].connect() # if connections are between two populations, connect all neurons\n",
    "            connectivity = exc_to_any_connectivity(N, src.dir)\n",
    "            S[index].w = 'connectivity[i, j]'\n",
    "        S.delay = 'tau_s_plus_plus'\n",
    "        index += 1\n",
    "\n",
    "# Set connections from excitatory to inhibitory population:\n",
    "print(\"Setting up exc-->inh connections\")\n",
    "for i in exc_populations:\n",
    "    S.append(Synapses(i, P_i, 'w:1', on_pre='v_post += w'))\n",
    "    S[index].connect()\n",
    "    connectivity = exc_to_any_connectivity(N, src.dir)\n",
    "    S[index].w = 'connectivity[i, j]'\n",
    "    S.delay = 'tau_s_minus_plus'\n",
    "    index += 1    \n",
    "\n",
    "# Set connections from inhibitory to excitatory neurons:\n",
    "print(\"Setting up inh-->exc connections\")\n",
    "for i in exc_populations:\n",
    "    S.append(Synapses(P_i, i, 'w:1', on_pre='v_post += w'))\n",
    "    S[index].connect()\n",
    "    connectivity = inh_to_exc_connectivity(N)\n",
    "    S[index].w = 'connectivity[i, j]'\n",
    "    S.delay = 'tau_s_minus'\n",
    "    index += 1\n",
    "\n",
    "# The inhibitory population doesn't have recurrent connections within itself\n",
    "\n",
    "print(\"Running the simulation\")\n",
    "run(duration)"
   ]
  },
  {
   "cell_type": "markdown",
   "metadata": {},
   "source": [
    "Where to get the velocity inputs from?"
   ]
  },
  {
   "cell_type": "code",
   "execution_count": 24,
   "metadata": {},
   "outputs": [
    {
     "data": {
      "text/plain": [
       "[0, 1]"
      ]
     },
     "execution_count": 24,
     "metadata": {},
     "output_type": "execute_result"
    }
   ],
   "source": [
    "eval(P_n.dir)"
   ]
  },
  {
   "cell_type": "code",
   "execution_count": 32,
   "metadata": {},
   "outputs": [
    {
     "data": {
      "text/plain": [
       "numpy.matrix"
      ]
     },
     "execution_count": 32,
     "metadata": {},
     "output_type": "execute_result"
    }
   ],
   "source": []
  },
  {
   "cell_type": "code",
   "execution_count": null,
   "metadata": {},
   "outputs": [],
   "source": []
  }
 ],
 "metadata": {
  "interpreter": {
   "hash": "b531b3af018a4982dfc1aa8db52a24cc3acb666bcf2043fb01945b05238aeb19"
  },
  "kernelspec": {
   "display_name": "Python 3.7.6 64-bit ('base': conda)",
   "language": "python",
   "name": "python3"
  },
  "language_info": {
   "codemirror_mode": {
    "name": "ipython",
    "version": 3
   },
   "file_extension": ".py",
   "mimetype": "text/x-python",
   "name": "python",
   "nbconvert_exporter": "python",
   "pygments_lexer": "ipython3",
   "version": "3.9.7"
  },
  "orig_nbformat": 4
 },
 "nbformat": 4,
 "nbformat_minor": 2
}

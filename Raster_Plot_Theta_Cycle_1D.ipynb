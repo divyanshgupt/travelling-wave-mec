{
  "nbformat": 4,
  "nbformat_minor": 0,
  "metadata": {
    "colab": {
      "name": "Raster Plot - Theta Cycle - 1D.ipynb",
      "provenance": [],
      "collapsed_sections": [],
      "include_colab_link": true
    },
    "kernelspec": {
      "name": "python3",
      "display_name": "Python 3"
    },
    "language_info": {
      "name": "python"
    }
  },
  "cells": [
    {
      "cell_type": "markdown",
      "metadata": {
        "id": "view-in-github",
        "colab_type": "text"
      },
      "source": [
        "<a href=\"https://colab.research.google.com/github/divyanshgupt/travelling-wave-mec/blob/main/Raster_Plot_Theta_Cycle_1D.ipynb\" target=\"_parent\"><img src=\"https://colab.research.google.com/assets/colab-badge.svg\" alt=\"Open In Colab\"/></a>"
      ]
    },
    {
      "cell_type": "code",
      "execution_count": 1,
      "metadata": {
        "id": "WMwE5LFcftyw"
      },
      "outputs": [],
      "source": [
        "import numpy as np\n",
        "from matplotlib import pyplot as plt\n",
        "from tqdm import tqdm"
      ]
    },
    {
      "cell_type": "markdown",
      "source": [
        "Assumptions:\n",
        "1. Each module contains the same number of cells\n",
        "2. Self similarity (the grid fields become smaller\n",
        "3. All cells within the same module have the same spatial period (the definition of a module)\n",
        " "
      ],
      "metadata": {
        "id": "h6vu_yfbiptt"
      }
    },
    {
      "cell_type": "code",
      "source": [
        "args = {'lam_0': 10, # spatial period of the largest module\n",
        "        'K': 50,\n",
        "        'n_max': 20,\n",
        "        'nb_cells': 10, #no. of cells per module\n",
        "        'nb_modules': 4,\n",
        "        's': 1.5, # scaling ratio\n",
        "        'b_theta': 0,\n",
        "        'm_theta': 2*np.pi/10,   # rate of theta phase precession\n",
        "        'k_theta': 1,\n",
        "        'x_0': 0, # origin for phase precession\n",
        "        'animal_velocity': 0.2, # m/sec\n",
        "        'step_size': 0.01, # sec \n",
        "        'nb_steps': 1000,\n",
        "        'theta_offset': 40, # degrees # total theta phase offset from the dorsal to the ventral end, defining the travelling wave\n",
        "        'theta_freq': 8 , # Hz # Frequency of theta oscillations\n",
        "        }"
      ],
      "metadata": {
        "id": "d3dUQYMthMyC"
      },
      "execution_count": 7,
      "outputs": []
    },
    {
      "cell_type": "markdown",
      "source": [
        "### 1-D Von Mises Function (for Encoding)\n",
        "\n",
        "$$ \\Omega_j = n_{max} e^{\\kappa(cos(\\omega (x - c_j)) - 1)}$$ "
      ],
      "metadata": {
        "id": "bsgwnAJVf8R7"
      }
    },
    {
      "cell_type": "code",
      "source": [
        "def von_mises(position, lam, phase, args):\n",
        "  \"\"\"\n",
        "  inputs:\n",
        "    position - x-coordinate\n",
        "    lam - the spatial period of the grid cell\n",
        "    phase - the preferred relative phase of the grid cell\n",
        "    args: ['K', 'n_max']\n",
        "  returns:\n",
        "    von-mises valuea the given position coordinate\n",
        "  \"\"\"\n",
        "  K = args['K']\n",
        "  n_max = args['n_max']\n",
        "\n",
        "  w = 2*np.pi / lam\n",
        "\n",
        "  value = n_max * np.exp(K*(np.cos(w*(position - phase)) - 1))\n",
        "\n",
        "  return value"
      ],
      "metadata": {
        "id": "LTiEXe6Tf6xJ"
      },
      "execution_count": 8,
      "outputs": []
    },
    {
      "cell_type": "code",
      "source": [
        "def poisson_cells(rate, args):\n",
        "  \"\"\"\n",
        "  Returns a spike or no spike in the given time-bin for cells with given parameters\n",
        "  inputs:\n",
        "    rate - average rate of firing, shape: (nb_cells)\n",
        "    args['step_size']\n",
        "  returns:\n",
        "\n",
        "  \"\"\"\n",
        "  nb_cells = args['nb_cells']\n",
        "  dt = args['step_size']\n",
        "  \n",
        "  random = np.random.uniform(size=(nb_cells))\n",
        "  activity = np.zeros(nb_cells)\n",
        "  determinant = random - (rate*dt) # shape: nb_cells\n",
        "  activity[determinant <= 0] = 1\n",
        "\n",
        "  return activity "
      ],
      "metadata": {
        "id": "__Ne_-1oxNPb"
      },
      "execution_count": 28,
      "outputs": []
    },
    {
      "cell_type": "code",
      "source": [
        "def grid_module(lam, args):\n",
        "  \"\"\"\n",
        "  distributes position relative phase among cells in a linear orderly fashion\n",
        "  inputs:\n",
        "    args:['nb_cells']\n",
        "  returns:\n",
        "    array of x-coordinates denoting relative phasese of subsquent cells\n",
        "  \"\"\"\n",
        "  \n",
        "  nb_cells = args['nb_cells']\n",
        "  step = lam/nb_cells\n",
        "  phases = np.arange(0, lam, lam/nb_cells)\n",
        "\n",
        "  return phases"
      ],
      "metadata": {
        "id": "oZHETcABiZ_T"
      },
      "execution_count": 11,
      "outputs": []
    },
    {
      "cell_type": "code",
      "source": [
        "def multiple_modules(args):\n",
        "  \"\"\"\n",
        "  generate phasese for multiple modules based on given parameters\n",
        "  inputs:\n",
        "    args - ['nb_modules', 'lam_0', 's']\n",
        "  returns:\n",
        "    phases - list of numpy arrays containing phases for individual modules\n",
        "  \"\"\"\n",
        "\n",
        "  nb_modules = args['nb_modules']\n",
        "  lam_0 = args['lam_0']\n",
        "  s = args['s']\n",
        "\n",
        "  phases = []\n",
        "\n",
        "  for i in range(nb_modules):\n",
        "    lam = lam_0/(s**(nb_modules-i-1))\n",
        "    phases.append(grid_module(lam, args))\n",
        "\n",
        "  return phases"
      ],
      "metadata": {
        "id": "nNkUqQyFkdZU"
      },
      "execution_count": 12,
      "outputs": []
    },
    {
      "cell_type": "markdown",
      "source": [
        "### Positon Theta Phase Model\n",
        "(Adapted from McClain et al., 2019)\n",
        "**Spatial Input Equation**: (Gaussian to model place cell field)\n",
        "$$ f = e^{A_x}e^{\\frac{-(x-x_0)^2}{2\\sigma^2_x}}  $$\n",
        "\n",
        "**Phase modulation equation**:\n",
        "$$ g(\\theta,x) = e^{k_\\theta(cos(\\theta - \\theta_0(x)) - 1)} $$\n",
        "\n",
        "**Phase precession equation**:\n",
        "$$ \\theta_0(x) = b_\\theta + m_\\theta(x - x_0) $$\n",
        "\n",
        "$ b_\\theta = 0 $: preferred phase at the center of the place field\n",
        "\n",
        "$ m_\\theta = 1 $: rate of phase precession\n",
        "\n",
        "**Rate** (modelled as a product of the spatial input and phase modulation equations):\n",
        "$$ r(x, \\theta) = f(x)\\bullet g(\\theta, x) $$\n",
        "\n",
        "_______________________\n",
        "\n",
        "**Spatial Input Equation** (von Mises tuning for grid fields):\n",
        "$$ \\Omega_j(\\vec{x}) =  n_{max}e^{\\frac{\\kappa}{3} \\Sigma_{l=1}^3(cos(\\omega \\vec{k_l}\\bullet (\\vec{x} - \\vec{c_j})) - 1)}$$\n",
        "\n",
        "**Phase modultion equation**:    \n",
        "$$ g(\\theta, \\vec{x}) = e^{k_\\theta(cos(\\theta - \\theta_0(\\vec{x}))-1)} $$\n",
        "\n",
        "**Phase precession (2-D)**:\n",
        "$$ \\theta_0(\\vec{x}) = b_\\theta + m_\\theta(|\\vec{x} - \\vec{x_0}|)  $$\n",
        "\n",
        "\n",
        "**Rate**:\n",
        "$$ r(\\vec{x}, \\theta) = f(x)\\bullet g(\\theta, \\vec{x})$$\n",
        "\n",
        "\n",
        "------------------------------------\n",
        "\n"
      ],
      "metadata": {
        "id": "ovWL-Yo0sbMj"
      }
    },
    {
      "cell_type": "code",
      "source": [
        "def phase_precession(position, args):\n",
        "  \"\"\"\n",
        "  inputs:\n",
        "    position - x-coordinate (in absolute frame)\n",
        "    ref - origin x-coordinate\n",
        "    args: ['b_theta', 'm_theta', 'x_0']\n",
        "  returns:\n",
        "    value of theta_0 (scalar)\n",
        "  \"\"\"\n",
        "  b_theta = args['b_theta']\n",
        "  m_theta = args['m_theta']\n",
        "  ref = args['x_0']\n",
        "\n",
        "  theta_0 = b_theta + m_theta*(position - ref)\n",
        "\n",
        "  return theta_0"
      ],
      "metadata": {
        "id": "ENC4MVpDriRR"
      },
      "execution_count": 13,
      "outputs": []
    },
    {
      "cell_type": "code",
      "source": [
        "def phase_modulation(theta, theta_0, position, args):\n",
        "  \"\"\"\n",
        "  inputs:\n",
        "    theta - \n",
        "    theta_0 - \n",
        "    position - \n",
        "    args:['']\n",
        "  returns:\n",
        "    phase modulation factor value at given postion\n",
        "  \"\"\"\n",
        "  k_theta = args['k_theta']\n",
        "  theta_0 = phase_precession(position, args)\n",
        "  modulation_factor = np.exp(k_theta * (np.cos(theta - theta_0)))\n",
        "\n",
        "  return modulation_factor"
      ],
      "metadata": {
        "id": "bNv6NQ4Hr7Ea"
      },
      "execution_count": 14,
      "outputs": []
    },
    {
      "cell_type": "code",
      "source": [
        "def theta_phase(args):\n",
        "  \"\"\"\n",
        "  inputs:\n",
        "    args[]\n",
        "  returns:\n",
        "    theta phase value across all cells\n",
        "  \"\"\"\n",
        "  offset = (np.pi/180)*args['theta_offset']\n",
        "  nb_cells = args['nb_cells']\n",
        "  nb_modules = args['nb_modules']\n",
        "\n",
        "  offset_step = offset/(nb_cells*nb_modules)\n",
        "  theta = np.arange(0, offset, offset_step)\n",
        "\n",
        "  return theta"
      ],
      "metadata": {
        "id": "8ijviMLmtrxi"
      },
      "execution_count": 20,
      "outputs": []
    },
    {
      "cell_type": "code",
      "source": [
        "def simulate(args):\n",
        "  \"\"\"\n",
        "  Runs the whole simulation and returns grid cell activity over time as the animal moves in space\n",
        "\n",
        "  inputs:\n",
        "\n",
        "  returns:\n",
        "    \n",
        "  \"\"\"\n",
        "\n",
        "  nb_steps = args['nb_steps']\n",
        "  dt = args['step_size']\n",
        "  v = args['animal_velocity'] # assuming constant velocity over the duration\n",
        "  nb_cells = args['nb_cells']\n",
        "  nb_modules = args['nb_modules']\n",
        "  freq = args['theta_freq']\n",
        "  lam_0 = args['lam_0'] # spatial period of the largest module\n",
        "  s = args['s']\n",
        "  omega = 2*np.pi*freq\n",
        "  \n",
        "  animal_position = 0 # starts at origin\n",
        "\n",
        "  module_spatial_phases = multiple_modules(args) # initializes the preferred phases \n",
        "  theta_phases = theta_phase(args) # initializes the theta phases linearly for all cells\n",
        "\n",
        "  activity = np.zeros((nb_cells, nb_steps, nb_modules))\n",
        "  \n",
        "\n",
        "  for t in tqdm(range(nb_steps)):\n",
        "\n",
        "    animal_position += dt*v\n",
        "    \n",
        "    theta_phases += omega*dt\n",
        "\n",
        "    for i in range(nb_modules): # simulate for modules going from dorsal to ventral\n",
        "      \n",
        "      lam = lam_0 / (s**(nb_modules-i+1))  \n",
        "      \n",
        "      theta = theta_phases[i*nb_cells:(i+1)*nb_cells] # shape: (nb_cells)\n",
        "      #print(theta.shape) \n",
        "      theta_0 = phase_precession(animal_position, args) # scalar\n",
        "\n",
        "      modulation_factors = phase_modulation(theta, theta_0, animal_position, args) # modulation factors for all cells in the module, shape: (nb_cells)\n",
        "      #print(\"Modulation factors shape:\", modulation_factors.shape)\n",
        "      spatial_input = von_mises(animal_position, lam, module_spatial_phases[i], args) # shape:(nb_cells)\n",
        "      #print(\"Spatial_input shape:\", spatial_input.shape)\n",
        "      rates = phase_modulation(theta, theta_0, animal_position, args)*von_mises(animal_position, lam, module_spatial_phases[i], args) #shape: (nb_cells,)\n",
        "      #print(rates.shape)\n",
        "      activity[:, t, i] = poisson_cells(rates, args)\n",
        "\n",
        "  return activity"
      ],
      "metadata": {
        "id": "3N1o-VpGv_V6"
      },
      "execution_count": 37,
      "outputs": []
    },
    {
      "cell_type": "code",
      "source": [
        "activity = simulate(args)"
      ],
      "metadata": {
        "colab": {
          "base_uri": "https://localhost:8080/"
        },
        "id": "ZSzTTq5dkWKS",
        "outputId": "5ed038a3-5203-4534-d5fd-30879e9ced21"
      },
      "execution_count": 38,
      "outputs": [
        {
          "output_type": "stream",
          "name": "stderr",
          "text": [
            "100%|██████████| 1000/1000 [00:00<00:00, 5557.61it/s]\n"
          ]
        }
      ]
    },
    {
      "cell_type": "code",
      "source": [
        "print(activity.shape)"
      ],
      "metadata": {
        "colab": {
          "base_uri": "https://localhost:8080/"
        },
        "id": "EQ5Z5O1tmARX",
        "outputId": "4fc5faee-1320-44e2-c309-438eef9928df"
      },
      "execution_count": 39,
      "outputs": [
        {
          "output_type": "stream",
          "name": "stdout",
          "text": [
            "(10, 1000, 4)\n"
          ]
        }
      ]
    },
    {
      "cell_type": "code",
      "source": [
        "print(activity[2 ,:, 1])"
      ],
      "metadata": {
        "colab": {
          "base_uri": "https://localhost:8080/"
        },
        "id": "XypyRDc4mDYu",
        "outputId": "986bf737-c813-431a-a746-cff3eb626b4d"
      },
      "execution_count": 40,
      "outputs": [
        {
          "output_type": "stream",
          "name": "stdout",
          "text": [
            "[0. 0. 0. 0. 0. 0. 0. 0. 0. 0. 0. 0. 0. 0. 0. 0. 0. 0. 0. 0. 0. 0. 0. 0.\n",
            " 0. 0. 0. 0. 0. 0. 0. 0. 0. 0. 0. 0. 0. 0. 0. 0. 0. 0. 0. 0. 0. 0. 0. 0.\n",
            " 0. 0. 0. 0. 0. 0. 0. 0. 0. 0. 0. 0. 0. 0. 0. 0. 0. 0. 0. 0. 0. 0. 0. 0.\n",
            " 0. 0. 0. 0. 0. 0. 0. 0. 0. 0. 0. 0. 0. 0. 0. 0. 0. 0. 0. 0. 0. 0. 0. 0.\n",
            " 0. 0. 0. 0. 0. 0. 0. 0. 0. 0. 0. 0. 0. 0. 0. 0. 0. 0. 0. 0. 0. 0. 0. 0.\n",
            " 0. 0. 0. 0. 0. 0. 0. 0. 0. 0. 0. 0. 0. 0. 0. 0. 0. 0. 0. 0. 0. 0. 0. 0.\n",
            " 0. 0. 0. 0. 0. 0. 0. 0. 0. 0. 0. 0. 0. 0. 0. 0. 0. 0. 0. 0. 0. 0. 0. 0.\n",
            " 0. 0. 0. 0. 0. 0. 0. 0. 0. 0. 0. 0. 0. 0. 0. 0. 0. 0. 0. 0. 0. 0. 0. 0.\n",
            " 0. 0. 0. 0. 0. 0. 0. 0. 0. 0. 0. 0. 0. 0. 0. 0. 0. 0. 0. 0. 0. 0. 0. 0.\n",
            " 0. 0. 0. 0. 0. 0. 0. 0. 0. 0. 0. 0. 0. 0. 0. 0. 0. 0. 0. 0. 0. 0. 0. 0.\n",
            " 0. 0. 0. 0. 0. 0. 0. 0. 0. 0. 0. 0. 0. 0. 0. 0. 0. 0. 0. 0. 0. 0. 0. 0.\n",
            " 0. 0. 0. 0. 0. 0. 0. 0. 0. 0. 0. 0. 0. 0. 0. 0. 0. 0. 0. 0. 0. 0. 0. 0.\n",
            " 0. 0. 0. 0. 0. 0. 0. 0. 0. 0. 0. 0. 0. 0. 0. 0. 0. 0. 0. 0. 0. 0. 0. 0.\n",
            " 0. 0. 0. 0. 0. 0. 0. 0. 0. 0. 0. 0. 0. 0. 0. 0. 0. 0. 0. 0. 0. 0. 0. 0.\n",
            " 0. 0. 0. 0. 0. 0. 0. 0. 0. 0. 0. 0. 0. 0. 0. 0. 0. 0. 0. 0. 0. 0. 0. 0.\n",
            " 0. 0. 0. 0. 0. 0. 0. 0. 0. 0. 0. 0. 0. 0. 0. 0. 0. 0. 0. 0. 0. 0. 0. 0.\n",
            " 0. 0. 0. 0. 0. 0. 0. 0. 0. 0. 0. 0. 0. 0. 0. 0. 0. 0. 0. 0. 0. 0. 0. 0.\n",
            " 0. 1. 0. 0. 0. 0. 0. 0. 0. 0. 0. 0. 0. 0. 0. 0. 1. 1. 0. 0. 0. 1. 0. 0.\n",
            " 0. 0. 0. 0. 0. 1. 1. 1. 0. 0. 0. 0. 0. 0. 0. 1. 1. 1. 0. 0. 0. 1. 0. 0.\n",
            " 0. 0. 0. 0. 0. 1. 1. 0. 0. 0. 0. 0. 0. 0. 0. 0. 0. 0. 0. 0. 1. 1. 0. 0.\n",
            " 0. 0. 0. 0. 1. 0. 0. 0. 0. 0. 0. 0. 0. 0. 0. 0. 0. 0. 0. 0. 0. 0. 0. 0.\n",
            " 0. 0. 0. 0. 0. 0. 0. 0. 0. 0. 0. 0. 0. 0. 0. 0. 0. 0. 0. 0. 0. 0. 0. 0.\n",
            " 0. 0. 0. 0. 0. 0. 0. 0. 0. 0. 0. 0. 0. 0. 0. 0. 0. 0. 0. 0. 0. 0. 0. 0.\n",
            " 0. 0. 0. 0. 0. 0. 0. 0. 0. 0. 0. 0. 0. 0. 0. 0. 0. 0. 0. 0. 0. 0. 0. 0.\n",
            " 0. 0. 0. 0. 0. 0. 0. 0. 0. 0. 0. 0. 0. 0. 0. 0. 0. 0. 0. 0. 0. 0. 0. 0.\n",
            " 0. 0. 0. 0. 0. 0. 0. 0. 0. 0. 0. 0. 0. 0. 0. 0. 0. 0. 0. 0. 0. 0. 0. 0.\n",
            " 0. 0. 0. 0. 0. 0. 0. 0. 0. 0. 0. 0. 0. 0. 0. 0. 0. 0. 0. 0. 0. 0. 0. 0.\n",
            " 0. 0. 0. 0. 0. 0. 0. 0. 0. 0. 0. 0. 0. 0. 0. 0. 0. 0. 0. 0. 0. 0. 0. 0.\n",
            " 0. 0. 0. 0. 0. 0. 0. 0. 0. 0. 0. 0. 0. 0. 0. 0. 0. 0. 0. 0. 0. 0. 0. 0.\n",
            " 0. 0. 0. 0. 0. 0. 0. 0. 0. 0. 0. 0. 0. 0. 0. 0. 0. 0. 0. 0. 0. 0. 0. 0.\n",
            " 0. 0. 0. 0. 0. 0. 0. 0. 0. 0. 0. 0. 0. 0. 0. 0. 0. 0. 0. 0. 0. 0. 0. 0.\n",
            " 0. 0. 0. 0. 0. 0. 0. 0. 0. 0. 0. 0. 0. 0. 0. 0. 0. 0. 0. 0. 0. 0. 0. 0.\n",
            " 0. 0. 0. 0. 0. 0. 0. 0. 0. 0. 0. 0. 0. 0. 0. 0. 0. 0. 0. 0. 0. 0. 0. 0.\n",
            " 0. 0. 0. 0. 0. 0. 0. 0. 0. 0. 0. 0. 0. 0. 0. 0. 0. 0. 0. 0. 0. 0. 0. 0.\n",
            " 0. 0. 0. 0. 0. 0. 0. 0. 0. 0. 0. 0. 0. 0. 0. 0. 0. 0. 0. 0. 0. 0. 0. 0.\n",
            " 0. 0. 0. 0. 0. 0. 0. 0. 0. 0. 0. 0. 0. 0. 0. 0. 0. 0. 0. 0. 0. 0. 0. 0.\n",
            " 0. 0. 0. 0. 0. 0. 0. 0. 0. 0. 0. 0. 0. 0. 0. 0. 0. 0. 0. 0. 0. 0. 0. 0.\n",
            " 0. 0. 0. 0. 0. 0. 0. 0. 0. 0. 0. 0. 0. 0. 0. 0. 0. 0. 0. 0. 0. 0. 0. 0.\n",
            " 0. 0. 0. 0. 0. 0. 0. 0. 0. 0. 0. 0. 0. 0. 0. 0. 0. 0. 0. 0. 0. 0. 0. 0.\n",
            " 0. 0. 0. 0. 0. 0. 0. 0. 0. 0. 0. 0. 0. 0. 0. 0. 0. 0. 0. 0. 0. 0. 0. 0.\n",
            " 0. 0. 0. 0. 0. 0. 0. 0. 0. 0. 0. 0. 0. 0. 0. 0. 0. 0. 0. 0. 0. 0. 0. 0.\n",
            " 0. 0. 0. 0. 0. 0. 0. 0. 0. 0. 0. 0. 0. 0. 0. 0.]\n"
          ]
        }
      ]
    },
    {
      "cell_type": "code",
      "source": [
        "a = np.array([3, 3,3, 3,2123,12 ,1243, 23132542,3452,34523,4523,4523,4523,45234,5])\n",
        "b = a.reshape((3, 1, 5))\n",
        "print(b)\n",
        "c = b[:, 0, 1]\n",
        "print(c.shape)"
      ],
      "metadata": {
        "colab": {
          "base_uri": "https://localhost:8080/"
        },
        "id": "JgB8nhfVgoY8",
        "outputId": "c51719dd-2ed5-44f3-ec8b-4b03a684c7a7"
      },
      "execution_count": 5,
      "outputs": [
        {
          "output_type": "stream",
          "name": "stdout",
          "text": [
            "[[[       3        3        3        3     2123]]\n",
            "\n",
            " [[      12     1243 23132542     3452    34523]]\n",
            "\n",
            " [[    4523     4523     4523    45234        5]]]\n",
            "(3,)\n"
          ]
        }
      ]
    },
    {
      "cell_type": "code",
      "source": [
        "def raster_plot_module(activity, args):\n",
        "  \"\"\"\n",
        "  plots a raster plot for cells in a module\n",
        "  inputs:\n",
        "    activity\n",
        "  returns:\n",
        "\n",
        "  \"\"\"\n",
        "\n",
        "  plt.eventplot()\n",
        "  plt.show()"
      ],
      "metadata": {
        "id": "AbwYJyiyyiM0"
      },
      "execution_count": null,
      "outputs": []
    },
    {
      "cell_type": "code",
      "source": [
        ""
      ],
      "metadata": {
        "id": "B_ri4ccwvwkb"
      },
      "execution_count": null,
      "outputs": []
    }
  ]
}
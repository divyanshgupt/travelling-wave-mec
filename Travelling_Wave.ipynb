{
  "nbformat": 4,
  "nbformat_minor": 0,
  "metadata": {
    "colab": {
      "name": "Travelling Wave.ipynb",
      "provenance": [],
      "toc_visible": true,
      "authorship_tag": "ABX9TyP/W9vn5zmpXqIT6Maw+SW4",
      "include_colab_link": true
    },
    "kernelspec": {
      "name": "python3",
      "display_name": "Python 3"
    },
    "language_info": {
      "name": "python"
    }
  },
  "cells": [
    {
      "cell_type": "markdown",
      "metadata": {
        "id": "view-in-github",
        "colab_type": "text"
      },
      "source": [
        "<a href=\"https://colab.research.google.com/github/divyanshgupt/travelling-wave-mec/blob/main/Travelling_Wave.ipynb\" target=\"_parent\"><img src=\"https://colab.research.google.com/assets/colab-badge.svg\" alt=\"Open In Colab\"/></a>"
      ]
    },
    {
      "cell_type": "code",
      "metadata": {
        "id": "gIBnMrhiErIU"
      },
      "source": [
        "#@title Dependencies\n",
        "import numpy as np\n",
        "from tqdm import tqdm\n",
        "from matplotlib import pyplot as plt"
      ],
      "execution_count": 14,
      "outputs": []
    },
    {
      "cell_type": "markdown",
      "metadata": {
        "id": "Xe4xTrtgEuwr"
      },
      "source": [
        "## Grid Cells Encoding & Decoding Functions"
      ]
    },
    {
      "cell_type": "code",
      "metadata": {
        "id": "HScUvmhXEv8A"
      },
      "source": [
        "def uniform_module(lam, orientation, cell_num_root):\n",
        "  '''\n",
        "  To generate a population of cells within a module (of varying \n",
        "  relative phase but sharing the same lattice spatial period\n",
        "  and orientation). The relative phases are distributed uniformly\n",
        "\n",
        "  *Args:\n",
        "    lam - fixed spatial period for the module\n",
        "    orientation\n",
        "    cell_num - sq. root of number of cells in the module\n",
        "  Returns:\n",
        "   a 2-D array with cells along rows and three properties along y-axis:\n",
        "  array[:,0, :] - lamda (Spatial Period)\n",
        "  array[:,1, :] - orientation\n",
        "  array[:,2] - x-coordinate of relative phase\n",
        "  array[:,3] - y-coordinate of relative phase\n",
        "  '''\n",
        "  # intialize array of cell properties\n",
        "  cell_num = cell_num_root**2\n",
        "  array = np.ones((cell_num, 4))\n",
        "  # x and y elements of the relative phase\n",
        "  c_x = np.linspace(0, lam, cell_num_root)\n",
        "  c_y = np.linspace(0, lam, cell_num_root)\n",
        "  \n",
        "  array[:, 0] = lam*array[:, 0]\n",
        "  array[:, 1] = orientation*array[:,1]\n",
        "\n",
        "  cell_iter = 0\n",
        "  relative_phase = np.zeros((cell_num, 2))\n",
        "\n",
        "  for i in range(cell_num_root):\n",
        "    for j in range(cell_num_root):\n",
        "      array[cell_iter, 2] = c_x[i]\n",
        "      array[cell_iter, 3] = c_y[j]\n",
        "      relative_phase[cell_iter] = array[cell_iter, 2:].T\n",
        "\n",
        "      cell_iter += 1\n",
        "  return array\n",
        "\n",
        "def PopDecode2D(activity, lam, phases):\n",
        "  '''\n",
        "  *args:\n",
        "    activity: array of population activity of shape (cell_num,)\n",
        "    phases: array of cell spatial phases, shape: (cell_num, 2)\n",
        "  returns:\n",
        "    maximum likelihood estimate based on population vector in 2-D\n",
        "    for a single module\n",
        "  '''\n",
        "  k1 = np.array([np.sqrt(3)/2, 1/2])\n",
        "  k2 = np.array([0,1])\n",
        "  k3 = np.array([-np.sqrt(3)/2, 1/2])\n",
        "  k = np.vstack((k1, k2, k3))\n",
        "  w = 2*np.pi / ((np.sqrt(3)/2)*lam)\n",
        "  mu = np.zeros(3)\n",
        "\n",
        "# to determine normalized popualtion vector projected onto k_l\n",
        "  for i in range(3):\n",
        "    exponent_vector = np.exp(1j*w*(phases@k[i]))\n",
        "    mu[i] = (1/w)*np.angle(np.sum(activity * exponent_vector))\n",
        "\n",
        "# the maximum likelihood estimate obtained by the intersection of the three lines \n",
        "  max_like_estim = (2/3) * (mu.T@k)\n",
        "\n",
        "  return max_like_estim\n",
        "\n",
        "def vonMisesTuning(x, lam, n_max, K, orientation, phases):\n",
        "  '''\n",
        "  To obtain activity of the given cell modeled using a von Mises Tuning Curve \n",
        "  following a poisson distribution \n",
        "\n",
        "  * args:\n",
        "    x: 2-D vector for position coordinates\n",
        "    lam - lamda, the spatial period\n",
        "    n_max - maximum firing frequency of the tuning curve\n",
        "    K - kappa, for the tuning-width\n",
        "    orientation - lattice orientation\n",
        "    phases - relative phase of the cell (2-D vector)\n",
        "\n",
        "  returns: \n",
        "    (scalar) value of the vonMises tuning curve\n",
        "     at the given position coordinates\n",
        "  '''\n",
        "  pi = np.pi \n",
        "\n",
        "  k1 = np.array([np.cos(pi/6), np.sin(pi/6)])\n",
        "  k2 = np.array([np.cos(pi/2), np.sin(pi/2)])\n",
        "  k3 = np.array([np.cos(pi*5/6), np.sin(pi*5/6)])\n",
        "  plane_vectors = np.vstack((k1, k2, k3))\n",
        "\n",
        "  w = (2*pi)/(np.sin(pi/3)*lam) # omega, for the periodicity of the tuning function\n",
        "\n",
        "  position_argument = x - phases\n",
        "  dot_prod = w * plane_vectors @ position_argument.T # the dot product of the plane vector with the position coordinate done for all three vectors\n",
        "  von_mises_values = n_max * np.exp((K/3) * np.sum(np.cos(dot_prod) - 1, axis=0))\n",
        "  \n",
        "  return von_mises_values\n",
        "\n",
        "def firing_activity(module, position, n_max, K):\n",
        "  '''\n",
        "  To obtain no. of spikes for each cell in given module in a given time bin\n",
        "  for the given position. The cells are modelled using von Mises Tuning Curves\n",
        "  and the firing activity using the Poisson distribution.\n",
        "\n",
        "  *args:\n",
        "    module: 3-D array of shape (cell num, 3, 2) with three columns being \n",
        "      lamda, orientation and relative phase. The relative phase is a 2-D vector\n",
        "    position: a 2-D vector of position coordinates\n",
        "\n",
        "  returns:\n",
        "    von-Mises firing activity\n",
        "  '''\n",
        "  lam = module[0, 0]\n",
        "  orientation = module[0, 1]\n",
        "  phases = module[:, 2:]\n",
        "  cell_num = len(module)\n",
        "\n",
        "# evaluate the firing activity of the cell, as a sample from a poisson distribution \n",
        "# with mean value set to the value of the von_mises_value for the cell at the given position\n",
        "  activity = np.random.poisson(vonMisesTuning(position, lam, n_max,\n",
        "                                             K, orientation, phases))\n",
        "\n",
        "  return activity\n",
        "\n",
        "def multi_uniformModules(lam, orienation, \n",
        "                         cell_num_root,num_modules, s=1.5):\n",
        "  '''\n",
        "  To generate multiple uniform (relative phase) modules \n",
        "  with same orientation and the same number \n",
        "  of cells in each module.\n",
        "  *Args:\n",
        "    lam - spatial period of largest module\n",
        "    orientation - orienation of the lattice\n",
        "    cell_num - sq. root of number of cells in each module\n",
        "    s - scaling factor (lamda_0/lamda_1)\n",
        "    num_modules - number of modules\n",
        "  Returns:\n",
        "   list containing modules\n",
        "  '''\n",
        "  modules = []\n",
        "\n",
        "  for i in range(num_modules):\n",
        "    lam_module = lam/(s**i)\n",
        "    module = uniform_module(lam, orientation, cell_num_root)\n",
        "    modules.append(module)\n",
        "  \n",
        "  return modules\n",
        "\n",
        "def multi_firing_activity(modules, position, n_max, K, s):\n",
        "  '''\n",
        "  To evaluate the firing activity of all given modules at given\n",
        "  position, assuming von-Mises Tuning, independent poisson cells\n",
        "  and modules and self-similarity.\n",
        "\n",
        "  self similarity implies:\n",
        "    vonMises(x, m-th module) = vonMises(s*x, 0th Module)\n",
        "  *args:\n",
        "    modules - list of all modules (each module is a 2-D array)\n",
        "    position - \n",
        "    n_max - \n",
        "    K - tuning width of the von_Mises curve\n",
        "    s - the scaling factor\n",
        "\n",
        "  Returns:\n",
        "    list containing activity arrays of all modules\n",
        "    each activity array is a column vector having no. of spikes\n",
        "    for all cells in the corresponding module\n",
        "  '''\n",
        "  multi_activity = np.zeros((len(modules[0]),len(modules)))\n",
        "\n",
        "  for i in range(len(modules)):\n",
        "    activity = firing_activity(modules[i], position, n_max, K)\n",
        "    multi_activity[:,i]=activity\n",
        "    K=K*s #reduce firing fields in successive modules\n",
        "\n",
        "  return multi_activity  \n",
        "\n",
        "def Nested_decoder2D(gridcells, multi_firing):\n",
        "  '''\n",
        "  Decodes position across multiple modules\n",
        "  *args:\n",
        "    gridcells-list of modules: with each module a 2d array as defined in multi_uniformModules\n",
        "    multi_firing: firing rate of all cells in the modules (for one position), 2d array:rows are cells, cols: are modules\n",
        "  Returns:\n",
        "    mostlikely position and list of successive estimates based on nested decoding\n",
        "  '''\n",
        "  estimates = np.zeros((len(gridcells),2))\n",
        "\n",
        "  for i in range(len(gridcells)):\n",
        "    lam = gridcells[i][0,0]\n",
        "    phases = gridcells[i][:, 2:]\n",
        "    estimate = PopDecode2D(multi_firing[:,i], lam, phases)\n",
        "    estimates[i] = estimate\n",
        "\n",
        "  #recursive algorithm\n",
        "  xl = estimates[0]\n",
        "  cells0 = len(gridcells[0]) \n",
        "  lami0 = gridcells[0][0,0]\n",
        "  prevnumer= cells0/(lami0**2)\n",
        "  new_estimates = []\n",
        "  for i in range(1,len(gridcells)):\n",
        "    del_hat=estimates[i]-xl # centering next lattice around previous estimate\n",
        "    #calculating weights\n",
        "    cellsi_1 = len(gridcells[i-1])\n",
        "    lami_1 = gridcells[i-1][0,0]\n",
        "    numer = cellsi_1/(lami_1**2)\n",
        "    new_estimates.append(xl)\n",
        "    xl = xl+ (numer/prevnumer)*del_hat #multiplying by weights\n",
        "    prevnumer += numer\n",
        "      \n",
        "  return xl, new_estimates\n",
        "\n",
        "def trajectory_1(total_steps=10):\n",
        "    \"\"\"\n",
        "    computes a random trajectory, returns 2d array where each row is x,y position\n",
        "    \"\"\"\n",
        "    np.random.seed(54) #<--change trajectory\n",
        "    x=np.random.uniform(low=0, high=8, size=total_steps)\n",
        "    y =np.random.uniform(low=0, high=8, size=total_steps)\n",
        "    traject=np.column_stack((x,y))\n",
        "\n",
        "    return traject\n",
        "\n",
        "def random_trajectory(total_steps =100, step_size=0.5):\n",
        "    \"\"\"\n",
        "    plots & returns n*2 array of randomly generated postions\n",
        "    \"\"\"\n",
        "    angle = np.random.rand(total_steps)*2*np.pi\n",
        "    x = step_size*np.hstack((0, np.cos(angle)))\n",
        "    y = step_size*np.hstack((0, np.sin(angle)))\n",
        "    traject=np.column_stack((x,y)).cumsum(0)\n",
        "\n",
        "    return traject\n",
        "\n",
        "\n",
        "def decode_2dtraj_allm(traject, gridcells, K, n_max, s):\n",
        "  '''\n",
        "  decodes postion for an entire trajectory\n",
        "  input: \n",
        "    traject, 2d array where rows are positons x,y\n",
        "    gridcells: grid cells to generate firing patterns from (list of modules)\n",
        "  returns:\n",
        "    estimated trajectory\n",
        "  '''\n",
        "\n",
        "  estimates = np.zeros((len(traject),2))\n",
        "  for i,pos in enumerate(traject):\n",
        "    multi_firing=multi_firing_activity(gridcells, pos, n_max, K, s)\n",
        "    est, _ = decode_2dpos_allm(gridcells,multi_firing)\n",
        "    estimates[i] = est\n",
        "  return estimates"
      ],
      "execution_count": 2,
      "outputs": []
    },
    {
      "cell_type": "markdown",
      "metadata": {
        "id": "Zw37FWgTUFX-"
      },
      "source": [
        "## Travelling Wave"
      ]
    },
    {
      "cell_type": "markdown",
      "metadata": {
        "id": "U7HYJFhfTzuO"
      },
      "source": [
        "Time is intricately linked with the notion of a travelling wave, so to implement the wave, the context information of time is needed in some global variable. This can be done using the trajectory of the animal which can be represented as a time series of position."
      ]
    },
    {
      "cell_type": "code",
      "metadata": {
        "id": "F4io5NVyFUqc"
      },
      "source": [
        "\n",
        "def modulating_factor(modules, trajectory, freq, dt):\n",
        "  \"\"\"\n",
        "  Input:\n",
        "    modules\n",
        "    trajectory: 2D position array (timeseries)to extract time by obtaining length of this array\n",
        "    freq: frequency of the wave\n",
        "  Returns:\n",
        "    2-D array of modulating factors of shape (num_modules, timesteps)\n",
        "  \"\"\"\n",
        "  pi = np.pi\n",
        "\n",
        "  num_timesteps = len(trajectory)\n",
        "  num_modules = len(modules)\n",
        "  modulating_factors = np.zeros((num_modules, num_timesteps))\n",
        "#  print(modulating_factors.shape)\n",
        "\n",
        "  T = 1/freq # Time period of the wave\n",
        "  w = 2*pi/T # omega, the angular frequency of the wave\n",
        "\n",
        "  for t in range(num_timesteps):\n",
        "    for i in range(num_modules):\n",
        "      modulating_factors[i, t] = np.cos(w*t*dt + i*2*pi/num_modules)\n",
        "\n",
        "  return modulating_factors\n",
        "\n",
        "def modulated_firing(modules, trajectory, modulating_factors,\n",
        "                     cell_num_root, n_max, K):\n",
        "  \"\"\"\n",
        "  Input:\n",
        "    modules - list containing modules\n",
        "    trajectory - trajectory of the animal (timeseries of x,y coordinates)\n",
        "    modulating_factors: 2-D array of shape (num_modules, num_timesteps)\n",
        "  Returns:\n",
        "    firing activity of the grid cells with tuning curves modulated\n",
        "    by the wave, shape: (num_cells, num_modules, num_timesteps)\n",
        "  \"\"\"\n",
        "  num_timesteps = len(trajectory)\n",
        "  num_modules = len(modules)\n",
        "  num_cells = cell_num_root**2\n",
        "\n",
        "  # array to store wave modulated firing activity of all cells over time\n",
        "  modulated_activity = np.zeros((num_cells, num_modules, num_timesteps))\n",
        "\n",
        "  for t in tqdm(range(num_timesteps)):\n",
        "    position = trajectory[t]\n",
        "\n",
        "    for i in range(num_modules):\n",
        "\n",
        "      lam = modules[i][0, 0]\n",
        "      orientation = modules[i][0, 1]\n",
        "      phases = modules[i][:, 2:]\n",
        "      cell_num = len(modules[i])\n",
        "\n",
        "      tuning_values = vonMisesTuning(position, lam, n_max, K, orientation,\n",
        "                                     phases)\n",
        "      modulated_activity[:, i, t] = tuning_values * modulating_factors[i, t]\n",
        "\n",
        "\n",
        "  return modulated_activity"
      ],
      "execution_count": 12,
      "outputs": []
    },
    {
      "cell_type": "code",
      "metadata": {
        "id": "dwE4aYICKFmZ"
      },
      "source": [
        "def plot_stacked_activity(modulated_activity, timestep):\n",
        "  \"\"\"\n",
        "  \"\"\"\n",
        "  stacked_activity = modulated_activity[:, :, timestep].flatten('F')\n",
        "  plt.plot(stacked_activity)\n",
        "  plt.xlabel(\"Cell Id\")\n",
        "  plt.ylabel(\"No. of Spikes\")\n",
        "  plt.title(\"Timestep = \" + str(timestep))\n",
        "  plt.show()"
      ],
      "execution_count": 4,
      "outputs": []
    },
    {
      "cell_type": "code",
      "metadata": {
        "id": "SyYlPaxPEkpQ",
        "colab": {
          "base_uri": "https://localhost:8080/",
          "height": 1000
        },
        "outputId": "146e5722-ede7-40e0-a485-cd4328e23ea1"
      },
      "source": [
        "#@title To Test Modulated Activity \n",
        "\n",
        "lam = 20\n",
        "orientation = 0\n",
        "K = 100\n",
        "n_max = 20\n",
        "cell_num_root = 100\n",
        "num_modules = 12\n",
        "freq = 8 # frequency of the travelling wave\n",
        "dt = 1e-2 # Timestep duration\n",
        "s = 1.5\n",
        "\n",
        "modules = multi_uniformModules(lam, orientation, cell_num_root,\n",
        "                               num_modules, s=s)\n",
        "trajectory = trajectory_1(total_steps=100)\n",
        "modulating_factors = modulating_factor(modules, trajectory,\n",
        "                                       freq, dt)\n",
        "\n",
        "#plt.plot(trajectory[:,0], trajectory[:,1], 'k')\n",
        "modulated_activity = modulated_firing(modules, trajectory,\n",
        "                                      modulating_factors,\n",
        "                                      cell_num_root, n_max, K)\n",
        "\n",
        "\n",
        "# single timestep to take a snapshot of activity to plot\n",
        "\n",
        "for i in range(3):\n",
        "  timestep = i\n",
        "  plot_stacked_activity(modulated_activity, timestep)\n",
        "\n",
        "\n",
        "normal_activity = multi_firing_activity(modules, trajectory[0],\n",
        "                                        n_max, K, s)\n",
        "stacked_activity = modulated_activity[:, :].flatten('F')\n",
        "plt.plot(stacked_activity)\n",
        "plt.xlabel(\"Cell Id\")\n",
        "plt.ylabel(\"No. of Spikes\")\n",
        "plt.title(\"Timestep = \" + str(0))\n",
        "plt.show()"
      ],
      "execution_count": 5,
      "outputs": [
        {
          "output_type": "display_data",
          "data": {
            "image/png": "[encoded data removed]",
            "text/plain": [
              "<Figure size 432x288 with 1 Axes>"
            ]
          },
          "metadata": {
            "needs_background": "light"
          }
        },
        {
          "output_type": "display_data",
          "data": {
            "image/png": "[encoded data removed]",
            "text/plain": [
              "<Figure size 432x288 with 1 Axes>"
            ]
          },
          "metadata": {
            "needs_background": "light"
          }
        },
        {
          "output_type": "display_data",
          "data": {
            "image/png": "[encoded data removed]",
            "text/plain": [
              "<Figure size 432x288 with 1 Axes>"
            ]
          },
          "metadata": {
            "needs_background": "light"
          }
        },
        {
          "output_type": "display_data",
          "data": {
            "image/png": "[encoded data removed]",
            "text/plain": [
              "<Figure size 432x288 with 1 Axes>"
            ]
          },
          "metadata": {
            "needs_background": "light"
          }
        }
      ]
    },
    {
      "cell_type": "code",
      "metadata": {
        "id": "D_VAfNyw9Tf7"
      },
      "source": [
        "def plot_module_activity(firing_activity):\n",
        "  \"\"\"\n",
        "\n",
        "  \"\"\"\n",
        "\n",
        "  activity = np.column_stack()"
      ],
      "execution_count": null,
      "outputs": []
    },
    {
      "cell_type": "markdown",
      "metadata": {
        "id": "UtJjtj1ABkS6"
      },
      "source": [
        "### Evaluation Functions"
      ]
    },
    {
      "cell_type": "code",
      "metadata": {
        "id": "QPUv8GrrBoxV"
      },
      "source": [
        "def mse_error(positions, estimates):\n",
        "  \"\"\"\n",
        "  Input:\n",
        "    positions - 2-D array with x and y coordinates in col.0 & col.1 resp.\n",
        "    estimates - 2-D array with estimated x and y coordinates in col.0 & 1 resp.\n",
        "  Returns:\n",
        "    1-D array containing mse at for each position estimate\n",
        "  \"\"\"\n",
        "  return np.sum((positions - estimates)**2, axis = 1)\n",
        "\n",
        "\n",
        "def evaluate_decoder(modules, position_range, step_size, args):\n",
        "  \"\"\"\n",
        "  To evaluate given decoder along a range of positions to estimate the \n",
        "  position range beyond which the model fails\n",
        "  Input:\n",
        "    modules - list containing\n",
        "\n",
        "  Returns:\n",
        "    2-D error matrix corresponding to \n",
        "  \"\"\"\n",
        "  n_max = args['n_max']\n",
        "  K = args['K']\n",
        "  s = args['s']\n",
        "\n",
        "  # initalize positions to run the encoder & decoder on\n",
        "  x_range = y_range = np.arrange(0, position_range, step_size)\n",
        "  positions = np.column_stack(x_range, y_range)\n",
        "\n",
        "  activity = multi_firing_activity(modules, position, n_max, K, s)\n",
        "  ### incomplete\n",
        "\n",
        "def error_plot(position_error_matrix):\n",
        "  \"\"\"\n",
        "  Input:\n",
        "    position_error_matrix - 2-D matrix of erros corresponding to the position\n",
        "                            coordinates\n",
        "  \"\"\"\n",
        "  plt.imshow(position_error_matrix)\n",
        "\n",
        "def evaluate_along_trajectory(trajectory, firing_activity_stack):\n",
        "  \"\"\"\n",
        "  Input:\n",
        "    trajectory - 2-D array\n",
        "    firing_activity_stack - firing activity over time, shape:(num_cells, num_modules, nb_timesteps)\n",
        "  Return:\n",
        "    1-D array containing decoding error at each timepoint, \n",
        "    shape:(nb_timesteps) or (len(trajectory))\n",
        "  \"\"\"\n",
        "\n",
        "  nb_timesteps = len(trajectory)\n",
        "  # Decode position estimates from firing activity at each timestep\n",
        "  decoded_estimates = np.zeros((nb_timesteps, 2))\n",
        "\n",
        "  for t in tqdm(range(nb_timesteps)):\n",
        "   # print(t)\n",
        "    decoded_estimates[t], _ = Nested_decoder2D(modules, firing_activity_stack[:,:,t])\n",
        "\n",
        "  # Evaluate decoding error for each position estimate\n",
        "  error = mse_error(trajectory, decoded_estimates)\n",
        "\n",
        "\n",
        "  return error"
      ],
      "execution_count": 11,
      "outputs": []
    },
    {
      "cell_type": "markdown",
      "metadata": {
        "id": "QzvJTCKdh8Zu"
      },
      "source": [
        "### Single Line Trajectory\n",
        "\n",
        "Assuming: uniform velocity of animal\n"
      ]
    },
    {
      "cell_type": "code",
      "metadata": {
        "id": "mi9xfGW7iIPZ"
      },
      "source": [
        "nb_timesteps = 1e3 # 10 sec\n",
        "timestep_size = 1e-2 # 10 msec"
      ],
      "execution_count": 7,
      "outputs": []
    },
    {
      "cell_type": "code",
      "metadata": {
        "id": "dhf2GTGXRW70"
      },
      "source": [
        "#@title Generate Line Trajectory\n",
        "\n",
        "def line_traject(nb_timesteps, timestep_size, velocity, angle):\n",
        "  \"\"\"\n",
        "  Generates a 2-D array of position coordinates along a single line\n",
        "  with the given angle from the x-axis\n",
        "  Input:\n",
        "    nb_timesteps\n",
        "    timestep_size\n",
        "    velocity - of animal in units/sec\n",
        "    angle - in degrees\n",
        "  Returns:\n",
        "    2-D array with x coordinates in col. 0 and y-coordinates in col.2\n",
        "  \"\"\"\n",
        "  angle = angle * np.pi / 180\n",
        "\n",
        "  x_stepsize = velocity*timestep_size * np.cos(angle)\n",
        "  trajectory_x = np.arange(0, x_stepsize*nb_timesteps, x_stepsize)\n",
        "\n",
        "  y_stepsize = velocity*timestep_size * np.sin(angle)\n",
        "  trajectory_y = np.arange(0, y_stepsize*nb_timesteps, y_stepsize)\n",
        "\n",
        "  return np.column_stack((trajectory_x, trajectory_y))\n",
        "\n",
        "def plot_trajectory(trajectory):\n",
        "  \"\"\"\n",
        "  To plot given trajectory\n",
        "  Input:\n",
        "    trajectory - 2-D array with x and y at col.0 and col.1 respectively\n",
        "  \"\"\"\n",
        "  plt.figure(dpi=120)\n",
        "  plt.plot(trajectory[:, 0], trajectory[:, 1])\n",
        " # plt.scatter(trajectory[:, 0], trajectory[:, 1], alpha=0.02)"
      ],
      "execution_count": 8,
      "outputs": []
    },
    {
      "cell_type": "code",
      "metadata": {
        "id": "WaBU9pzYdt40"
      },
      "source": [
        "lam = 20\n",
        "orientation = 0\n",
        "K = 100\n",
        "n_max = 20\n",
        "cell_num_root = 100\n",
        "num_modules = 12\n",
        "freq = 8 # frequency of the travelling wave\n",
        "dt = 1e-2 # Timestep duration\n",
        "s = 1.5"
      ],
      "execution_count": 9,
      "outputs": []
    },
    {
      "cell_type": "code",
      "metadata": {
        "colab": {
          "base_uri": "https://localhost:8080/",
          "height": 385
        },
        "id": "86BvFhlVjKQu",
        "outputId": "a4a77a6d-5d26-4e9a-9e06-fa4fdeb366db"
      },
      "source": [
        "velocity = 0.2 # 20 cms/sec\n",
        "angle = 30\n",
        "trajectory = line_traject(nb_timesteps, timestep_size, velocity, angle)\n",
        "#plt.plot(trajectory[:,0], trajectory[:,1], 'k')\n",
        "\n",
        "print(\"Generating Grid Cells with characteristic phases\")\n",
        "modules = multi_uniformModules(lam, orientation, cell_num_root,\n",
        "                               num_modules, s=s)\n",
        "\n",
        "print(\"Generating Wave Modulation Factors for Firing ACtivity\")\n",
        "modulating_factors = modulating_factor(modules, trajectory,\n",
        "                                       freq, dt)\n",
        "\n",
        "print(\"Generating Firing Activity with Travelling Wave\")\n",
        "modulated_activity = modulated_firing(modules, trajectory,\n",
        "                                      modulating_factors,\n",
        "                                      cell_num_root, n_max, K)\n",
        "print(\"Evaluating Error Now\")\n",
        "error = evaluate_along_trajectory(trajectory, modulated_activity)\n",
        "plt.plot(error)\n"
      ],
      "execution_count": 15,
      "outputs": [
        {
          "output_type": "stream",
          "name": "stdout",
          "text": [
            "Generating Grid Cells with characteristic phases\n",
            "Generating Wave Modulation Factors for Firing ACtivity\n",
            "Generating Firing Activity with Travelling Wave\n"
          ]
        },
        {
          "output_type": "stream",
          "name": "stderr",
          "text": [
            "100%|██████████| 1000/1000 [00:15<00:00, 63.84it/s]\n"
          ]
        },
        {
          "output_type": "stream",
          "name": "stdout",
          "text": [
            "Evaluating Error Now\n"
          ]
        },
        {
          "output_type": "stream",
          "name": "stderr",
          "text": [
            "100%|██████████| 1000/1000 [00:51<00:00, 19.25it/s]\n"
          ]
        },
        {
          "output_type": "execute_result",
          "data": {
            "text/plain": [
              "[<matplotlib.lines.Line2D at 0x7fa2060e4090>]"
            ]
          },
          "metadata": {},
          "execution_count": 15
        },
        {
          "output_type": "display_data",
          "data": {
            "image/png": "[encoded data removed]",
            "text/plain": [
              "<Figure size 432x288 with 1 Axes>"
            ]
          },
          "metadata": {
            "needs_background": "light"
          }
        }
      ]
    }
  ]
}
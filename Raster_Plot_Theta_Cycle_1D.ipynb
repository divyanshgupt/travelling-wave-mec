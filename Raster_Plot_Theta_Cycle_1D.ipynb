{
  "nbformat": 4,
  "nbformat_minor": 0,
  "metadata": {
    "colab": {
      "name": "Raster Plot - Theta Cycle - 1D.ipynb",
      "provenance": [],
      "authorship_tag": "ABX9TyO4BpzCZnrCAQ2ev9DkDt7u",
      "include_colab_link": true
    },
    "kernelspec": {
      "name": "python3",
      "display_name": "Python 3"
    },
    "language_info": {
      "name": "python"
    }
  },
  "cells": [
    {
      "cell_type": "markdown",
      "metadata": {
        "id": "view-in-github",
        "colab_type": "text"
      },
      "source": [
        "<a href=\"https://colab.research.google.com/github/divyanshgupt/travelling-wave-mec/blob/main/Raster_Plot_Theta_Cycle_1D.ipynb\" target=\"_parent\"><img src=\"https://colab.research.google.com/assets/colab-badge.svg\" alt=\"Open In Colab\"/></a>"
      ]
    },
    {
      "cell_type": "code",
      "execution_count": null,
      "metadata": {
        "id": "WMwE5LFcftyw"
      },
      "outputs": [],
      "source": [
        "import numpy as np\n",
        "from matplotlib import pyplot as plt\n",
        "from tqdm import tqdm"
      ]
    },
    {
      "cell_type": "markdown",
      "source": [
        "Assumptions:\n",
        "1. Each module contains the same number of cells\n",
        "2. Self similarity (the grid fields become smaller "
      ],
      "metadata": {
        "id": "h6vu_yfbiptt"
      }
    },
    {
      "cell_type": "code",
      "source": [
        "args = {\n",
        "        'lam_0': , # spatial period of the largest module\n",
        "        'K': ,\n",
        "        'n_max': ,\n",
        "        'nb_cells': , #no. of cells per module\n",
        "        'nb_modules': ,\n",
        "        's': , # scaling ratio\n",
        "        }"
      ],
      "metadata": {
        "id": "d3dUQYMthMyC"
      },
      "execution_count": null,
      "outputs": []
    },
    {
      "cell_type": "markdown",
      "source": [
        "### 1-D Von Mises Function (for Encoding)\n",
        "\n",
        "$$ \\Omega_j = n_{max} e^{\\kappa(cos(\\omega (x - c_j)) - 1)}$$ "
      ],
      "metadata": {
        "id": "bsgwnAJVf8R7"
      }
    },
    {
      "cell_type": "code",
      "source": [
        "def von_mises(position, lam, phase, args):\n",
        "  \"\"\"\n",
        "  inputs:\n",
        "    position - x-coordinate\n",
        "    lam - the spatial period of the grid cell\n",
        "    phase - the preferred relative phase of the grid cell\n",
        "    args: ['K', 'n_max']\n",
        "  returns:\n",
        "    von-mises valuea the given position coordinate\n",
        "  \"\"\"\n",
        "  K = args['K']\n",
        "  n_max = args['n_max']\n",
        "\n",
        "  w = 2*np.pi / lam\n",
        "\n",
        "  value = n_max * np.exp(K*(np.cos(w*(x - phase)) - 1))\n",
        "\n",
        "  return value"
      ],
      "metadata": {
        "id": "LTiEXe6Tf6xJ"
      },
      "execution_count": null,
      "outputs": []
    },
    {
      "cell_type": "code",
      "source": [
        "def grid_module(lam, args):\n",
        "  \"\"\"\n",
        "  distributes position relative phase among cells in a linear orderly fashion\n",
        "  inputs:\n",
        "    args:['nb_cells']\n",
        "  returns:\n",
        "    array of x-coordinates denoting relative phasese of subsquent cells\n",
        "  \"\"\"\n",
        "  \n",
        "  nb_cells = args['nb_cells']\n",
        "  step = lam/nb_cells\n",
        "  phases = np.arange(0, lam, lam/nb_cells)\n",
        "\n",
        "  return phases"
      ],
      "metadata": {
        "id": "oZHETcABiZ_T"
      },
      "execution_count": null,
      "outputs": []
    },
    {
      "cell_type": "code",
      "source": [
        "def multiple_modules(args):\n",
        "  \"\"\"\n",
        "  generate phasese for multiple modules based on given parameters\n",
        "  inputs:\n",
        "    args - ['nb_modules', 'lam_0', 's']\n",
        "  returns:\n",
        "    phases - list of numpy arrays containing phases for individual modules\n",
        "  \"\"\"\n",
        "\n",
        "  nb_modules = args['nb_modules']\n",
        "  lam_0 = args[lam_0]\n",
        "  s = args['s']\n",
        "\n",
        "  phases = []\n",
        "\n",
        "  for i in range(nb_modules):\n",
        "    lam = lam_0/(s**(nb_modules-i-1)\n",
        "    phases.append(grid_module(lam, args))\n",
        "\n",
        "  return phases"
      ],
      "metadata": {
        "id": "nNkUqQyFkdZU"
      },
      "execution_count": null,
      "outputs": []
    },
    {
      "cell_type": "code",
      "source": [
        ""
      ],
      "metadata": {
        "id": "GfXuqY4zrzeu"
      },
      "execution_count": null,
      "outputs": []
    }
  ]
}
{
  "nbformat": 4,
  "nbformat_minor": 0,
  "metadata": {
    "colab": {
      "name": "Raster Plot - Theta Cycle - 1D.ipynb",
      "provenance": [],
      "authorship_tag": "ABX9TyNo38OC7siOKf6LGTQJW7Ms",
      "include_colab_link": true
    },
    "kernelspec": {
      "name": "python3",
      "display_name": "Python 3"
    },
    "language_info": {
      "name": "python"
    }
  },
  "cells": [
    {
      "cell_type": "markdown",
      "metadata": {
        "id": "view-in-github",
        "colab_type": "text"
      },
      "source": [
        "<a href=\"https://colab.research.google.com/github/divyanshgupt/travelling-wave-mec/blob/main/Raster_Plot_Theta_Cycle_1D.ipynb\" target=\"_parent\"><img src=\"https://colab.research.google.com/assets/colab-badge.svg\" alt=\"Open In Colab\"/></a>"
      ]
    },
    {
      "cell_type": "code",
      "execution_count": null,
      "metadata": {
        "id": "WMwE5LFcftyw"
      },
      "outputs": [],
      "source": [
        "import numpy as np\n",
        "from matplotlib import pyplot as plt\n",
        "from tqdm import tqdm"
      ]
    },
    {
      "cell_type": "markdown",
      "source": [
        "Assumptions:\n",
        "1. Each module contains the same number of cells\n",
        "2. Self similarity (the grid fields become smaller "
      ],
      "metadata": {
        "id": "h6vu_yfbiptt"
      }
    },
    {
      "cell_type": "code",
      "source": [
        "args = {\n",
        "        'lam_0': , # spatial period of the largest module\n",
        "        'K': ,\n",
        "        'n_max': ,\n",
        "        'nb_cells': , #no. of cells per module\n",
        "        'nb_modules': ,\n",
        "        's': , # scaling ratio\n",
        "        'b_theta': ,\n",
        "        'm_theta': ,\n",
        "        'k_theta': ,\n",
        "        'x_0': , # origin for phase precession\n",
        "        }"
      ],
      "metadata": {
        "id": "d3dUQYMthMyC"
      },
      "execution_count": null,
      "outputs": []
    },
    {
      "cell_type": "markdown",
      "source": [
        "### 1-D Von Mises Function (for Encoding)\n",
        "\n",
        "$$ \\Omega_j = n_{max} e^{\\kappa(cos(\\omega (x - c_j)) - 1)}$$ "
      ],
      "metadata": {
        "id": "bsgwnAJVf8R7"
      }
    },
    {
      "cell_type": "code",
      "source": [
        "def von_mises(position, lam, phase, args):\n",
        "  \"\"\"\n",
        "  inputs:\n",
        "    position - x-coordinate\n",
        "    lam - the spatial period of the grid cell\n",
        "    phase - the preferred relative phase of the grid cell\n",
        "    args: ['K', 'n_max']\n",
        "  returns:\n",
        "    von-mises valuea the given position coordinate\n",
        "  \"\"\"\n",
        "  K = args['K']\n",
        "  n_max = args['n_max']\n",
        "\n",
        "  w = 2*np.pi / lam\n",
        "\n",
        "  value = n_max * np.exp(K*(np.cos(w*(x - phase)) - 1))\n",
        "\n",
        "  return value"
      ],
      "metadata": {
        "id": "LTiEXe6Tf6xJ"
      },
      "execution_count": null,
      "outputs": []
    },
    {
      "cell_type": "code",
      "source": [
        "def grid_module(lam, args):\n",
        "  \"\"\"\n",
        "  distributes position relative phase among cells in a linear orderly fashion\n",
        "  inputs:\n",
        "    args:['nb_cells']\n",
        "  returns:\n",
        "    array of x-coordinates denoting relative phasese of subsquent cells\n",
        "  \"\"\"\n",
        "  \n",
        "  nb_cells = args['nb_cells']\n",
        "  step = lam/nb_cells\n",
        "  phases = np.arange(0, lam, lam/nb_cells)\n",
        "\n",
        "  return phases"
      ],
      "metadata": {
        "id": "oZHETcABiZ_T"
      },
      "execution_count": null,
      "outputs": []
    },
    {
      "cell_type": "code",
      "source": [
        "def multiple_modules(args):\n",
        "  \"\"\"\n",
        "  generate phasese for multiple modules based on given parameters\n",
        "  inputs:\n",
        "    args - ['nb_modules', 'lam_0', 's']\n",
        "  returns:\n",
        "    phases - list of numpy arrays containing phases for individual modules\n",
        "  \"\"\"\n",
        "\n",
        "  nb_modules = args['nb_modules']\n",
        "  lam_0 = args[lam_0]\n",
        "  s = args['s']\n",
        "\n",
        "  phases = []\n",
        "\n",
        "  for i in range(nb_modules):\n",
        "    lam = lam_0/(s**(nb_modules-i-1)\n",
        "    phases.append(grid_module(lam, args))\n",
        "\n",
        "  return phases"
      ],
      "metadata": {
        "id": "nNkUqQyFkdZU"
      },
      "execution_count": null,
      "outputs": []
    },
    {
      "cell_type": "markdown",
      "source": [
        "### Positon Theta Phase Model\n",
        "(Adapted from McClain et al., 2019)\n",
        "**Spatial Input Equation**: (Gaussian to model place cell field)\n",
        "$$ f = e^{A_x}e^{\\frac{-(x-x_0)^2}{2\\sigma^2_x}}  $$\n",
        "\n",
        "**Phase modulation equation**:\n",
        "$$ g(\\theta,x) = e^{k_\\theta(cos(\\theta - \\theta_0(x)) - 1)} $$\n",
        "\n",
        "**Phase precession equation**:\n",
        "$$ \\theta_0(x) = b_\\theta + m_\\theta(x - x_0) $$\n",
        "\n",
        "$ b_\\theta = 0 $: preferred phase at the center of the place field\n",
        "\n",
        "$ m_\\theta = 1 $: rate of phase precession\n",
        "\n",
        "**Rate** (modelled as a product of the spatial input and phase modulation equations):\n",
        "$$ r(x, \\theta) = f(x)\\bullet g(\\theta, x) $$\n",
        "\n",
        "_______________________\n",
        "\n",
        "**Spatial Input Equation** (von Mises tuning for grid fields):\n",
        "$$ \\Omega_j(\\vec{x}) =  n_{max}e^{\\frac{\\kappa}{3} \\Sigma_{l=1}^3(cos(\\omega \\vec{k_l}\\bullet (\\vec{x} - \\vec{c_j})) - 1)}$$\n",
        "\n",
        "**Phase modultion equation**:    \n",
        "$$ g(\\theta, \\vec{x}) = e^{k_\\theta(cos(\\theta - \\theta_0(\\vec{x}))-1)} $$\n",
        "\n",
        "**Phase precession (2-D)**:\n",
        "$$ \\theta_0(\\vec{x}) = b_\\theta + m_\\theta(|\\vec{x} - \\vec{x_0}|)  $$\n",
        "\n",
        "\n",
        "**Rate**:\n",
        "$$ r(\\vec{x}, \\theta) = f(x)\\bullet g(\\theta, \\vec{x})$$\n"
      ],
      "metadata": {
        "id": "ovWL-Yo0sbMj"
      }
    },
    {
      "cell_type": "code",
      "source": [
        "def phase_precession(position, args):\n",
        "  \"\"\"\n",
        "  inputs:\n",
        "    position - x-coordinate (in absolute frame)\n",
        "    ref - origin x-coordinate\n",
        "    args: ['b_theta', 'm_theta', 'x_0']\n",
        "  returns:\n",
        "    value of theta_0 (scalar)\n",
        "  \"\"\"\n",
        "  b_theta = args['b_theta']\n",
        "  m_theta = args['m_theta']\n",
        "  ref = args['x_0']\n",
        "\n",
        "  theta_0 = b_theta + m_theta*(position - ref)\n",
        "\n",
        "  return theta_0"
      ],
      "metadata": {
        "id": "ENC4MVpDriRR"
      },
      "execution_count": null,
      "outputs": []
    },
    {
      "cell_type": "code",
      "source": [
        "def phase_modulation(theta, theta_0, position, args):\n",
        "  \"\"\"\n",
        "  inputs:\n",
        "    theta - \n",
        "    theta_0 - \n",
        "    position - \n",
        "    args:['']\n",
        "  returns:\n",
        "    phase modulation factor value at given postion\n",
        "  \"\"\"\n",
        "  k_theta = args['k_theta']\n",
        "  theta_0 = phase_precession(position, ref, )\n",
        "  modulation_factor = np.exp(k_theta * (np.cos(theta - theta_0)))\n",
        "\n",
        "  return modulation_factor"
      ],
      "metadata": {
        "id": "bNv6NQ4Hr7Ea"
      },
      "execution_count": null,
      "outputs": []
    }
  ]
}